{
  "cells": [
    {
      "cell_type": "markdown",
      "metadata": {
        "id": "view-in-github",
        "colab_type": "text"
      },
      "source": [
        "<a href=\"https://colab.research.google.com/github/sancarg/Natural_Language_Processing/blob/master/NLP_Sentiment_Analysis_Project_D1277.ipynb\" target=\"_parent\"><img src=\"https://colab.research.google.com/assets/colab-badge.svg\" alt=\"Open In Colab\"/></a>"
      ]
    },
    {
      "cell_type": "markdown",
      "metadata": {
        "id": "YCgHlyCtyaZ0"
      },
      "source": [
        "___\n",
        "\n",
        "<p style=\"text-align: center;\"><img src=\"https://docs.google.com/uc?id=1lY0Uj5R04yMY3-ZppPWxqCr5pvBLYPnV\" class=\"img-fluid\" alt=\"CLRSWY\"></p>\n",
        "\n",
        "___"
      ]
    },
    {
      "cell_type": "markdown",
      "metadata": {
        "id": "efAoxo_nyaaA"
      },
      "source": [
        "# WELCOME!"
      ]
    },
    {
      "cell_type": "markdown",
      "metadata": {
        "id": "ussoVSxXyaaC"
      },
      "source": [
        "Welcome to the \"***Sentiment Analysis and Classification Project***\" project, the first and only project of the ***Natural Language Processing (NLP)*** course.\n",
        "\n",
        "This analysis will focus on using Natural Language techniques to find broad trends in the written thoughts of the customers. \n",
        "The goal in this project is to predict whether customers recommend the product they purchased using the information in their review text.\n",
        "\n",
        "One of the challenges in this project is to extract useful information from the *Review Text* variable using text mining techniques. The other challenge is that you need to convert text files into numeric feature vectors to run machine learning algorithms.\n",
        "\n",
        "At the end of this project, you will learn how to build sentiment classification models using Machine Learning algorithms (***Logistic Regression, Naive Bayes, Support Vector Machine, Random Forest*** and ***Ada Boosting***), **Deep Learning algorithms** and **BERT algorithm**.\n",
        "\n",
        "Before diving into the project, please take a look at the Determines and Tasks.\n",
        "\n",
        "- ***NOTE:*** *This tutorial assumes that you already know the basics of coding in Python and are familiar with the theory behind the algorithms mentioned above as well as NLP techniques.*\n",
        "\n"
      ]
    },
    {
      "cell_type": "markdown",
      "metadata": {
        "id": "iDMyWVZKyaaF"
      },
      "source": [
        "---\n",
        "---\n"
      ]
    },
    {
      "cell_type": "markdown",
      "metadata": {
        "id": "nZoVuOBgyaaG"
      },
      "source": [
        "# #Determines\n",
        "The data is a collection of 22641 Rows and 10 column variables. Each row includes a written comment as well as additional customer information. \n",
        "Also each row corresponds to a customer review, and includes the variables:\n",
        "\n",
        "\n",
        "**Feature Information:**\n",
        "\n",
        "**Clothing ID:** Integer Categorical variable that refers to the specific piece being reviewed.\n",
        "\n",
        "**Age:** Positive Integer variable of the reviewers age.\n",
        "\n",
        "**Title:** String variable for the title of the review.\n",
        "\n",
        "**Review Text:** String variable for the review body.\n",
        "\n",
        "**Rating:** Positive Ordinal Integer variable for the product score granted by the customer from 1 Worst, to 5 Best.\n",
        "\n",
        "**Recommended IND:** Binary variable stating where the customer recommends the product where 1 is recommended, 0 is not recommended.\n",
        "\n",
        "**Positive Feedback Count:** Positive Integer documenting the number of other customers who found this review positive.\n",
        "\n",
        "**Division Name:** Categorical name of the product high level division.\n",
        "\n",
        "**Department Name:** Categorical name of the product department name.\n",
        "\n",
        "**Class Name:** Categorical name of the product class name.\n",
        "\n",
        "---\n",
        "\n",
        "The basic goal in this project is to predict whether customers recommend the product they purchased using the information in their *Review Text*.\n",
        "Especially, it should be noted that the expectation in this project is to use only the \"Review Text\" variable and neglect the other ones. \n",
        "Of course, if you want, you can work on other variables individually.\n",
        "\n",
        "Project Structure is separated in five tasks: ***EDA, Feature Selection and Data Cleaning , Text Mining, Word Cloud*** and ***Sentiment Classification with Machine Learning, Deep Learning and BERT model***.\n",
        "\n",
        "Classically, you can start to know the data after doing the import and load operations. \n",
        "You need to do missing value detection for Review Text, which is the only variable you need to care about. You can drop other variables.\n",
        "\n",
        "You will need to apply ***noise removal*** and ***lexicon normalization*** processes by using the capabilities of the ***nltk*** library to the data set that is ready for text mining.\n",
        "\n",
        "Afterwards, you will implement ***Word Cloud*** as a visual analysis of word repetition.\n",
        "\n",
        "Finally, You will build models with five different algorithms and compare their performance. Thus, you will determine the algorithm that makes the most accurate emotion estimation by using the information obtained from the * Review Text * variable.\n",
        "\n",
        "\n",
        "\n",
        "\n"
      ]
    },
    {
      "cell_type": "markdown",
      "metadata": {
        "id": "k1eKT-CuyaaJ"
      },
      "source": [
        "---\n",
        "---\n"
      ]
    },
    {
      "cell_type": "markdown",
      "metadata": {
        "id": "os0DEWrcyaaK"
      },
      "source": [
        "# #Tasks\n",
        "\n",
        "#### 1. Exploratory Data Analysis\n",
        "\n",
        "- Import Modules, Load Discover the Data\n",
        "\n",
        "#### 2. Feature Selection and Data Cleaning\n",
        "\n",
        "- Feature Selection and Rename Column Name\n",
        "- Missing Value Detection\n",
        "\n",
        "#### 3. Text Mining\n",
        "\n",
        "- Tokenization\n",
        "- Noise Removal\n",
        "- Lexicon Normalization\n",
        "\n",
        "#### 4. WordCloud - Repetition of Words\n",
        "\n",
        "- Detect Reviews\n",
        "- Collect Words \n",
        "- Create Word Cloud \n",
        "\n",
        "\n",
        "#### 5. Sentiment Classification with Machine Learning, Deep Learning and BERT Model\n",
        "\n",
        "- Train - Test Split\n",
        "- Vectorization\n",
        "- TF-IDF\n",
        "- Logistic Regression\n",
        "- Naive Bayes\n",
        "- Support Vector Machine\n",
        "- Random Forest\n",
        "- AdaBoost\n",
        "- Deep Learning Model\n",
        "- BERT Model\n",
        "- Model Comparison"
      ]
    },
    {
      "cell_type": "markdown",
      "metadata": {
        "id": "80ATtXzEyaaM"
      },
      "source": [
        "---\n",
        "---\n"
      ]
    },
    {
      "cell_type": "markdown",
      "metadata": {
        "id": "HOkP9vyYCV31"
      },
      "source": [
        "# Sentiment analysis of women's clothes reviews\n",
        "\n",
        "\n",
        "In this project we used sentiment analysis to determined whether the product is recommended or not. We used different machine learning algorithms to get more accurate predictions. The following classification algorithms have been used: ML algorithms(Logistic Regression, Naive Bayes, Support Vector Machine (SVM), Random Forest and Ada Boosting), Deep learning algorithm and BERT algorithm. The dataset comes from Woman Clothing Review that can be find at (https://www.kaggle.com/nicapotato/womens-ecommerce-clothing-reviews. \n"
      ]
    },
    {
      "cell_type": "markdown",
      "metadata": {
        "id": "YkSHQgIGyaaP"
      },
      "source": [
        "## 1. Exploratory Data Analysis"
      ]
    },
    {
      "cell_type": "markdown",
      "metadata": {
        "id": "FXzFEeYkCV32"
      },
      "source": [
        "### Import Libraries, Load and Discover the Data"
      ]
    },
    {
      "cell_type": "code",
      "source": [
        "!pip install matplotlib==3.4"
      ],
      "metadata": {
        "colab": {
          "base_uri": "https://localhost:8080/"
        },
        "id": "zUVfpUwyzimJ",
        "outputId": "4b20ea82-5584-4b38-9751-a92cbc85c782"
      },
      "execution_count": null,
      "outputs": [
        {
          "output_type": "stream",
          "name": "stdout",
          "text": [
            "Looking in indexes: https://pypi.org/simple, https://us-python.pkg.dev/colab-wheels/public/simple/\n",
            "Requirement already satisfied: matplotlib==3.4 in /usr/local/lib/python3.7/dist-packages (3.4.0)\n",
            "Requirement already satisfied: cycler>=0.10 in /usr/local/lib/python3.7/dist-packages (from matplotlib==3.4) (0.11.0)\n",
            "Requirement already satisfied: pyparsing>=2.2.1 in /usr/local/lib/python3.7/dist-packages (from matplotlib==3.4) (3.0.9)\n",
            "Requirement already satisfied: python-dateutil>=2.7 in /usr/local/lib/python3.7/dist-packages (from matplotlib==3.4) (2.8.2)\n",
            "Requirement already satisfied: pillow>=6.2.0 in /usr/local/lib/python3.7/dist-packages (from matplotlib==3.4) (7.1.2)\n",
            "Requirement already satisfied: numpy>=1.16 in /usr/local/lib/python3.7/dist-packages (from matplotlib==3.4) (1.21.6)\n",
            "Requirement already satisfied: kiwisolver>=1.0.1 in /usr/local/lib/python3.7/dist-packages (from matplotlib==3.4) (1.4.4)\n",
            "Requirement already satisfied: typing-extensions in /usr/local/lib/python3.7/dist-packages (from kiwisolver>=1.0.1->matplotlib==3.4) (4.1.1)\n",
            "Requirement already satisfied: six>=1.5 in /usr/local/lib/python3.7/dist-packages (from python-dateutil>=2.7->matplotlib==3.4) (1.15.0)\n"
          ]
        }
      ]
    },
    {
      "cell_type": "code",
      "execution_count": null,
      "metadata": {
        "id": "xNQnqxE7yaaR"
      },
      "outputs": [],
      "source": [
        "import pandas as pd\n",
        "import seaborn as sns\n",
        "import matplotlib.pyplot as plt\n",
        "import nltk\n",
        "from nltk.tokenize import sent_tokenize, word_tokenize\n",
        "from nltk.corpus import stopwords\n",
        "from nltk.stem import WordNetLemmatizer\n",
        "from nltk.stem import PorterStemmer\n",
        "import warnings\n",
        "warnings.filterwarnings(\"ignore\")\n",
        "plt.rcParams[\"figure.figsize\"] = (10,6)\n",
        "pd.set_option('display.max_columns', 50)"
      ]
    },
    {
      "cell_type": "code",
      "execution_count": null,
      "metadata": {
        "id": "j9UnDZTfyaaT",
        "colab": {
          "base_uri": "https://localhost:8080/"
        },
        "outputId": "1675b4e6-6a52-4ef6-d422-0312af9fc11a"
      },
      "outputs": [
        {
          "output_type": "stream",
          "name": "stderr",
          "text": [
            "[nltk_data] Downloading package punkt to /root/nltk_data...\n",
            "[nltk_data]   Package punkt is already up-to-date!\n",
            "[nltk_data] Downloading package stopwords to /root/nltk_data...\n",
            "[nltk_data]   Package stopwords is already up-to-date!\n",
            "[nltk_data] Downloading package wordnet to /root/nltk_data...\n",
            "[nltk_data]   Package wordnet is already up-to-date!\n",
            "[nltk_data] Downloading package omw-1.4 to /root/nltk_data...\n",
            "[nltk_data]   Package omw-1.4 is already up-to-date!\n"
          ]
        },
        {
          "output_type": "execute_result",
          "data": {
            "text/plain": [
              "True"
            ]
          },
          "metadata": {},
          "execution_count": 3
        }
      ],
      "source": [
        "nltk.download('punkt')\n",
        "nltk.download('stopwords')\n",
        "nltk.download('wordnet')\n",
        "nltk.download('omw-1.4')"
      ]
    },
    {
      "cell_type": "code",
      "source": [
        "from google.colab import drive\n",
        "drive.mount('/content/drive')"
      ],
      "metadata": {
        "colab": {
          "base_uri": "https://localhost:8080/"
        },
        "id": "aV0Nm7JgznZ1",
        "outputId": "800c6e23-5458-470c-8680-9736470a2b41"
      },
      "execution_count": null,
      "outputs": [
        {
          "output_type": "stream",
          "name": "stdout",
          "text": [
            "Drive already mounted at /content/drive; to attempt to forcibly remount, call drive.mount(\"/content/drive\", force_remount=True).\n"
          ]
        }
      ]
    },
    {
      "cell_type": "code",
      "source": [
        "df = pd.read_csv(\"/content/drive/MyDrive/Natural_Language_Process/Womens Clothing E-Commerce Reviews.csv\")\n",
        "df.head()"
      ],
      "metadata": {
        "colab": {
          "base_uri": "https://localhost:8080/",
          "height": 545
        },
        "id": "9DMU5Icmzol7",
        "outputId": "a93b6683-ecd7-411e-afb6-0bcc7d2282a7"
      },
      "execution_count": null,
      "outputs": [
        {
          "output_type": "execute_result",
          "data": {
            "text/plain": [
              "   Unnamed: 0  Clothing ID  Age                    Title  \\\n",
              "0           0          767   33                      NaN   \n",
              "1           1         1080   34                      NaN   \n",
              "2           2         1077   60  Some major design flaws   \n",
              "3           3         1049   50         My favorite buy!   \n",
              "4           4          847   47         Flattering shirt   \n",
              "\n",
              "                                         Review Text  Rating  Recommended IND  \\\n",
              "0  Absolutely wonderful - silky and sexy and comf...       4                1   \n",
              "1  Love this dress!  it's sooo pretty.  i happene...       5                1   \n",
              "2  I had such high hopes for this dress and reall...       3                0   \n",
              "3  I love, love, love this jumpsuit. it's fun, fl...       5                1   \n",
              "4  This shirt is very flattering to all due to th...       5                1   \n",
              "\n",
              "   Positive Feedback Count   Division Name Department Name Class Name  \n",
              "0                        0       Initmates        Intimate  Intimates  \n",
              "1                        4         General         Dresses    Dresses  \n",
              "2                        0         General         Dresses    Dresses  \n",
              "3                        0  General Petite         Bottoms      Pants  \n",
              "4                        6         General            Tops    Blouses  "
            ],
            "text/html": [
              "\n",
              "  <div id=\"df-32fe66ad-7c09-4083-921d-6ba22eb85499\">\n",
              "    <div class=\"colab-df-container\">\n",
              "      <div>\n",
              "<style scoped>\n",
              "    .dataframe tbody tr th:only-of-type {\n",
              "        vertical-align: middle;\n",
              "    }\n",
              "\n",
              "    .dataframe tbody tr th {\n",
              "        vertical-align: top;\n",
              "    }\n",
              "\n",
              "    .dataframe thead th {\n",
              "        text-align: right;\n",
              "    }\n",
              "</style>\n",
              "<table border=\"1\" class=\"dataframe\">\n",
              "  <thead>\n",
              "    <tr style=\"text-align: right;\">\n",
              "      <th></th>\n",
              "      <th>Unnamed: 0</th>\n",
              "      <th>Clothing ID</th>\n",
              "      <th>Age</th>\n",
              "      <th>Title</th>\n",
              "      <th>Review Text</th>\n",
              "      <th>Rating</th>\n",
              "      <th>Recommended IND</th>\n",
              "      <th>Positive Feedback Count</th>\n",
              "      <th>Division Name</th>\n",
              "      <th>Department Name</th>\n",
              "      <th>Class Name</th>\n",
              "    </tr>\n",
              "  </thead>\n",
              "  <tbody>\n",
              "    <tr>\n",
              "      <th>0</th>\n",
              "      <td>0</td>\n",
              "      <td>767</td>\n",
              "      <td>33</td>\n",
              "      <td>NaN</td>\n",
              "      <td>Absolutely wonderful - silky and sexy and comf...</td>\n",
              "      <td>4</td>\n",
              "      <td>1</td>\n",
              "      <td>0</td>\n",
              "      <td>Initmates</td>\n",
              "      <td>Intimate</td>\n",
              "      <td>Intimates</td>\n",
              "    </tr>\n",
              "    <tr>\n",
              "      <th>1</th>\n",
              "      <td>1</td>\n",
              "      <td>1080</td>\n",
              "      <td>34</td>\n",
              "      <td>NaN</td>\n",
              "      <td>Love this dress!  it's sooo pretty.  i happene...</td>\n",
              "      <td>5</td>\n",
              "      <td>1</td>\n",
              "      <td>4</td>\n",
              "      <td>General</td>\n",
              "      <td>Dresses</td>\n",
              "      <td>Dresses</td>\n",
              "    </tr>\n",
              "    <tr>\n",
              "      <th>2</th>\n",
              "      <td>2</td>\n",
              "      <td>1077</td>\n",
              "      <td>60</td>\n",
              "      <td>Some major design flaws</td>\n",
              "      <td>I had such high hopes for this dress and reall...</td>\n",
              "      <td>3</td>\n",
              "      <td>0</td>\n",
              "      <td>0</td>\n",
              "      <td>General</td>\n",
              "      <td>Dresses</td>\n",
              "      <td>Dresses</td>\n",
              "    </tr>\n",
              "    <tr>\n",
              "      <th>3</th>\n",
              "      <td>3</td>\n",
              "      <td>1049</td>\n",
              "      <td>50</td>\n",
              "      <td>My favorite buy!</td>\n",
              "      <td>I love, love, love this jumpsuit. it's fun, fl...</td>\n",
              "      <td>5</td>\n",
              "      <td>1</td>\n",
              "      <td>0</td>\n",
              "      <td>General Petite</td>\n",
              "      <td>Bottoms</td>\n",
              "      <td>Pants</td>\n",
              "    </tr>\n",
              "    <tr>\n",
              "      <th>4</th>\n",
              "      <td>4</td>\n",
              "      <td>847</td>\n",
              "      <td>47</td>\n",
              "      <td>Flattering shirt</td>\n",
              "      <td>This shirt is very flattering to all due to th...</td>\n",
              "      <td>5</td>\n",
              "      <td>1</td>\n",
              "      <td>6</td>\n",
              "      <td>General</td>\n",
              "      <td>Tops</td>\n",
              "      <td>Blouses</td>\n",
              "    </tr>\n",
              "  </tbody>\n",
              "</table>\n",
              "</div>\n",
              "      <button class=\"colab-df-convert\" onclick=\"convertToInteractive('df-32fe66ad-7c09-4083-921d-6ba22eb85499')\"\n",
              "              title=\"Convert this dataframe to an interactive table.\"\n",
              "              style=\"display:none;\">\n",
              "        \n",
              "  <svg xmlns=\"http://www.w3.org/2000/svg\" height=\"24px\"viewBox=\"0 0 24 24\"\n",
              "       width=\"24px\">\n",
              "    <path d=\"M0 0h24v24H0V0z\" fill=\"none\"/>\n",
              "    <path d=\"M18.56 5.44l.94 2.06.94-2.06 2.06-.94-2.06-.94-.94-2.06-.94 2.06-2.06.94zm-11 1L8.5 8.5l.94-2.06 2.06-.94-2.06-.94L8.5 2.5l-.94 2.06-2.06.94zm10 10l.94 2.06.94-2.06 2.06-.94-2.06-.94-.94-2.06-.94 2.06-2.06.94z\"/><path d=\"M17.41 7.96l-1.37-1.37c-.4-.4-.92-.59-1.43-.59-.52 0-1.04.2-1.43.59L10.3 9.45l-7.72 7.72c-.78.78-.78 2.05 0 2.83L4 21.41c.39.39.9.59 1.41.59.51 0 1.02-.2 1.41-.59l7.78-7.78 2.81-2.81c.8-.78.8-2.07 0-2.86zM5.41 20L4 18.59l7.72-7.72 1.47 1.35L5.41 20z\"/>\n",
              "  </svg>\n",
              "      </button>\n",
              "      \n",
              "  <style>\n",
              "    .colab-df-container {\n",
              "      display:flex;\n",
              "      flex-wrap:wrap;\n",
              "      gap: 12px;\n",
              "    }\n",
              "\n",
              "    .colab-df-convert {\n",
              "      background-color: #E8F0FE;\n",
              "      border: none;\n",
              "      border-radius: 50%;\n",
              "      cursor: pointer;\n",
              "      display: none;\n",
              "      fill: #1967D2;\n",
              "      height: 32px;\n",
              "      padding: 0 0 0 0;\n",
              "      width: 32px;\n",
              "    }\n",
              "\n",
              "    .colab-df-convert:hover {\n",
              "      background-color: #E2EBFA;\n",
              "      box-shadow: 0px 1px 2px rgba(60, 64, 67, 0.3), 0px 1px 3px 1px rgba(60, 64, 67, 0.15);\n",
              "      fill: #174EA6;\n",
              "    }\n",
              "\n",
              "    [theme=dark] .colab-df-convert {\n",
              "      background-color: #3B4455;\n",
              "      fill: #D2E3FC;\n",
              "    }\n",
              "\n",
              "    [theme=dark] .colab-df-convert:hover {\n",
              "      background-color: #434B5C;\n",
              "      box-shadow: 0px 1px 3px 1px rgba(0, 0, 0, 0.15);\n",
              "      filter: drop-shadow(0px 1px 2px rgba(0, 0, 0, 0.3));\n",
              "      fill: #FFFFFF;\n",
              "    }\n",
              "  </style>\n",
              "\n",
              "      <script>\n",
              "        const buttonEl =\n",
              "          document.querySelector('#df-32fe66ad-7c09-4083-921d-6ba22eb85499 button.colab-df-convert');\n",
              "        buttonEl.style.display =\n",
              "          google.colab.kernel.accessAllowed ? 'block' : 'none';\n",
              "\n",
              "        async function convertToInteractive(key) {\n",
              "          const element = document.querySelector('#df-32fe66ad-7c09-4083-921d-6ba22eb85499');\n",
              "          const dataTable =\n",
              "            await google.colab.kernel.invokeFunction('convertToInteractive',\n",
              "                                                     [key], {});\n",
              "          if (!dataTable) return;\n",
              "\n",
              "          const docLinkHtml = 'Like what you see? Visit the ' +\n",
              "            '<a target=\"_blank\" href=https://colab.research.google.com/notebooks/data_table.ipynb>data table notebook</a>'\n",
              "            + ' to learn more about interactive tables.';\n",
              "          element.innerHTML = '';\n",
              "          dataTable['output_type'] = 'display_data';\n",
              "          await google.colab.output.renderOutput(dataTable, element);\n",
              "          const docLink = document.createElement('div');\n",
              "          docLink.innerHTML = docLinkHtml;\n",
              "          element.appendChild(docLink);\n",
              "        }\n",
              "      </script>\n",
              "    </div>\n",
              "  </div>\n",
              "  "
            ]
          },
          "metadata": {},
          "execution_count": 5
        }
      ]
    },
    {
      "cell_type": "markdown",
      "metadata": {
        "id": "T54GVJwICV36"
      },
      "source": [
        "### Data Wrangling"
      ]
    },
    {
      "cell_type": "code",
      "source": [
        "df.info()"
      ],
      "metadata": {
        "colab": {
          "base_uri": "https://localhost:8080/"
        },
        "id": "0RJZCWQ53pWC",
        "outputId": "5129ab4e-6b7b-43ac-d58d-f03b361eb627"
      },
      "execution_count": null,
      "outputs": [
        {
          "output_type": "stream",
          "name": "stdout",
          "text": [
            "<class 'pandas.core.frame.DataFrame'>\n",
            "RangeIndex: 23486 entries, 0 to 23485\n",
            "Data columns (total 11 columns):\n",
            " #   Column                   Non-Null Count  Dtype \n",
            "---  ------                   --------------  ----- \n",
            " 0   Unnamed: 0               23486 non-null  int64 \n",
            " 1   Clothing ID              23486 non-null  int64 \n",
            " 2   Age                      23486 non-null  int64 \n",
            " 3   Title                    19676 non-null  object\n",
            " 4   Review Text              22641 non-null  object\n",
            " 5   Rating                   23486 non-null  int64 \n",
            " 6   Recommended IND          23486 non-null  int64 \n",
            " 7   Positive Feedback Count  23486 non-null  int64 \n",
            " 8   Division Name            23472 non-null  object\n",
            " 9   Department Name          23472 non-null  object\n",
            " 10  Class Name               23472 non-null  object\n",
            "dtypes: int64(6), object(5)\n",
            "memory usage: 2.0+ MB\n"
          ]
        }
      ]
    },
    {
      "cell_type": "code",
      "source": [
        "ax = sns.countplot(x=\"Rating\", data=df, hue = \"Recommended IND\")\n",
        "for p in ax.containers:\n",
        "    ax.bar_label(p)"
      ],
      "metadata": {
        "colab": {
          "base_uri": "https://localhost:8080/",
          "height": 388
        },
        "id": "h5VLdp1M3uWi",
        "outputId": "7e7fe096-8dcd-4e06-e32c-7ed245c03aae"
      },
      "execution_count": null,
      "outputs": [
        {
          "output_type": "display_data",
          "data": {
            "text/plain": [
              "<Figure size 720x432 with 1 Axes>"
            ],
            "image/png": "[encoded data removed]"
          },
          "metadata": {
            "needs_background": "light"
          }
        }
      ]
    },
    {
      "cell_type": "code",
      "source": [
        "ax = sns.countplot(data =df, x = \"Recommended IND\")\n",
        "ax.bar_label(ax.containers[0]);"
      ],
      "metadata": {
        "colab": {
          "base_uri": "https://localhost:8080/",
          "height": 388
        },
        "id": "_miAGHEG33J7",
        "outputId": "5141ec6f-6a07-49f5-b5d4-d07cbe34d438"
      },
      "execution_count": null,
      "outputs": [
        {
          "output_type": "display_data",
          "data": {
            "text/plain": [
              "<Figure size 720x432 with 1 Axes>"
            ],
            "image/png": "[encoded data removed]"
          },
          "metadata": {
            "needs_background": "light"
          }
        }
      ]
    },
    {
      "cell_type": "code",
      "source": [
        "df[(df[\"Rating\"] == 1) & (df[\"Recommended IND\"] == 1)][\"Review Text\"]"
      ],
      "metadata": {
        "colab": {
          "base_uri": "https://localhost:8080/"
        },
        "id": "zetOMV0754N6",
        "outputId": "bfffe05a-fdea-4be1-fa07-2df97ee5b499"
      },
      "execution_count": null,
      "outputs": [
        {
          "output_type": "execute_result",
          "data": {
            "text/plain": [
              "2427     Beautiful jacket and i got lots of compliments...\n",
              "2872     Very cute top. i went down a size because for ...\n",
              "5570     I love this t-shirt because it has the combina...\n",
              "6216     Love the movement of the blouse and how it fal...\n",
              "7740     I loved the color and design until i tried it ...\n",
              "7850     This is so close to perfect, but there's a sea...\n",
              "9877     I loved the dress, but just not dressy enough ...\n",
              "10517    I saw this dress in the catalog and had to hav...\n",
              "13607    Such a great dress. fit is flattering. the sma...\n",
              "16194    This is an extremely flattering dress. i could...\n",
              "16428    Love this top! it's pretty, unique and well ma...\n",
              "16995    Love the jacket! so versatile! would probably ...\n",
              "18676    This is a cute dress, but not for me. 1. i thi...\n",
              "20649                                                  NaN\n",
              "22087    Love this top! but unfortunately i returned it...\n",
              "22632    Just wanted to review so people know this hood...\n",
              "Name: Review Text, dtype: object"
            ]
          },
          "metadata": {},
          "execution_count": 9
        }
      ]
    },
    {
      "cell_type": "code",
      "source": [
        "len(df[(df[\"Rating\"] == 1) & (df[\"Recommended IND\"] == 1)])"
      ],
      "metadata": {
        "colab": {
          "base_uri": "https://localhost:8080/"
        },
        "id": "MVQk7d7v6XaK",
        "outputId": "e3d9a9e8-310e-435f-c38a-b52f40dc4e63"
      },
      "execution_count": null,
      "outputs": [
        {
          "output_type": "execute_result",
          "data": {
            "text/plain": [
              "16"
            ]
          },
          "metadata": {},
          "execution_count": 10
        }
      ]
    },
    {
      "cell_type": "code",
      "source": [
        "df[(df[\"Rating\"] == 2) & (df[\"Recommended IND\"] == 1)][\"Review Text\"]"
      ],
      "metadata": {
        "colab": {
          "base_uri": "https://localhost:8080/"
        },
        "id": "ZO4uMhAW6IKo",
        "outputId": "af8352ad-044a-4a3f-b34f-1fdda216fa37"
      },
      "execution_count": null,
      "outputs": [
        {
          "output_type": "execute_result",
          "data": {
            "text/plain": [
              "403      I got this top to wear with shorts as the colo...\n",
              "503      Is not a place i want to be, even if the style...\n",
              "551      I loved this dress when i saw it. however the ...\n",
              "829      I ordered the in the emerald green and it was ...\n",
              "1027     I am 5'6\", 130 lbs with an athletic body type ...\n",
              "                               ...                        \n",
              "22824    1. i'm 5'6\" tall with a short waist and long l...\n",
              "22989    The reason for the title above is this skirt d...\n",
              "23282    So after reading the 2 reviews, decided to jus...\n",
              "23320    I love the look of this dress but it runs very...\n",
              "23375    I love this dress but i will return it because...\n",
              "Name: Review Text, Length: 94, dtype: object"
            ]
          },
          "metadata": {},
          "execution_count": 11
        }
      ]
    },
    {
      "cell_type": "code",
      "source": [
        "len(df[(df[\"Rating\"] == 2) & (df[\"Recommended IND\"] == 1)])"
      ],
      "metadata": {
        "colab": {
          "base_uri": "https://localhost:8080/"
        },
        "id": "Q4WV4DD36rK6",
        "outputId": "99534500-3b24-4947-dadd-d973e81de7a9"
      },
      "execution_count": null,
      "outputs": [
        {
          "output_type": "execute_result",
          "data": {
            "text/plain": [
              "94"
            ]
          },
          "metadata": {},
          "execution_count": 12
        }
      ]
    },
    {
      "cell_type": "code",
      "source": [
        "df[(df[\"Rating\"] == 3) & (df[\"Recommended IND\"] == 1)][\"Review Text\"]"
      ],
      "metadata": {
        "colab": {
          "base_uri": "https://localhost:8080/"
        },
        "id": "Cd3p1oop6Qaz",
        "outputId": "839d5ac0-815b-4335-9dad-b34d9a3e9855"
      },
      "execution_count": null,
      "outputs": [
        {
          "output_type": "execute_result",
          "data": {
            "text/plain": [
              "14       This is a nice choice for holiday gatherings. ...\n",
              "16       Material and color is nice.  the leg opening i...\n",
              "23       Cute little dress fits tts. it is a little hig...\n",
              "52       Love the color and style, but material snags e...\n",
              "84       I received this shirt in my typical xs and it ...\n",
              "                               ...                        \n",
              "23452    I ordered this skirt hoping i could wear it to...\n",
              "23462    The pattern of this skirt is adorable and look...\n",
              "23475    Cute dress but not for me.  the waist is too h...\n",
              "23482    It reminds me of maternity clothes. soft, stre...\n",
              "23484    I bought this dress for a wedding i have this ...\n",
              "Name: Review Text, Length: 1189, dtype: object"
            ]
          },
          "metadata": {},
          "execution_count": 13
        }
      ]
    },
    {
      "cell_type": "code",
      "source": [
        "len(df[(df[\"Rating\"] == 3) & (df[\"Recommended IND\"] == 1)])"
      ],
      "metadata": {
        "colab": {
          "base_uri": "https://localhost:8080/"
        },
        "id": "SlmirGh362Cp",
        "outputId": "2cd30018-082a-4dc2-cf59-f47f68bf843a"
      },
      "execution_count": null,
      "outputs": [
        {
          "output_type": "execute_result",
          "data": {
            "text/plain": [
              "1189"
            ]
          },
          "metadata": {},
          "execution_count": 14
        }
      ]
    },
    {
      "cell_type": "code",
      "source": [
        "len(df[(df[\"Rating\"] == 4) & (df[\"Recommended IND\"] == 0)])"
      ],
      "metadata": {
        "colab": {
          "base_uri": "https://localhost:8080/"
        },
        "id": "o5nZLEms67u9",
        "outputId": "d0f703a1-24b1-4b90-87b3-1998a73122e6"
      },
      "execution_count": null,
      "outputs": [
        {
          "output_type": "execute_result",
          "data": {
            "text/plain": [
              "168"
            ]
          },
          "metadata": {},
          "execution_count": 15
        }
      ]
    },
    {
      "cell_type": "code",
      "source": [
        "len(df[(df[\"Rating\"] == 5) & (df[\"Recommended IND\"] == 0)])"
      ],
      "metadata": {
        "colab": {
          "base_uri": "https://localhost:8080/"
        },
        "id": "L4ENu1HN7HLj",
        "outputId": "ac11659d-050d-4cd3-88ed-2c38adae7b5d"
      },
      "execution_count": null,
      "outputs": [
        {
          "output_type": "execute_result",
          "data": {
            "text/plain": [
              "25"
            ]
          },
          "metadata": {},
          "execution_count": 16
        }
      ]
    },
    {
      "cell_type": "code",
      "source": [
        "# We will drop the unrelavant recommend and ratings \n",
        "df = df[~((df[\"Rating\"] == 1) & (df[\"Recommended IND\"] == 1))]\n",
        "df = df[~((df[\"Rating\"] == 2) & (df[\"Recommended IND\"] == 1))]\n",
        "df = df[~((df[\"Rating\"] == 3) & (df[\"Recommended IND\"] == 1))]\n",
        "df = df[~((df[\"Rating\"] == 4) & (df[\"Recommended IND\"] == 0))]\n",
        "df = df[~((df[\"Rating\"] == 5) & (df[\"Recommended IND\"] == 0))]"
      ],
      "metadata": {
        "id": "94xmQWou7Mb0"
      },
      "execution_count": null,
      "outputs": []
    },
    {
      "cell_type": "code",
      "source": [
        "ax = sns.countplot(x=\"Rating\", data=df, hue = \"Recommended IND\")\n",
        "for p in ax.containers:\n",
        "  ax.bar_label(p, label_type=\"center\")"
      ],
      "metadata": {
        "colab": {
          "base_uri": "https://localhost:8080/",
          "height": 388
        },
        "id": "d87sWtfh7ixo",
        "outputId": "f0d0c377-29ad-4e0b-db30-27240d9bbfa1"
      },
      "execution_count": null,
      "outputs": [
        {
          "output_type": "display_data",
          "data": {
            "text/plain": [
              "<Figure size 720x432 with 1 Axes>"
            ],
            "image/png": "[encoded data removed]"
          },
          "metadata": {
            "needs_background": "light"
          }
        }
      ]
    },
    {
      "cell_type": "markdown",
      "metadata": {
        "id": "AQuhTpcwCV38"
      },
      "source": [
        "#### Check Proportion of Target Class Variable:"
      ]
    },
    {
      "cell_type": "markdown",
      "metadata": {
        "id": "0YXKZ5QgCV39"
      },
      "source": [
        "The target class variable is imbalanced, where \"Recommended\" values are more dominating then \"Not Recommendation\"."
      ]
    },
    {
      "cell_type": "code",
      "source": [
        "ax = sns.countplot(data =df, x = \"Recommended IND\")\n",
        "ax.bar_label(ax.containers[0]);"
      ],
      "metadata": {
        "colab": {
          "base_uri": "https://localhost:8080/",
          "height": 388
        },
        "id": "mP40wZZx37PO",
        "outputId": "0ff5b689-6530-414b-b4fd-d5d5544e7e93"
      },
      "execution_count": null,
      "outputs": [
        {
          "output_type": "display_data",
          "data": {
            "text/plain": [
              "<Figure size 720x432 with 1 Axes>"
            ],
            "image/png": "[encoded data removed]"
          },
          "metadata": {
            "needs_background": "light"
          }
        }
      ]
    },
    {
      "cell_type": "markdown",
      "metadata": {
        "id": "cPEVV0JGCV37"
      },
      "source": [
        "## 2. Feature Selection and Data Cleaning\n",
        "\n",
        "From now on, the DataFrame you will work with should contain two columns: **\"Review Text\"** and **\"Recommended IND\"**. You can do the missing value detection operations from now on. You can also rename the column names if you want.\n",
        "\n"
      ]
    },
    {
      "cell_type": "markdown",
      "metadata": {
        "id": "L06bPXRDyaaa"
      },
      "source": [
        "### Feature Selection and Rename Column Name"
      ]
    },
    {
      "cell_type": "code",
      "execution_count": null,
      "metadata": {
        "id": "odShfMvTyaab",
        "colab": {
          "base_uri": "https://localhost:8080/",
          "height": 206
        },
        "outputId": "4c7733f2-f73f-47f3-abf9-bf35131dfc31"
      },
      "outputs": [
        {
          "output_type": "execute_result",
          "data": {
            "text/plain": [
              "                                         Review Text  Recommended IND\n",
              "0  Absolutely wonderful - silky and sexy and comf...                1\n",
              "1  Love this dress!  it's sooo pretty.  i happene...                1\n",
              "2  I had such high hopes for this dress and reall...                0\n",
              "3  I love, love, love this jumpsuit. it's fun, fl...                1\n",
              "4  This shirt is very flattering to all due to th...                1"
            ],
            "text/html": [
              "\n",
              "  <div id=\"df-23ce386e-9e4b-478d-bad3-3acf7b19be59\">\n",
              "    <div class=\"colab-df-container\">\n",
              "      <div>\n",
              "<style scoped>\n",
              "    .dataframe tbody tr th:only-of-type {\n",
              "        vertical-align: middle;\n",
              "    }\n",
              "\n",
              "    .dataframe tbody tr th {\n",
              "        vertical-align: top;\n",
              "    }\n",
              "\n",
              "    .dataframe thead th {\n",
              "        text-align: right;\n",
              "    }\n",
              "</style>\n",
              "<table border=\"1\" class=\"dataframe\">\n",
              "  <thead>\n",
              "    <tr style=\"text-align: right;\">\n",
              "      <th></th>\n",
              "      <th>Review Text</th>\n",
              "      <th>Recommended IND</th>\n",
              "    </tr>\n",
              "  </thead>\n",
              "  <tbody>\n",
              "    <tr>\n",
              "      <th>0</th>\n",
              "      <td>Absolutely wonderful - silky and sexy and comf...</td>\n",
              "      <td>1</td>\n",
              "    </tr>\n",
              "    <tr>\n",
              "      <th>1</th>\n",
              "      <td>Love this dress!  it's sooo pretty.  i happene...</td>\n",
              "      <td>1</td>\n",
              "    </tr>\n",
              "    <tr>\n",
              "      <th>2</th>\n",
              "      <td>I had such high hopes for this dress and reall...</td>\n",
              "      <td>0</td>\n",
              "    </tr>\n",
              "    <tr>\n",
              "      <th>3</th>\n",
              "      <td>I love, love, love this jumpsuit. it's fun, fl...</td>\n",
              "      <td>1</td>\n",
              "    </tr>\n",
              "    <tr>\n",
              "      <th>4</th>\n",
              "      <td>This shirt is very flattering to all due to th...</td>\n",
              "      <td>1</td>\n",
              "    </tr>\n",
              "  </tbody>\n",
              "</table>\n",
              "</div>\n",
              "      <button class=\"colab-df-convert\" onclick=\"convertToInteractive('df-23ce386e-9e4b-478d-bad3-3acf7b19be59')\"\n",
              "              title=\"Convert this dataframe to an interactive table.\"\n",
              "              style=\"display:none;\">\n",
              "        \n",
              "  <svg xmlns=\"http://www.w3.org/2000/svg\" height=\"24px\"viewBox=\"0 0 24 24\"\n",
              "       width=\"24px\">\n",
              "    <path d=\"M0 0h24v24H0V0z\" fill=\"none\"/>\n",
              "    <path d=\"M18.56 5.44l.94 2.06.94-2.06 2.06-.94-2.06-.94-.94-2.06-.94 2.06-2.06.94zm-11 1L8.5 8.5l.94-2.06 2.06-.94-2.06-.94L8.5 2.5l-.94 2.06-2.06.94zm10 10l.94 2.06.94-2.06 2.06-.94-2.06-.94-.94-2.06-.94 2.06-2.06.94z\"/><path d=\"M17.41 7.96l-1.37-1.37c-.4-.4-.92-.59-1.43-.59-.52 0-1.04.2-1.43.59L10.3 9.45l-7.72 7.72c-.78.78-.78 2.05 0 2.83L4 21.41c.39.39.9.59 1.41.59.51 0 1.02-.2 1.41-.59l7.78-7.78 2.81-2.81c.8-.78.8-2.07 0-2.86zM5.41 20L4 18.59l7.72-7.72 1.47 1.35L5.41 20z\"/>\n",
              "  </svg>\n",
              "      </button>\n",
              "      \n",
              "  <style>\n",
              "    .colab-df-container {\n",
              "      display:flex;\n",
              "      flex-wrap:wrap;\n",
              "      gap: 12px;\n",
              "    }\n",
              "\n",
              "    .colab-df-convert {\n",
              "      background-color: #E8F0FE;\n",
              "      border: none;\n",
              "      border-radius: 50%;\n",
              "      cursor: pointer;\n",
              "      display: none;\n",
              "      fill: #1967D2;\n",
              "      height: 32px;\n",
              "      padding: 0 0 0 0;\n",
              "      width: 32px;\n",
              "    }\n",
              "\n",
              "    .colab-df-convert:hover {\n",
              "      background-color: #E2EBFA;\n",
              "      box-shadow: 0px 1px 2px rgba(60, 64, 67, 0.3), 0px 1px 3px 1px rgba(60, 64, 67, 0.15);\n",
              "      fill: #174EA6;\n",
              "    }\n",
              "\n",
              "    [theme=dark] .colab-df-convert {\n",
              "      background-color: #3B4455;\n",
              "      fill: #D2E3FC;\n",
              "    }\n",
              "\n",
              "    [theme=dark] .colab-df-convert:hover {\n",
              "      background-color: #434B5C;\n",
              "      box-shadow: 0px 1px 3px 1px rgba(0, 0, 0, 0.15);\n",
              "      filter: drop-shadow(0px 1px 2px rgba(0, 0, 0, 0.3));\n",
              "      fill: #FFFFFF;\n",
              "    }\n",
              "  </style>\n",
              "\n",
              "      <script>\n",
              "        const buttonEl =\n",
              "          document.querySelector('#df-23ce386e-9e4b-478d-bad3-3acf7b19be59 button.colab-df-convert');\n",
              "        buttonEl.style.display =\n",
              "          google.colab.kernel.accessAllowed ? 'block' : 'none';\n",
              "\n",
              "        async function convertToInteractive(key) {\n",
              "          const element = document.querySelector('#df-23ce386e-9e4b-478d-bad3-3acf7b19be59');\n",
              "          const dataTable =\n",
              "            await google.colab.kernel.invokeFunction('convertToInteractive',\n",
              "                                                     [key], {});\n",
              "          if (!dataTable) return;\n",
              "\n",
              "          const docLinkHtml = 'Like what you see? Visit the ' +\n",
              "            '<a target=\"_blank\" href=https://colab.research.google.com/notebooks/data_table.ipynb>data table notebook</a>'\n",
              "            + ' to learn more about interactive tables.';\n",
              "          element.innerHTML = '';\n",
              "          dataTable['output_type'] = 'display_data';\n",
              "          await google.colab.output.renderOutput(dataTable, element);\n",
              "          const docLink = document.createElement('div');\n",
              "          docLink.innerHTML = docLinkHtml;\n",
              "          element.appendChild(docLink);\n",
              "        }\n",
              "      </script>\n",
              "    </div>\n",
              "  </div>\n",
              "  "
            ]
          },
          "metadata": {},
          "execution_count": 20
        }
      ],
      "source": [
        "df=df[['Review Text','Recommended IND']]\n",
        "df.head()"
      ]
    },
    {
      "cell_type": "code",
      "execution_count": null,
      "metadata": {
        "id": "UzUwT6Alyaab",
        "colab": {
          "base_uri": "https://localhost:8080/",
          "height": 388
        },
        "outputId": "67a84e20-d7d9-4065-a505-6ece2572c2a3"
      },
      "outputs": [
        {
          "output_type": "display_data",
          "data": {
            "text/plain": [
              "<Figure size 720x432 with 1 Axes>"
            ],
            "image/png": "[encoded data removed]"
          },
          "metadata": {
            "needs_background": "light"
          }
        }
      ],
      "source": [
        "ax = sns.countplot(data =df, x = \"Recommended IND\")\n",
        "ax.bar_label(ax.containers[0]);"
      ]
    },
    {
      "cell_type": "markdown",
      "metadata": {
        "id": "XxT4Uo_eyaac"
      },
      "source": [
        "---\n",
        "---\n"
      ]
    },
    {
      "cell_type": "markdown",
      "metadata": {
        "id": "vl2h73vYCV38"
      },
      "source": [
        "### Missing Value Detection"
      ]
    },
    {
      "cell_type": "code",
      "execution_count": null,
      "metadata": {
        "id": "5po56Cqmyaad",
        "colab": {
          "base_uri": "https://localhost:8080/"
        },
        "outputId": "9d6e2dbd-c35a-4a07-f086-61d805f9aee8"
      },
      "outputs": [
        {
          "output_type": "execute_result",
          "data": {
            "text/plain": [
              "Review Text        819\n",
              "Recommended IND      0\n",
              "dtype: int64"
            ]
          },
          "metadata": {},
          "execution_count": 22
        }
      ],
      "source": [
        "df.isnull().sum()"
      ]
    },
    {
      "cell_type": "markdown",
      "source": [
        "We don't need fillna the null values in NLP"
      ],
      "metadata": {
        "id": "CyQZBica9f-6"
      }
    },
    {
      "cell_type": "code",
      "execution_count": null,
      "metadata": {
        "id": "tDw7hf8qyaad",
        "colab": {
          "base_uri": "https://localhost:8080/",
          "height": 424
        },
        "outputId": "91b690c7-568a-4cec-bcbe-291a0d88cf1d"
      },
      "outputs": [
        {
          "output_type": "execute_result",
          "data": {
            "text/plain": [
              "                                             Review Text  Recommended IND\n",
              "0      Absolutely wonderful - silky and sexy and comf...                1\n",
              "1      Love this dress!  it's sooo pretty.  i happene...                1\n",
              "2      I had such high hopes for this dress and reall...                0\n",
              "3      I love, love, love this jumpsuit. it's fun, fl...                1\n",
              "4      This shirt is very flattering to all due to th...                1\n",
              "...                                                  ...              ...\n",
              "21170  I was surprised at the positive reviews for th...                0\n",
              "21171  So i wasn't sure about ordering this skirt bec...                1\n",
              "21172  I was very happy to snag this dress at such a ...                1\n",
              "21173  This fit well, but the top was very see throug...                0\n",
              "21174  This dress in a lovely platinum is feminine an...                1\n",
              "\n",
              "[21175 rows x 2 columns]"
            ],
            "text/html": [
              "\n",
              "  <div id=\"df-a9cbbefc-2bac-4200-8ccf-bd44da893eea\">\n",
              "    <div class=\"colab-df-container\">\n",
              "      <div>\n",
              "<style scoped>\n",
              "    .dataframe tbody tr th:only-of-type {\n",
              "        vertical-align: middle;\n",
              "    }\n",
              "\n",
              "    .dataframe tbody tr th {\n",
              "        vertical-align: top;\n",
              "    }\n",
              "\n",
              "    .dataframe thead th {\n",
              "        text-align: right;\n",
              "    }\n",
              "</style>\n",
              "<table border=\"1\" class=\"dataframe\">\n",
              "  <thead>\n",
              "    <tr style=\"text-align: right;\">\n",
              "      <th></th>\n",
              "      <th>Review Text</th>\n",
              "      <th>Recommended IND</th>\n",
              "    </tr>\n",
              "  </thead>\n",
              "  <tbody>\n",
              "    <tr>\n",
              "      <th>0</th>\n",
              "      <td>Absolutely wonderful - silky and sexy and comf...</td>\n",
              "      <td>1</td>\n",
              "    </tr>\n",
              "    <tr>\n",
              "      <th>1</th>\n",
              "      <td>Love this dress!  it's sooo pretty.  i happene...</td>\n",
              "      <td>1</td>\n",
              "    </tr>\n",
              "    <tr>\n",
              "      <th>2</th>\n",
              "      <td>I had such high hopes for this dress and reall...</td>\n",
              "      <td>0</td>\n",
              "    </tr>\n",
              "    <tr>\n",
              "      <th>3</th>\n",
              "      <td>I love, love, love this jumpsuit. it's fun, fl...</td>\n",
              "      <td>1</td>\n",
              "    </tr>\n",
              "    <tr>\n",
              "      <th>4</th>\n",
              "      <td>This shirt is very flattering to all due to th...</td>\n",
              "      <td>1</td>\n",
              "    </tr>\n",
              "    <tr>\n",
              "      <th>...</th>\n",
              "      <td>...</td>\n",
              "      <td>...</td>\n",
              "    </tr>\n",
              "    <tr>\n",
              "      <th>21170</th>\n",
              "      <td>I was surprised at the positive reviews for th...</td>\n",
              "      <td>0</td>\n",
              "    </tr>\n",
              "    <tr>\n",
              "      <th>21171</th>\n",
              "      <td>So i wasn't sure about ordering this skirt bec...</td>\n",
              "      <td>1</td>\n",
              "    </tr>\n",
              "    <tr>\n",
              "      <th>21172</th>\n",
              "      <td>I was very happy to snag this dress at such a ...</td>\n",
              "      <td>1</td>\n",
              "    </tr>\n",
              "    <tr>\n",
              "      <th>21173</th>\n",
              "      <td>This fit well, but the top was very see throug...</td>\n",
              "      <td>0</td>\n",
              "    </tr>\n",
              "    <tr>\n",
              "      <th>21174</th>\n",
              "      <td>This dress in a lovely platinum is feminine an...</td>\n",
              "      <td>1</td>\n",
              "    </tr>\n",
              "  </tbody>\n",
              "</table>\n",
              "<p>21175 rows × 2 columns</p>\n",
              "</div>\n",
              "      <button class=\"colab-df-convert\" onclick=\"convertToInteractive('df-a9cbbefc-2bac-4200-8ccf-bd44da893eea')\"\n",
              "              title=\"Convert this dataframe to an interactive table.\"\n",
              "              style=\"display:none;\">\n",
              "        \n",
              "  <svg xmlns=\"http://www.w3.org/2000/svg\" height=\"24px\"viewBox=\"0 0 24 24\"\n",
              "       width=\"24px\">\n",
              "    <path d=\"M0 0h24v24H0V0z\" fill=\"none\"/>\n",
              "    <path d=\"M18.56 5.44l.94 2.06.94-2.06 2.06-.94-2.06-.94-.94-2.06-.94 2.06-2.06.94zm-11 1L8.5 8.5l.94-2.06 2.06-.94-2.06-.94L8.5 2.5l-.94 2.06-2.06.94zm10 10l.94 2.06.94-2.06 2.06-.94-2.06-.94-.94-2.06-.94 2.06-2.06.94z\"/><path d=\"M17.41 7.96l-1.37-1.37c-.4-.4-.92-.59-1.43-.59-.52 0-1.04.2-1.43.59L10.3 9.45l-7.72 7.72c-.78.78-.78 2.05 0 2.83L4 21.41c.39.39.9.59 1.41.59.51 0 1.02-.2 1.41-.59l7.78-7.78 2.81-2.81c.8-.78.8-2.07 0-2.86zM5.41 20L4 18.59l7.72-7.72 1.47 1.35L5.41 20z\"/>\n",
              "  </svg>\n",
              "      </button>\n",
              "      \n",
              "  <style>\n",
              "    .colab-df-container {\n",
              "      display:flex;\n",
              "      flex-wrap:wrap;\n",
              "      gap: 12px;\n",
              "    }\n",
              "\n",
              "    .colab-df-convert {\n",
              "      background-color: #E8F0FE;\n",
              "      border: none;\n",
              "      border-radius: 50%;\n",
              "      cursor: pointer;\n",
              "      display: none;\n",
              "      fill: #1967D2;\n",
              "      height: 32px;\n",
              "      padding: 0 0 0 0;\n",
              "      width: 32px;\n",
              "    }\n",
              "\n",
              "    .colab-df-convert:hover {\n",
              "      background-color: #E2EBFA;\n",
              "      box-shadow: 0px 1px 2px rgba(60, 64, 67, 0.3), 0px 1px 3px 1px rgba(60, 64, 67, 0.15);\n",
              "      fill: #174EA6;\n",
              "    }\n",
              "\n",
              "    [theme=dark] .colab-df-convert {\n",
              "      background-color: #3B4455;\n",
              "      fill: #D2E3FC;\n",
              "    }\n",
              "\n",
              "    [theme=dark] .colab-df-convert:hover {\n",
              "      background-color: #434B5C;\n",
              "      box-shadow: 0px 1px 3px 1px rgba(0, 0, 0, 0.15);\n",
              "      filter: drop-shadow(0px 1px 2px rgba(0, 0, 0, 0.3));\n",
              "      fill: #FFFFFF;\n",
              "    }\n",
              "  </style>\n",
              "\n",
              "      <script>\n",
              "        const buttonEl =\n",
              "          document.querySelector('#df-a9cbbefc-2bac-4200-8ccf-bd44da893eea button.colab-df-convert');\n",
              "        buttonEl.style.display =\n",
              "          google.colab.kernel.accessAllowed ? 'block' : 'none';\n",
              "\n",
              "        async function convertToInteractive(key) {\n",
              "          const element = document.querySelector('#df-a9cbbefc-2bac-4200-8ccf-bd44da893eea');\n",
              "          const dataTable =\n",
              "            await google.colab.kernel.invokeFunction('convertToInteractive',\n",
              "                                                     [key], {});\n",
              "          if (!dataTable) return;\n",
              "\n",
              "          const docLinkHtml = 'Like what you see? Visit the ' +\n",
              "            '<a target=\"_blank\" href=https://colab.research.google.com/notebooks/data_table.ipynb>data table notebook</a>'\n",
              "            + ' to learn more about interactive tables.';\n",
              "          element.innerHTML = '';\n",
              "          dataTable['output_type'] = 'display_data';\n",
              "          await google.colab.output.renderOutput(dataTable, element);\n",
              "          const docLink = document.createElement('div');\n",
              "          docLink.innerHTML = docLinkHtml;\n",
              "          element.appendChild(docLink);\n",
              "        }\n",
              "      </script>\n",
              "    </div>\n",
              "  </div>\n",
              "  "
            ]
          },
          "metadata": {},
          "execution_count": 23
        }
      ],
      "source": [
        "df.dropna(inplace = True)\n",
        "df.reset_index(drop=True, inplace=True)\n",
        "df"
      ]
    },
    {
      "cell_type": "markdown",
      "metadata": {
        "id": "w9qD9OwUyaae"
      },
      "source": [
        "---\n",
        "---\n"
      ]
    },
    {
      "cell_type": "markdown",
      "metadata": {
        "id": "WO_zLq2UCV39"
      },
      "source": [
        "## 3. Text Mining\n",
        "\n",
        "Text is the most unstructured form of all the available data, therefore various types of noise are present in it. This means that the data is not readily analyzable without any pre-processing. The entire process of cleaning and standardization of text, making it noise-free and ready for analysis is known as **text preprocessing**.\n",
        "\n",
        "The three key steps of text preprocessing:\n",
        "\n",
        "- **Tokenization:**\n",
        "This step is one of the top priorities when it comes to working on text mining. Tokenization is essentially splitting a phrase, sentence, paragraph, or an entire text document into smaller units, such as individual words or terms. Each of these smaller units are called tokens.\n",
        "\n",
        "- **Noise Removal:**\n",
        "Any piece of text which is not relevant to the context of the data and the end-output can be specified as the noise.\n",
        "For example – language stopwords (commonly used words of a language – is, am, the, of, in etc), URLs or links, upper and lower case differentiation, punctuations and industry specific words. This step deals with removal of all types of noisy entities present in the text.\n",
        "\n",
        "\n",
        "- **Lexicon Normalization:**\n",
        "Another type of textual noise is about the multiple representations exhibited by single word.\n",
        "For example – “play”, “player”, “played”, “plays” and “playing” are the different variations of the word – “play”. Though they mean different things, contextually they all are similar. This step converts all the disparities of a word into their normalized form (also known as lemma). \n",
        "There are two methods of lexicon normalisation; **[Stemming or Lemmatization](https://www.guru99.com/stemming-lemmatization-python-nltk.html)**. Lemmatization is recommended for this case, because Lemmatization as this will return the root form of each word (rather than just stripping suffixes, which is stemming).\n",
        "\n",
        "As the first step change text to tokens and convertion all of the words to lower case.  Next remove punctuation, bad characters, numbers and stop words. The second step is aimed to normalization them throught the Lemmatization method. \n",
        "\n",
        "\n",
        "***Note:*** *Use the functions of the ***[nltk Library](https://www.guru99.com/nltk-tutorial.html)*** for all the above operations.*\n",
        "\n"
      ]
    },
    {
      "cell_type": "markdown",
      "metadata": {
        "id": "vH7TYkFEyaaf"
      },
      "source": [
        "### Tokenization, Noise Removal, Lexicon Normalization"
      ]
    },
    {
      "cell_type": "code",
      "execution_count": null,
      "metadata": {
        "id": "9bbvWQE_yaah"
      },
      "outputs": [],
      "source": [
        "stop_words = stopwords.words('english')\n",
        "\n",
        "for i in [\"not\", \"no\"]:\n",
        "        stop_words.remove(i)"
      ]
    },
    {
      "cell_type": "code",
      "execution_count": null,
      "metadata": {
        "id": "Wl2p1vRoyaah"
      },
      "outputs": [],
      "source": [
        "def cleaning(data):\n",
        "    \n",
        "    #1. Tokenize\n",
        "    text_tokens = word_tokenize(data.replace(\"'\", \"\").lower())\n",
        "    \n",
        "    #2. Remove Puncs and numbers\n",
        "    tokens_without_punc = [w for w in text_tokens if w.isalpha()]\n",
        "    \n",
        "    #3. Removing Stopwords\n",
        "    tokens_without_sw = [t for t in tokens_without_punc if t not in stop_words]\n",
        "    \n",
        "    #4. lemma\n",
        "    text_cleaned = [WordNetLemmatizer().lemmatize(t) for t in tokens_without_sw]\n",
        "    \n",
        "    #joining\n",
        "    return \" \".join(text_cleaned)"
      ]
    },
    {
      "cell_type": "markdown",
      "metadata": {
        "id": "_DTNRasaCV3-"
      },
      "source": [
        "## 4. WordCloud - Repetition of Words\n",
        "\n",
        "Now you'll create a Word Clouds for reviews, representing most common words in each target class.\n",
        "\n",
        "Word Cloud is a data visualization technique used for representing text data in which the size of each word indicates its frequency or importance. Significant textual data points can be highlighted using a word cloud.\n",
        "\n",
        "You are expected to create separate word clouds for positive and negative reviews. You can qualify a review as positive or negative, by looking at its recommended status. You may need to use capabilities of matplotlib for visualizations.\n",
        "\n",
        "You can follow the steps below:\n",
        "\n",
        "- Detect Reviews\n",
        "- Collect Words \n",
        "- Create Word Cloud \n"
      ]
    },
    {
      "cell_type": "markdown",
      "metadata": {
        "id": "IZoWiF7Lyaaj"
      },
      "source": [
        "### Detect Reviews (positive and negative separately)"
      ]
    },
    {
      "cell_type": "code",
      "execution_count": null,
      "metadata": {
        "id": "SO6z4kUeyaak"
      },
      "outputs": [],
      "source": []
    },
    {
      "cell_type": "code",
      "execution_count": null,
      "metadata": {
        "id": "0WEAXfPxyaal"
      },
      "outputs": [],
      "source": []
    },
    {
      "cell_type": "markdown",
      "metadata": {
        "id": "1WsF_3Zmyaam"
      },
      "source": [
        "### Collect Words (positive and negative separately)"
      ]
    },
    {
      "cell_type": "code",
      "execution_count": null,
      "metadata": {
        "id": "9sgKO679yaam"
      },
      "outputs": [],
      "source": []
    },
    {
      "cell_type": "code",
      "execution_count": null,
      "metadata": {
        "id": "zo-wuz3Wyaam"
      },
      "outputs": [],
      "source": []
    },
    {
      "cell_type": "markdown",
      "metadata": {
        "id": "Fq8RVsr2yaan"
      },
      "source": [
        "### Create Word Cloud (for most common words in recommended not recommended reviews separately)"
      ]
    },
    {
      "cell_type": "code",
      "execution_count": null,
      "metadata": {
        "id": "YgwbzDWKyaan"
      },
      "outputs": [],
      "source": []
    },
    {
      "cell_type": "code",
      "execution_count": null,
      "metadata": {
        "id": "_XxHfK43yaan"
      },
      "outputs": [],
      "source": []
    },
    {
      "cell_type": "code",
      "execution_count": null,
      "metadata": {
        "id": "wHCH7RuXyaan"
      },
      "outputs": [],
      "source": []
    },
    {
      "cell_type": "markdown",
      "metadata": {
        "id": "-9_e1A26CV3_"
      },
      "source": [
        "## 5. Sentiment Classification with Machine Learning, Deep Learning and BERT model\n",
        "\n",
        "Before moving on to modeling, as data preprocessing steps you will need to perform **[vectorization](https://machinelearningmastery.com/prepare-text-data-machine-learning-scikit-learn/)** and **train-test split**. You have performed many times train test split process before.\n",
        "But you will perform the vectorization for the first time.\n",
        "\n",
        "Machine learning algorithms most often take numeric feature vectors as input. Thus, when working with text documents, you need a way to convert each document into a numeric vector. This process is known as text vectorization. Commonly used vectorization approach that you will use here is to represent each text as a vector of word counts.\n",
        "\n",
        "At this moment, you have your review text column as a token (which has no punctuations and stopwords). You can use Scikit-learn’s CountVectorizer to convert the text collection into a matrix of token counts. You can imagine this resulting matrix as a 2-D matrix, where each row is a unique word, and each column is a review.\n",
        "\n",
        "Train all models using TFIDF and Count vectorizer data.\n",
        "\n",
        "**For Deep learning model, use embedding layer for all words.** \n",
        "\n",
        "**For BERT model, use TF tensor**\n",
        "\n",
        "After performing data preprocessing, build your models using following classification algorithms:\n",
        "\n",
        "- Logistic Regression,\n",
        "- Naive Bayes,\n",
        "- Support Vector Machine,\n",
        "- Random Forest,\n",
        "- Ada Boosting\n",
        "- Deep Learning Model\n",
        "- BERT Model"
      ]
    },
    {
      "cell_type": "markdown",
      "metadata": {
        "id": "1qZC05fWyaao"
      },
      "source": [
        "### Train - Test Split"
      ]
    },
    {
      "cell_type": "markdown",
      "metadata": {
        "id": "T2SMUUrxCV3_"
      },
      "source": [
        "To run machine learning algorithms we need to convert text files into numerical feature vectors. We will use bag of words model for our analysis.\n",
        "\n",
        "First we spliting the data into train and test sets:"
      ]
    },
    {
      "cell_type": "code",
      "execution_count": null,
      "metadata": {
        "id": "_5jiM8T8yaap"
      },
      "outputs": [],
      "source": [
        "from sklearn.model_selection import train_test_split"
      ]
    },
    {
      "cell_type": "code",
      "execution_count": null,
      "metadata": {
        "id": "zljupyBkyaap"
      },
      "outputs": [],
      "source": [
        "X = df[\"Review Text\"].values\n",
        "y = df[\"Recommended IND\"].map({0:1, 1:0}).values"
      ]
    },
    {
      "cell_type": "code",
      "source": [
        "X_train, X_test, y_train, y_test = train_test_split(X, y, test_size=0.2, stratify=y, random_state=42)"
      ],
      "metadata": {
        "id": "cTRnncmtO6wM"
      },
      "execution_count": null,
      "outputs": []
    },
    {
      "cell_type": "markdown",
      "metadata": {
        "id": "adhWeL_iCV3_"
      },
      "source": [
        "In the next step we create a numerical feature vector for each document:"
      ]
    },
    {
      "cell_type": "markdown",
      "metadata": {
        "id": "kMPV90pbyaaq"
      },
      "source": [
        "### Count Vectorization"
      ]
    },
    {
      "cell_type": "code",
      "execution_count": null,
      "metadata": {
        "id": "c8idORUOyaaq"
      },
      "outputs": [],
      "source": [
        "from sklearn.feature_extraction.text import CountVectorizer"
      ]
    },
    {
      "cell_type": "code",
      "execution_count": null,
      "metadata": {
        "id": "9y67aO62yaar"
      },
      "outputs": [],
      "source": [
        "vectorizer = CountVectorizer(preprocessor=cleaning, min_df=3)\n",
        "X_train_count = vectorizer.fit_transform(X_train)\n",
        "X_test_count = vectorizer.transform(X_test)"
      ]
    },
    {
      "cell_type": "code",
      "source": [
        "X_train_count.toarray()"
      ],
      "metadata": {
        "colab": {
          "base_uri": "https://localhost:8080/"
        },
        "id": "f-2Th7QFPPV8",
        "outputId": "b71723f7-b818-499b-af8d-fd6ccd1e2603"
      },
      "execution_count": null,
      "outputs": [
        {
          "output_type": "execute_result",
          "data": {
            "text/plain": [
              "array([[0, 0, 0, ..., 0, 0, 0],\n",
              "       [0, 0, 0, ..., 0, 0, 0],\n",
              "       [0, 0, 0, ..., 0, 0, 0],\n",
              "       ...,\n",
              "       [0, 0, 0, ..., 0, 0, 0],\n",
              "       [0, 0, 0, ..., 0, 0, 0],\n",
              "       [0, 0, 0, ..., 0, 0, 0]])"
            ]
          },
          "metadata": {},
          "execution_count": 32
        }
      ]
    },
    {
      "cell_type": "markdown",
      "metadata": {
        "id": "3hI_P6_Ryaar"
      },
      "source": [
        "### TF-IDF"
      ]
    },
    {
      "cell_type": "code",
      "execution_count": null,
      "metadata": {
        "id": "vSSP6ZJkyaar"
      },
      "outputs": [],
      "source": [
        "from sklearn.feature_extraction.text import TfidfVectorizer"
      ]
    },
    {
      "cell_type": "code",
      "execution_count": null,
      "metadata": {
        "id": "23B1N2XSyaas"
      },
      "outputs": [],
      "source": [
        "tf_idf_vectorizer = TfidfVectorizer(preprocessor=cleaning, min_df=3)\n",
        "X_train_tf_idf = tf_idf_vectorizer.fit_transform(X_train)\n",
        "X_test_tf_idf = tf_idf_vectorizer.transform(X_test)"
      ]
    },
    {
      "cell_type": "code",
      "source": [
        "X_train_tf_idf.toarray()"
      ],
      "metadata": {
        "colab": {
          "base_uri": "https://localhost:8080/"
        },
        "id": "moQiyl3VPb1l",
        "outputId": "3b52b9f1-c724-4d0f-a37f-5250680f518d"
      },
      "execution_count": null,
      "outputs": [
        {
          "output_type": "execute_result",
          "data": {
            "text/plain": [
              "array([[0., 0., 0., ..., 0., 0., 0.],\n",
              "       [0., 0., 0., ..., 0., 0., 0.],\n",
              "       [0., 0., 0., ..., 0., 0., 0.],\n",
              "       ...,\n",
              "       [0., 0., 0., ..., 0., 0., 0.],\n",
              "       [0., 0., 0., ..., 0., 0., 0.],\n",
              "       [0., 0., 0., ..., 0., 0., 0.]])"
            ]
          },
          "metadata": {},
          "execution_count": 35
        }
      ]
    },
    {
      "cell_type": "code",
      "source": [
        "from sklearn.metrics import confusion_matrix,classification_report, f1_score, recall_score, accuracy_score, precision_score"
      ],
      "metadata": {
        "id": "EOoTi7LDQrcZ"
      },
      "execution_count": null,
      "outputs": []
    },
    {
      "cell_type": "code",
      "source": [
        "def eval(model, X_train, X_test):\n",
        "    y_pred = model.predict(X_test)\n",
        "    y_pred_train = model.predict(X_train)\n",
        "    print(confusion_matrix(y_test, y_pred))\n",
        "    print(\"Test_Set\")\n",
        "    print(classification_report(y_test,y_pred))\n",
        "    print(\"Train_Set\")\n",
        "    print(classification_report(y_train,y_pred_train))"
      ],
      "metadata": {
        "id": "1v0W59wtQup1"
      },
      "execution_count": null,
      "outputs": []
    },
    {
      "cell_type": "markdown",
      "metadata": {
        "id": "xaVrkxRpCV3_"
      },
      "source": [
        "## Logistic Regression"
      ]
    },
    {
      "cell_type": "markdown",
      "metadata": {
        "id": "GbVbTgoYyaas"
      },
      "source": [
        "### CountVectorizer"
      ]
    },
    {
      "cell_type": "code",
      "execution_count": null,
      "metadata": {
        "id": "SL84xDUfyaat",
        "colab": {
          "base_uri": "https://localhost:8080/"
        },
        "outputId": "336210d1-eaea-4ccb-b6a5-85c5d9fb4cff"
      },
      "outputs": [
        {
          "output_type": "execute_result",
          "data": {
            "text/plain": [
              "LogisticRegression(C=0.01, class_weight='balanced', max_iter=1000,\n",
              "                   random_state=42)"
            ]
          },
          "metadata": {},
          "execution_count": 37
        }
      ],
      "source": [
        "from sklearn.linear_model import LogisticRegression\n",
        "log = LogisticRegression(C =0.01, max_iter=1000, class_weight= \"balanced\", random_state=42)\n",
        "log.fit(X_train_count,y_train)"
      ]
    },
    {
      "cell_type": "code",
      "execution_count": null,
      "metadata": {
        "id": "f8QC0uBYyaat",
        "colab": {
          "base_uri": "https://localhost:8080/"
        },
        "outputId": "2783f606-4f51-42f8-f85f-1826e7f70ef6"
      },
      "outputs": [
        {
          "output_type": "stream",
          "name": "stdout",
          "text": [
            "LOG MODEL\n",
            "[[2996  456]\n",
            " [ 106  677]]\n",
            "Test_Set\n",
            "              precision    recall  f1-score   support\n",
            "\n",
            "           0       0.97      0.87      0.91      3452\n",
            "           1       0.60      0.86      0.71       783\n",
            "\n",
            "    accuracy                           0.87      4235\n",
            "   macro avg       0.78      0.87      0.81      4235\n",
            "weighted avg       0.90      0.87      0.88      4235\n",
            "\n",
            "Train_Set\n",
            "              precision    recall  f1-score   support\n",
            "\n",
            "           0       0.98      0.88      0.92     13809\n",
            "           1       0.63      0.90      0.74      3131\n",
            "\n",
            "    accuracy                           0.88     16940\n",
            "   macro avg       0.80      0.89      0.83     16940\n",
            "weighted avg       0.91      0.88      0.89     16940\n",
            "\n"
          ]
        }
      ],
      "source": [
        "print(\"LOG MODEL\")\n",
        "eval(log, X_train_count, X_test_count)"
      ]
    },
    {
      "cell_type": "code",
      "execution_count": null,
      "metadata": {
        "id": "wdYd2pAQyaat",
        "colab": {
          "base_uri": "https://localhost:8080/"
        },
        "outputId": "94add435-0ee1-4e46-ee44-772ba2a2f03d"
      },
      "outputs": [
        {
          "output_type": "execute_result",
          "data": {
            "text/plain": [
              "test_accuracy     0.869599\n",
              "test_f1           0.709254\n",
              "test_recall       0.860746\n",
              "test_precision    0.603291\n",
              "dtype: float64"
            ]
          },
          "metadata": {},
          "execution_count": 41
        }
      ],
      "source": [
        "from sklearn.model_selection import cross_validate\n",
        "from sklearn.metrics import make_scorer\n",
        "from sklearn.metrics import f1_score, accuracy_score, precision_score, recall_score\n",
        "\n",
        "scoring= [\"accuracy\", \"f1\", \"recall\", \"precision\"]\n",
        "\n",
        "model = LogisticRegression(C =0.01, max_iter=1000, class_weight= \"balanced\", random_state=42)\n",
        "scores = cross_validate(model, X_train_count, y_train, scoring = scoring, cv = 10)\n",
        "df_scores = pd.DataFrame(scores, index = range(1, 11))\n",
        "df_scores.mean()[2:]"
      ]
    },
    {
      "cell_type": "code",
      "source": [
        "from yellowbrick.classifier import PrecisionRecallCurve\n",
        "viz = PrecisionRecallCurve(\n",
        "    LogisticRegression(C =0.01, max_iter=1000, class_weight= \"balanced\", random_state=42),\n",
        "    classes=log.classes_,\n",
        "    per_class=True,\n",
        "    cmap=\"Set1\"\n",
        ")\n",
        "viz.fit(X_train_count,y_train)\n",
        "viz.score(X_test_count, y_test)\n",
        "viz.show();"
      ],
      "metadata": {
        "colab": {
          "base_uri": "https://localhost:8080/",
          "height": 376
        },
        "id": "8iJ8gQFbSG4Y",
        "outputId": "e924f4aa-0313-41b9-d832-d3da84fff151"
      },
      "execution_count": null,
      "outputs": [
        {
          "output_type": "display_data",
          "data": {
            "text/plain": [
              "<Figure size 576x396 with 1 Axes>"
            ],
            "image/png": "[encoded data removed]"
          },
          "metadata": {}
        }
      ]
    },
    {
      "cell_type": "code",
      "source": [
        "y_pred = log.predict(X_test_count)\n",
        "log_AP_count = viz.score_\n",
        "log_count_rec = recall_score(y_test, y_pred)\n",
        "log_count_f1 = f1_score(y_test,y_pred)"
      ],
      "metadata": {
        "id": "WqG_dfZ8Ul-d"
      },
      "execution_count": null,
      "outputs": []
    },
    {
      "cell_type": "code",
      "source": [
        "viz.score_"
      ],
      "metadata": {
        "colab": {
          "base_uri": "https://localhost:8080/"
        },
        "id": "a3c-5TRAUl5h",
        "outputId": "ead27cb4-d3b6-442d-86d6-98bb352f9f21"
      },
      "execution_count": null,
      "outputs": [
        {
          "output_type": "execute_result",
          "data": {
            "text/plain": [
              "0.7702650227290287"
            ]
          },
          "metadata": {},
          "execution_count": 44
        }
      ]
    },
    {
      "cell_type": "markdown",
      "metadata": {
        "id": "wCVIPEEfyaat"
      },
      "source": [
        "### TF-IDF"
      ]
    },
    {
      "cell_type": "code",
      "execution_count": null,
      "metadata": {
        "id": "nGLZC3pXyaau",
        "colab": {
          "base_uri": "https://localhost:8080/"
        },
        "outputId": "32f3bdde-5fda-4973-9a28-9452d16c8157"
      },
      "outputs": [
        {
          "output_type": "execute_result",
          "data": {
            "text/plain": [
              "LogisticRegression(C=0.05, class_weight='balanced', max_iter=1000,\n",
              "                   random_state=42)"
            ]
          },
          "metadata": {},
          "execution_count": 45
        }
      ],
      "source": [
        "log = LogisticRegression(C=0.05, max_iter=1000, random_state=42, class_weight=\"balanced\")\n",
        "log.fit(X_train_tf_idf,y_train)"
      ]
    },
    {
      "cell_type": "code",
      "execution_count": null,
      "metadata": {
        "id": "EqWSaoNUyaau",
        "colab": {
          "base_uri": "https://localhost:8080/"
        },
        "outputId": "2912d02a-6c16-4532-94d6-0792798b7a08"
      },
      "outputs": [
        {
          "output_type": "stream",
          "name": "stdout",
          "text": [
            "LOG MODEL\n",
            "[[2972  480]\n",
            " [  97  686]]\n",
            "Test_Set\n",
            "              precision    recall  f1-score   support\n",
            "\n",
            "           0       0.97      0.86      0.91      3452\n",
            "           1       0.59      0.88      0.70       783\n",
            "\n",
            "    accuracy                           0.86      4235\n",
            "   macro avg       0.78      0.87      0.81      4235\n",
            "weighted avg       0.90      0.86      0.87      4235\n",
            "\n",
            "Train_Set\n",
            "              precision    recall  f1-score   support\n",
            "\n",
            "           0       0.98      0.86      0.92     13809\n",
            "           1       0.60      0.90      0.72      3131\n",
            "\n",
            "    accuracy                           0.87     16940\n",
            "   macro avg       0.79      0.88      0.82     16940\n",
            "weighted avg       0.91      0.87      0.88     16940\n",
            "\n"
          ]
        }
      ],
      "source": [
        "print(\"LOG MODEL\")\n",
        "eval(log, X_train_tf_idf, X_test_tf_idf)"
      ]
    },
    {
      "cell_type": "code",
      "source": [
        "model = LogisticRegression(C=0.05, max_iter=1000, random_state=42, class_weight=\"balanced\")\n",
        "scores = cross_validate(model, X_train_tf_idf, y_train, scoring = scoring, cv = 10)\n",
        "df_scores = pd.DataFrame(scores, index = range(1, 11))\n",
        "df_scores.mean()[2:]"
      ],
      "metadata": {
        "colab": {
          "base_uri": "https://localhost:8080/"
        },
        "id": "sQtIwjEWaBt6",
        "outputId": "d75a7331-1762-48de-9f1a-af74daa499a5"
      },
      "execution_count": null,
      "outputs": [
        {
          "output_type": "execute_result",
          "data": {
            "text/plain": [
              "test_accuracy     0.862810\n",
              "test_f1           0.702189\n",
              "test_recall       0.875434\n",
              "test_precision    0.586313\n",
              "dtype: float64"
            ]
          },
          "metadata": {},
          "execution_count": 47
        }
      ]
    },
    {
      "cell_type": "code",
      "source": [
        "viz = PrecisionRecallCurve(\n",
        "    LogisticRegression(C=0.05, max_iter=1000, random_state=42, class_weight=\"balanced\"),\n",
        "    classes=log.classes_,\n",
        "    per_class=True,\n",
        "    cmap=\"Set1\"\n",
        ")\n",
        "viz.fit(X_train_tf_idf,y_train)\n",
        "viz.score(X_test_tf_idf, y_test)\n",
        "viz.show();"
      ],
      "metadata": {
        "colab": {
          "base_uri": "https://localhost:8080/",
          "height": 376
        },
        "id": "tyqPYXwGaLbA",
        "outputId": "83d6aa8b-7320-4c0f-d7fd-368c4d665693"
      },
      "execution_count": null,
      "outputs": [
        {
          "output_type": "display_data",
          "data": {
            "text/plain": [
              "<Figure size 576x396 with 1 Axes>"
            ],
            "image/png": "[encoded data removed]"
          },
          "metadata": {}
        }
      ]
    },
    {
      "cell_type": "code",
      "source": [
        "y_pred = log.predict(X_test_tf_idf)\n",
        "log_AP_tfidf = viz.score_\n",
        "log_tfidf_rec = recall_score(y_test, y_pred)\n",
        "log_tfidf_f1 = f1_score(y_test,y_pred)"
      ],
      "metadata": {
        "id": "I1JzH8TqaTGG"
      },
      "execution_count": null,
      "outputs": []
    },
    {
      "cell_type": "markdown",
      "metadata": {
        "id": "QACRU9G3CV4A"
      },
      "source": [
        "## Naive Bayes \n",
        "\n",
        "### Countvectorizer"
      ]
    },
    {
      "cell_type": "code",
      "execution_count": null,
      "metadata": {
        "id": "YE0i90Q5yaav",
        "colab": {
          "base_uri": "https://localhost:8080/"
        },
        "outputId": "54591c16-7e0d-4ed8-97af-d19b85b11eef"
      },
      "outputs": [
        {
          "output_type": "execute_result",
          "data": {
            "text/plain": [
              "MultinomialNB(alpha=0.5)"
            ]
          },
          "metadata": {},
          "execution_count": 57
        }
      ],
      "source": [
        "from sklearn.naive_bayes import MultinomialNB, BernoulliNB\n",
        "nb = MultinomialNB(alpha=0.5)\n",
        "nb.fit(X_train_count,y_train)"
      ]
    },
    {
      "cell_type": "code",
      "execution_count": null,
      "metadata": {
        "id": "qRGX7Ck6yaaw",
        "colab": {
          "base_uri": "https://localhost:8080/"
        },
        "outputId": "6ae66bd5-d489-4ae5-c97e-9bda75e470f8"
      },
      "outputs": [
        {
          "output_type": "stream",
          "name": "stdout",
          "text": [
            "NB MODEL\n",
            "[[3195  257]\n",
            " [ 164  619]]\n",
            "Test_Set\n",
            "              precision    recall  f1-score   support\n",
            "\n",
            "           0       0.95      0.93      0.94      3452\n",
            "           1       0.71      0.79      0.75       783\n",
            "\n",
            "    accuracy                           0.90      4235\n",
            "   macro avg       0.83      0.86      0.84      4235\n",
            "weighted avg       0.91      0.90      0.90      4235\n",
            "\n",
            "Train_Set\n",
            "              precision    recall  f1-score   support\n",
            "\n",
            "           0       0.97      0.94      0.95     13809\n",
            "           1       0.76      0.86      0.81      3131\n",
            "\n",
            "    accuracy                           0.92     16940\n",
            "   macro avg       0.86      0.90      0.88     16940\n",
            "weighted avg       0.93      0.92      0.93     16940\n",
            "\n"
          ]
        }
      ],
      "source": [
        "print(\"NB MODEL\")\n",
        "eval(nb, X_train_count, X_test_count)"
      ]
    },
    {
      "cell_type": "code",
      "source": [
        "model = MultinomialNB(alpha=0.5)\n",
        "scores = cross_validate(model, X_train_count, y_train, scoring = scoring, cv = 10)\n",
        "df_scores = pd.DataFrame(scores, index = range(1, 11))\n",
        "df_scores.mean()[2:]"
      ],
      "metadata": {
        "colab": {
          "base_uri": "https://localhost:8080/"
        },
        "id": "wtQ0k3Mcbf8V",
        "outputId": "e97cd771-5341-4403-c1d5-d42daf8f0efc"
      },
      "execution_count": null,
      "outputs": [
        {
          "output_type": "execute_result",
          "data": {
            "text/plain": [
              "test_accuracy     0.904841\n",
              "test_f1           0.758026\n",
              "test_recall       0.807087\n",
              "test_precision    0.714782\n",
              "dtype: float64"
            ]
          },
          "metadata": {},
          "execution_count": 59
        }
      ]
    },
    {
      "cell_type": "code",
      "source": [
        "viz = PrecisionRecallCurve(\n",
        "    MultinomialNB(alpha=0.5),\n",
        "    classes=nb.classes_,\n",
        "    per_class=True,\n",
        "    cmap=\"Set1\"\n",
        ")\n",
        "viz.fit(X_train_count,y_train)\n",
        "viz.score(X_test_count, y_test)\n",
        "viz.show();"
      ],
      "metadata": {
        "colab": {
          "base_uri": "https://localhost:8080/",
          "height": 376
        },
        "id": "RqN06UupbmkI",
        "outputId": "ebeb4216-5a93-4c4b-8439-46dd0313f4d1"
      },
      "execution_count": null,
      "outputs": [
        {
          "output_type": "display_data",
          "data": {
            "text/plain": [
              "<Figure size 576x396 with 1 Axes>"
            ],
            "image/png": "[encoded data removed]"
          },
          "metadata": {}
        }
      ]
    },
    {
      "cell_type": "code",
      "source": [
        "y_pred = nb.predict(X_test_count)\n",
        "nb_AP_count = viz.score_\n",
        "nb_count_rec = recall_score(y_test, y_pred)\n",
        "nb_count_f1 = f1_score(y_test,y_pred)"
      ],
      "metadata": {
        "id": "ezVgxdRVbt_R"
      },
      "execution_count": null,
      "outputs": []
    },
    {
      "cell_type": "markdown",
      "metadata": {
        "id": "K0YPoHQIyaaw"
      },
      "source": [
        "### TF-IDF"
      ]
    },
    {
      "cell_type": "code",
      "execution_count": null,
      "metadata": {
        "id": "sH34zsJqyaax",
        "colab": {
          "base_uri": "https://localhost:8080/"
        },
        "outputId": "ff7bf0a4-b55c-4625-cb25-ac7bb2b5e04d"
      },
      "outputs": [
        {
          "output_type": "execute_result",
          "data": {
            "text/plain": [
              "BernoulliNB(alpha=0.5)"
            ]
          },
          "metadata": {},
          "execution_count": 62
        }
      ],
      "source": [
        "nb = BernoulliNB(alpha=0.5)\n",
        "nb.fit(X_train_tf_idf,y_train)"
      ]
    },
    {
      "cell_type": "code",
      "execution_count": null,
      "metadata": {
        "id": "-rWCvkHmyaay",
        "colab": {
          "base_uri": "https://localhost:8080/"
        },
        "outputId": "a9f36b78-4145-4e09-c05b-69a29891d20d"
      },
      "outputs": [
        {
          "output_type": "stream",
          "name": "stdout",
          "text": [
            "NB MODEL\n",
            "[[3200  252]\n",
            " [ 180  603]]\n",
            "Test_Set\n",
            "              precision    recall  f1-score   support\n",
            "\n",
            "           0       0.95      0.93      0.94      3452\n",
            "           1       0.71      0.77      0.74       783\n",
            "\n",
            "    accuracy                           0.90      4235\n",
            "   macro avg       0.83      0.85      0.84      4235\n",
            "weighted avg       0.90      0.90      0.90      4235\n",
            "\n",
            "Train_Set\n",
            "              precision    recall  f1-score   support\n",
            "\n",
            "           0       0.97      0.94      0.95     13809\n",
            "           1       0.76      0.85      0.80      3131\n",
            "\n",
            "    accuracy                           0.92     16940\n",
            "   macro avg       0.86      0.89      0.88     16940\n",
            "weighted avg       0.93      0.92      0.92     16940\n",
            "\n"
          ]
        }
      ],
      "source": [
        "print(\"NB MODEL\")\n",
        "eval(nb, X_train_tf_idf, X_test_tf_idf)"
      ]
    },
    {
      "cell_type": "code",
      "source": [
        "model = BernoulliNB(alpha=0.5)\n",
        "scores = cross_validate(model, X_train_tf_idf, y_train, scoring = scoring, cv = 10)\n",
        "df_scores = pd.DataFrame(scores, index = range(1, 11))\n",
        "df_scores.mean()[2:]\n"
      ],
      "metadata": {
        "colab": {
          "base_uri": "https://localhost:8080/"
        },
        "id": "_qJDNrTidMPS",
        "outputId": "f59fa573-bb93-495a-eac8-f575f3c5e0d9"
      },
      "execution_count": null,
      "outputs": [
        {
          "output_type": "execute_result",
          "data": {
            "text/plain": [
              "test_accuracy     0.903070\n",
              "test_f1           0.751402\n",
              "test_recall       0.793357\n",
              "test_precision    0.713971\n",
              "dtype: float64"
            ]
          },
          "metadata": {},
          "execution_count": 64
        }
      ]
    },
    {
      "cell_type": "code",
      "source": [
        "viz = PrecisionRecallCurve(\n",
        "    BernoulliNB(alpha=0.5),\n",
        "    classes=nb.classes_,\n",
        "    per_class=True,\n",
        "    cmap=\"Set1\"\n",
        ")\n",
        "viz.fit(X_train_tf_idf,y_train)\n",
        "viz.score(X_test_tf_idf, y_test)\n",
        "viz.show();"
      ],
      "metadata": {
        "colab": {
          "base_uri": "https://localhost:8080/",
          "height": 376
        },
        "id": "oSK7Zp4DdSWM",
        "outputId": "b7ae2d3f-ba7b-43bc-d341-2cdf267f1666"
      },
      "execution_count": null,
      "outputs": [
        {
          "output_type": "display_data",
          "data": {
            "text/plain": [
              "<Figure size 576x396 with 1 Axes>"
            ],
            "image/png": "[encoded data removed]"
          },
          "metadata": {}
        }
      ]
    },
    {
      "cell_type": "code",
      "source": [
        "y_pred = nb.predict(X_test_tf_idf)\n",
        "nb_AP_tfidf = viz.score_\n",
        "nb_tfidf_rec = recall_score(y_test, y_pred)\n",
        "nb_tfidf_f1 = f1_score(y_test,y_pred)"
      ],
      "metadata": {
        "id": "1nEXy_aZdbof"
      },
      "execution_count": null,
      "outputs": []
    },
    {
      "cell_type": "markdown",
      "metadata": {
        "id": "OSkbnJJiCV4A"
      },
      "source": [
        "## Support Vector Machine (SVM)\n",
        "\n",
        "### Countvectorizer"
      ]
    },
    {
      "cell_type": "code",
      "execution_count": null,
      "metadata": {
        "id": "xP-Io7Y4yaa0",
        "colab": {
          "base_uri": "https://localhost:8080/"
        },
        "outputId": "0617e2ee-2d4f-49b2-8b18-a11002b2e37c"
      },
      "outputs": [
        {
          "output_type": "execute_result",
          "data": {
            "text/plain": [
              "LinearSVC(C=0.005, class_weight='balanced', random_state=42)"
            ]
          },
          "metadata": {},
          "execution_count": 73
        }
      ],
      "source": [
        "from sklearn.svm import LinearSVC\n",
        "svc = LinearSVC(C=0.005, class_weight=\"balanced\", random_state=42)\n",
        "svc.fit(X_train_count,y_train)"
      ]
    },
    {
      "cell_type": "code",
      "execution_count": null,
      "metadata": {
        "id": "v-4GHQYWyaa1",
        "colab": {
          "base_uri": "https://localhost:8080/"
        },
        "outputId": "80427b2b-637f-40b4-fb63-2acc9d2f0454"
      },
      "outputs": [
        {
          "output_type": "stream",
          "name": "stdout",
          "text": [
            "SVC MODEL\n",
            "[[3062  390]\n",
            " [ 104  679]]\n",
            "Test_Set\n",
            "              precision    recall  f1-score   support\n",
            "\n",
            "           0       0.97      0.89      0.93      3452\n",
            "           1       0.64      0.87      0.73       783\n",
            "\n",
            "    accuracy                           0.88      4235\n",
            "   macro avg       0.80      0.88      0.83      4235\n",
            "weighted avg       0.91      0.88      0.89      4235\n",
            "\n",
            "Train_Set\n",
            "              precision    recall  f1-score   support\n",
            "\n",
            "           0       0.98      0.91      0.94     13809\n",
            "           1       0.69      0.93      0.79      3131\n",
            "\n",
            "    accuracy                           0.91     16940\n",
            "   macro avg       0.84      0.92      0.87     16940\n",
            "weighted avg       0.93      0.91      0.92     16940\n",
            "\n"
          ]
        }
      ],
      "source": [
        "print(\"SVC MODEL\")\n",
        "eval(svc, X_train_count, X_test_count)"
      ]
    },
    {
      "cell_type": "code",
      "source": [
        "model = LinearSVC(C=0.005, class_weight=\"balanced\", random_state=42)\n",
        "scores = cross_validate(model, X_train_count, y_train, scoring = scoring, cv = 10)\n",
        "df_scores = pd.DataFrame(scores, index = range(1, 11))\n",
        "df_scores.mean()[2:]"
      ],
      "metadata": {
        "colab": {
          "base_uri": "https://localhost:8080/"
        },
        "id": "X48_GRpmeoep",
        "outputId": "fe0cd6b4-4d46-4c16-c4ae-ac58b1b84507"
      },
      "execution_count": null,
      "outputs": [
        {
          "output_type": "execute_result",
          "data": {
            "text/plain": [
              "test_accuracy     0.888548\n",
              "test_f1           0.741532\n",
              "test_recall       0.865222\n",
              "test_precision    0.649060\n",
              "dtype: float64"
            ]
          },
          "metadata": {},
          "execution_count": 75
        }
      ]
    },
    {
      "cell_type": "code",
      "source": [
        "viz = PrecisionRecallCurve(\n",
        "    LinearSVC(C=0.005, class_weight=\"balanced\", random_state=42),\n",
        "    classes=svc.classes_,\n",
        "    per_class=True,\n",
        "    cmap=\"Set1\"\n",
        ")\n",
        "viz.fit(X_train_count,y_train)\n",
        "viz.score(X_test_count, y_test)\n",
        "viz.show();"
      ],
      "metadata": {
        "colab": {
          "base_uri": "https://localhost:8080/",
          "height": 376
        },
        "id": "Mu60bIb5eyWn",
        "outputId": "7a4c7db0-9414-4439-bb0f-31ea4081822c"
      },
      "execution_count": null,
      "outputs": [
        {
          "output_type": "display_data",
          "data": {
            "text/plain": [
              "<Figure size 576x396 with 1 Axes>"
            ],
            "image/png": "[encoded data removed]"
          },
          "metadata": {}
        }
      ]
    },
    {
      "cell_type": "code",
      "source": [
        "y_pred = svc.predict(X_test_count)\n",
        "svc_AP_count = viz.score_\n",
        "svc_count_rec = recall_score(y_test, y_pred)\n",
        "svc_count_f1 = f1_score(y_test,y_pred)"
      ],
      "metadata": {
        "id": "jXdf0mdWe64a"
      },
      "execution_count": null,
      "outputs": []
    },
    {
      "cell_type": "markdown",
      "metadata": {
        "id": "BAX3oHiKyaa2"
      },
      "source": [
        "### TD-IDF"
      ]
    },
    {
      "cell_type": "code",
      "execution_count": null,
      "metadata": {
        "id": "Kvmchzafyaa3",
        "colab": {
          "base_uri": "https://localhost:8080/"
        },
        "outputId": "20656c7a-c0a9-4770-921f-87d112710379"
      },
      "outputs": [
        {
          "output_type": "execute_result",
          "data": {
            "text/plain": [
              "LinearSVC(C=0.005, class_weight='balanced', random_state=42)"
            ]
          },
          "metadata": {},
          "execution_count": 78
        }
      ],
      "source": [
        "svc = LinearSVC(C=0.005, class_weight=\"balanced\", random_state=42)\n",
        "svc.fit(X_train_tf_idf,y_train)"
      ]
    },
    {
      "cell_type": "code",
      "execution_count": null,
      "metadata": {
        "id": "4XitL-5Iyaa4",
        "colab": {
          "base_uri": "https://localhost:8080/"
        },
        "outputId": "b1ace5ec-374a-4d95-c22f-2d22da28813c"
      },
      "outputs": [
        {
          "output_type": "stream",
          "name": "stdout",
          "text": [
            "SVC MODEL\n",
            "[[2961  491]\n",
            " [  96  687]]\n",
            "Test_Set\n",
            "              precision    recall  f1-score   support\n",
            "\n",
            "           0       0.97      0.86      0.91      3452\n",
            "           1       0.58      0.88      0.70       783\n",
            "\n",
            "    accuracy                           0.86      4235\n",
            "   macro avg       0.78      0.87      0.81      4235\n",
            "weighted avg       0.90      0.86      0.87      4235\n",
            "\n",
            "Train_Set\n",
            "              precision    recall  f1-score   support\n",
            "\n",
            "           0       0.98      0.86      0.92     13809\n",
            "           1       0.60      0.90      0.72      3131\n",
            "\n",
            "    accuracy                           0.87     16940\n",
            "   macro avg       0.79      0.88      0.82     16940\n",
            "weighted avg       0.91      0.87      0.88     16940\n",
            "\n"
          ]
        }
      ],
      "source": [
        "print(\"SVC MODEL\")\n",
        "eval(svc, X_train_tf_idf, X_test_tf_idf)"
      ]
    },
    {
      "cell_type": "code",
      "source": [
        "model = LinearSVC(C=0.005, class_weight=\"balanced\", random_state=42)\n",
        "scores = cross_validate(model, X_train_tf_idf, y_train, scoring = scoring, cv = 10)\n",
        "df_scores = pd.DataFrame(scores, index = range(1, 11))\n",
        "df_scores.mean()[2:]"
      ],
      "metadata": {
        "colab": {
          "base_uri": "https://localhost:8080/"
        },
        "id": "HU2xcj6tflKL",
        "outputId": "b18d9a6f-fa12-4fb8-d0fe-789aa6fa3b79"
      },
      "execution_count": null,
      "outputs": [
        {
          "output_type": "execute_result",
          "data": {
            "text/plain": [
              "test_accuracy     0.860331\n",
              "test_f1           0.698755\n",
              "test_recall       0.876712\n",
              "test_precision    0.580992\n",
              "dtype: float64"
            ]
          },
          "metadata": {},
          "execution_count": 80
        }
      ]
    },
    {
      "cell_type": "code",
      "source": [
        "viz = PrecisionRecallCurve(\n",
        "    LinearSVC(C=0.005, class_weight=\"balanced\", random_state=42),\n",
        "    classes=svc.classes_,\n",
        "    per_class=True,\n",
        "    cmap=\"Set1\"\n",
        ")\n",
        "viz.fit(X_train_tf_idf,y_train)\n",
        "viz.score(X_test_tf_idf, y_test)\n",
        "viz.show();"
      ],
      "metadata": {
        "colab": {
          "base_uri": "https://localhost:8080/",
          "height": 376
        },
        "id": "pb-GfajyftI4",
        "outputId": "5afbb0c6-62bb-4493-c7d7-d0f077445908"
      },
      "execution_count": null,
      "outputs": [
        {
          "output_type": "display_data",
          "data": {
            "text/plain": [
              "<Figure size 576x396 with 1 Axes>"
            ],
            "image/png": "[encoded data removed]"
          },
          "metadata": {}
        }
      ]
    },
    {
      "cell_type": "code",
      "source": [
        "y_pred = svc.predict(X_test_tf_idf)\n",
        "svc_AP_tfidf = viz.score_\n",
        "svc_tfidf_rec = recall_score(y_test, y_pred)\n",
        "svc_tfidf_f1 = f1_score(y_test,y_pred)"
      ],
      "metadata": {
        "id": "7pfE1-dJf4z_"
      },
      "execution_count": null,
      "outputs": []
    },
    {
      "cell_type": "markdown",
      "metadata": {
        "id": "qTECEchfCV4A"
      },
      "source": [
        "## Random Forest\n",
        "\n",
        "### Countvectorizer"
      ]
    },
    {
      "cell_type": "code",
      "execution_count": null,
      "metadata": {
        "id": "8E4GTelvyaa5",
        "colab": {
          "base_uri": "https://localhost:8080/"
        },
        "outputId": "2961d751-4109-4561-f6a4-9a1207fa5245"
      },
      "outputs": [
        {
          "output_type": "execute_result",
          "data": {
            "text/plain": [
              "RandomForestClassifier(class_weight='balanced', max_depth=9, n_estimators=50,\n",
              "                       n_jobs=-1, random_state=42)"
            ]
          },
          "metadata": {},
          "execution_count": 97
        }
      ],
      "source": [
        "from sklearn.ensemble import RandomForestClassifier\n",
        "rf = RandomForestClassifier(50, max_depth = 9, random_state = 42, n_jobs = -1, class_weight=\"balanced\")\n",
        "rf.fit(X_train_count, y_train)"
      ]
    },
    {
      "cell_type": "code",
      "execution_count": null,
      "metadata": {
        "id": "oukKdl74yaa5",
        "colab": {
          "base_uri": "https://localhost:8080/"
        },
        "outputId": "0d125b66-e7e1-44bc-fc9c-f0b0728ff3d0"
      },
      "outputs": [
        {
          "output_type": "stream",
          "name": "stdout",
          "text": [
            "RF MODEL\n",
            "[[2952  500]\n",
            " [ 129  654]]\n",
            "Test_Set\n",
            "              precision    recall  f1-score   support\n",
            "\n",
            "           0       0.96      0.86      0.90      3452\n",
            "           1       0.57      0.84      0.68       783\n",
            "\n",
            "    accuracy                           0.85      4235\n",
            "   macro avg       0.76      0.85      0.79      4235\n",
            "weighted avg       0.89      0.85      0.86      4235\n",
            "\n",
            "Train_Set\n",
            "              precision    recall  f1-score   support\n",
            "\n",
            "           0       0.97      0.87      0.92     13809\n",
            "           1       0.61      0.88      0.72      3131\n",
            "\n",
            "    accuracy                           0.87     16940\n",
            "   macro avg       0.79      0.88      0.82     16940\n",
            "weighted avg       0.90      0.87      0.88     16940\n",
            "\n"
          ]
        }
      ],
      "source": [
        "print(\"RF MODEL\")\n",
        "eval(rf, X_train_count, X_test_count)"
      ]
    },
    {
      "cell_type": "code",
      "source": [
        "model = RandomForestClassifier(50, max_depth = 9, random_state = 42, n_jobs = -1, class_weight=\"balanced\")\n",
        "scores = cross_validate(model, X_train_count, y_train, scoring = scoring, cv = 10)\n",
        "df_scores = pd.DataFrame(scores, index = range(1, 11))\n",
        "df_scores.mean()[2:]"
      ],
      "metadata": {
        "colab": {
          "base_uri": "https://localhost:8080/"
        },
        "id": "xbLX8-kIhVOf",
        "outputId": "95d675ac-7dce-461f-d98f-f875b6923159"
      },
      "execution_count": null,
      "outputs": [
        {
          "output_type": "execute_result",
          "data": {
            "text/plain": [
              "test_accuracy     0.853837\n",
              "test_f1           0.667256\n",
              "test_recall       0.792722\n",
              "test_precision    0.576295\n",
              "dtype: float64"
            ]
          },
          "metadata": {},
          "execution_count": 99
        }
      ]
    },
    {
      "cell_type": "code",
      "source": [
        "viz = PrecisionRecallCurve(\n",
        "    RandomForestClassifier(50, max_depth = 9, random_state = 42, n_jobs = -1, class_weight=\"balanced\"),\n",
        "    classes=rf.classes_,\n",
        "    per_class=True,\n",
        "    cmap=\"Set1\"\n",
        ")\n",
        "viz.fit(X_train_count,y_train)\n",
        "viz.score(X_test_count, y_test)\n",
        "viz.show();"
      ],
      "metadata": {
        "colab": {
          "base_uri": "https://localhost:8080/",
          "height": 376
        },
        "id": "_b90davJhcSC",
        "outputId": "699a9591-dd46-4ec3-ace2-919bdff83dc5"
      },
      "execution_count": null,
      "outputs": [
        {
          "output_type": "display_data",
          "data": {
            "text/plain": [
              "<Figure size 576x396 with 1 Axes>"
            ],
            "image/png": "[encoded data removed]"
          },
          "metadata": {}
        }
      ]
    },
    {
      "cell_type": "code",
      "source": [
        "y_pred = rf.predict(X_test_count)\n",
        "rf_AP_count = viz.score_\n",
        "rf_count_rec = recall_score(y_test, y_pred)\n",
        "rf_count_f1 = f1_score(y_test,y_pred)"
      ],
      "metadata": {
        "id": "42SROLH9hlcK"
      },
      "execution_count": null,
      "outputs": []
    },
    {
      "cell_type": "markdown",
      "metadata": {
        "id": "pXtEODdFyaa6"
      },
      "source": [
        "### TF-IDF"
      ]
    },
    {
      "cell_type": "code",
      "execution_count": null,
      "metadata": {
        "id": "W5EfAthhyaa6",
        "colab": {
          "base_uri": "https://localhost:8080/"
        },
        "outputId": "b0a23970-4556-4858-a10f-fa69b153e018"
      },
      "outputs": [
        {
          "output_type": "execute_result",
          "data": {
            "text/plain": [
              "RandomForestClassifier(class_weight='balanced', max_depth=9, n_estimators=500,\n",
              "                       n_jobs=-1, random_state=42)"
            ]
          },
          "metadata": {},
          "execution_count": 102
        }
      ],
      "source": [
        "rf = RandomForestClassifier(500, max_depth = 9, random_state = 42, n_jobs = -1, class_weight=\"balanced\")\n",
        "rf.fit(X_train_tf_idf, y_train)"
      ]
    },
    {
      "cell_type": "code",
      "execution_count": null,
      "metadata": {
        "id": "JO3OW5xayaa6",
        "colab": {
          "base_uri": "https://localhost:8080/"
        },
        "outputId": "962cc6b3-bd69-40af-90ba-9c1a33a52781"
      },
      "outputs": [
        {
          "output_type": "stream",
          "name": "stdout",
          "text": [
            "RF MODEL\n",
            "[[2992  460]\n",
            " [ 150  633]]\n",
            "Test_Set\n",
            "              precision    recall  f1-score   support\n",
            "\n",
            "           0       0.95      0.87      0.91      3452\n",
            "           1       0.58      0.81      0.67       783\n",
            "\n",
            "    accuracy                           0.86      4235\n",
            "   macro avg       0.77      0.84      0.79      4235\n",
            "weighted avg       0.88      0.86      0.86      4235\n",
            "\n",
            "Train_Set\n",
            "              precision    recall  f1-score   support\n",
            "\n",
            "           0       0.98      0.89      0.93     13809\n",
            "           1       0.64      0.91      0.75      3131\n",
            "\n",
            "    accuracy                           0.89     16940\n",
            "   macro avg       0.81      0.90      0.84     16940\n",
            "weighted avg       0.91      0.89      0.90     16940\n",
            "\n"
          ]
        }
      ],
      "source": [
        "print(\"RF MODEL\")\n",
        "eval(rf, X_train_tf_idf, X_test_tf_idf)"
      ]
    },
    {
      "cell_type": "code",
      "source": [
        "model = RandomForestClassifier(50, max_depth = 9, random_state = 42, n_jobs = -1, class_weight=\"balanced\")\n",
        "scores = cross_validate(model, X_train_tf_idf, y_train, scoring = scoring, cv = 10)\n",
        "df_scores = pd.DataFrame(scores, index = range(1, 11))\n",
        "df_scores.mean()[2:]"
      ],
      "metadata": {
        "colab": {
          "base_uri": "https://localhost:8080/"
        },
        "id": "bAMYl9D9h5iS",
        "outputId": "0931fa6b-c59f-4c89-fe17-7acfc45b59da"
      },
      "execution_count": null,
      "outputs": [
        {
          "output_type": "execute_result",
          "data": {
            "text/plain": [
              "test_accuracy     0.846871\n",
              "test_f1           0.655171\n",
              "test_recall       0.786647\n",
              "test_precision    0.561586\n",
              "dtype: float64"
            ]
          },
          "metadata": {},
          "execution_count": 104
        }
      ]
    },
    {
      "cell_type": "code",
      "source": [
        "viz = PrecisionRecallCurve(\n",
        "    RandomForestClassifier(50, max_depth = 9, random_state = 42, n_jobs = -1, class_weight=\"balanced\"),\n",
        "    classes=rf.classes_,\n",
        "    per_class=True,\n",
        "    cmap=\"Set1\"\n",
        ")\n",
        "viz.fit(X_train_tf_idf,y_train)\n",
        "viz.score(X_test_tf_idf, y_test)\n",
        "viz.show();"
      ],
      "metadata": {
        "colab": {
          "base_uri": "https://localhost:8080/",
          "height": 376
        },
        "id": "L4Oi-T__iAcQ",
        "outputId": "8ee48ea3-4dc9-45ec-a1b4-1f60fbe067be"
      },
      "execution_count": null,
      "outputs": [
        {
          "output_type": "display_data",
          "data": {
            "text/plain": [
              "<Figure size 576x396 with 1 Axes>"
            ],
            "image/png": "[encoded data removed]"
          },
          "metadata": {}
        }
      ]
    },
    {
      "cell_type": "code",
      "source": [
        "y_pred = rf.predict(X_test_tf_idf)\n",
        "rf_AP_tfidf = viz.score_\n",
        "rf_tfidf_rec = recall_score(y_test, y_pred)\n",
        "rf_tfidf_f1 = f1_score(y_test,y_pred)"
      ],
      "metadata": {
        "id": "ycj3pKDeiG9z"
      },
      "execution_count": null,
      "outputs": []
    },
    {
      "cell_type": "markdown",
      "metadata": {
        "id": "-SezeeY2yaa6"
      },
      "source": [
        "## Ada Boosting\n",
        "\n",
        "### Countvectorizer"
      ]
    },
    {
      "cell_type": "code",
      "execution_count": null,
      "metadata": {
        "id": "Wh_3SQPuyaa7",
        "colab": {
          "base_uri": "https://localhost:8080/"
        },
        "outputId": "631400a5-151d-4ca7-e965-b09e92bb3d51"
      },
      "outputs": [
        {
          "output_type": "execute_result",
          "data": {
            "text/plain": [
              "AdaBoostClassifier(learning_rate=1, n_estimators=400, random_state=42)"
            ]
          },
          "metadata": {},
          "execution_count": 123
        }
      ],
      "source": [
        "from sklearn.ensemble import AdaBoostClassifier\n",
        "ada = AdaBoostClassifier(n_estimators= 400, random_state = 42, learning_rate=1)\n",
        "ada.fit(X_train_count, y_train)"
      ]
    },
    {
      "cell_type": "code",
      "execution_count": null,
      "metadata": {
        "id": "xAl3ZHO9yaa7",
        "colab": {
          "base_uri": "https://localhost:8080/"
        },
        "outputId": "ac87fbad-d66b-4d5e-dadf-a58bf2a78e1a"
      },
      "outputs": [
        {
          "output_type": "stream",
          "name": "stdout",
          "text": [
            "Ada MODEL\n",
            "[[3307  145]\n",
            " [ 265  518]]\n",
            "Test_Set\n",
            "              precision    recall  f1-score   support\n",
            "\n",
            "           0       0.93      0.96      0.94      3452\n",
            "           1       0.78      0.66      0.72       783\n",
            "\n",
            "    accuracy                           0.90      4235\n",
            "   macro avg       0.85      0.81      0.83      4235\n",
            "weighted avg       0.90      0.90      0.90      4235\n",
            "\n",
            "Train_Set\n",
            "              precision    recall  f1-score   support\n",
            "\n",
            "           0       0.94      0.97      0.95     13809\n",
            "           1       0.84      0.72      0.77      3131\n",
            "\n",
            "    accuracy                           0.92     16940\n",
            "   macro avg       0.89      0.84      0.86     16940\n",
            "weighted avg       0.92      0.92      0.92     16940\n",
            "\n"
          ]
        }
      ],
      "source": [
        "print(\"Ada MODEL\")\n",
        "eval(ada, X_train_count, X_test_count)"
      ]
    },
    {
      "cell_type": "code",
      "source": [
        "model = AdaBoostClassifier(n_estimators= 400, random_state = 42, learning_rate=1)\n",
        "scores = cross_validate(model, X_train_count, y_train, scoring = scoring, cv = 10)\n",
        "df_scores = pd.DataFrame(scores, index = range(1, 11))\n",
        "df_scores.mean()[2:]"
      ],
      "metadata": {
        "colab": {
          "base_uri": "https://localhost:8080/"
        },
        "id": "7TGqkRn3jgkG",
        "outputId": "1cb3ea48-e79f-4191-fda6-ab80aeb606e9"
      },
      "execution_count": null,
      "outputs": [
        {
          "output_type": "execute_result",
          "data": {
            "text/plain": [
              "test_accuracy     0.899705\n",
              "test_f1           0.707220\n",
              "test_recall       0.656668\n",
              "test_precision    0.767496\n",
              "dtype: float64"
            ]
          },
          "metadata": {},
          "execution_count": 125
        }
      ]
    },
    {
      "cell_type": "code",
      "source": [
        "viz = PrecisionRecallCurve(\n",
        "    AdaBoostClassifier(n_estimators= 400, random_state = 42, learning_rate=1),\n",
        "    classes=ada.classes_,\n",
        "    per_class=True,\n",
        "    cmap=\"Set1\"\n",
        ")\n",
        "viz.fit(X_train_count,y_train)\n",
        "viz.score(X_test_count, y_test)\n",
        "viz.show();"
      ],
      "metadata": {
        "colab": {
          "base_uri": "https://localhost:8080/",
          "height": 376
        },
        "id": "5n9evo3Zkl8F",
        "outputId": "91d4dbc7-e8cc-48a6-a631-6e884b1f0c96"
      },
      "execution_count": null,
      "outputs": [
        {
          "output_type": "display_data",
          "data": {
            "text/plain": [
              "<Figure size 576x396 with 1 Axes>"
            ],
            "image/png": "[encoded data removed]"
          },
          "metadata": {}
        }
      ]
    },
    {
      "cell_type": "code",
      "source": [
        "y_pred = ada.predict(X_test_count)\n",
        "ada_AP_count = viz.score_\n",
        "ada_count_rec = recall_score(y_test, y_pred)\n",
        "ada_count_f1 = f1_score(y_test,y_pred)"
      ],
      "metadata": {
        "id": "NsstePB1kwPj"
      },
      "execution_count": null,
      "outputs": []
    },
    {
      "cell_type": "markdown",
      "metadata": {
        "id": "TkBYO2fdyaa8"
      },
      "source": [
        "### TF-IDF"
      ]
    },
    {
      "cell_type": "code",
      "execution_count": null,
      "metadata": {
        "id": "JO-PdyCtyaa8",
        "colab": {
          "base_uri": "https://localhost:8080/"
        },
        "outputId": "6cd4c6c4-ad62-49c5-e312-24517602f295"
      },
      "outputs": [
        {
          "output_type": "execute_result",
          "data": {
            "text/plain": [
              "AdaBoostClassifier(learning_rate=1, n_estimators=400, random_state=42)"
            ]
          },
          "metadata": {},
          "execution_count": 128
        }
      ],
      "source": [
        "ada = AdaBoostClassifier(n_estimators= 400, random_state = 42, learning_rate=1)\n",
        "ada.fit(X_train_tf_idf, y_train)"
      ]
    },
    {
      "cell_type": "code",
      "execution_count": null,
      "metadata": {
        "id": "3eLEu7-Nyaa8",
        "colab": {
          "base_uri": "https://localhost:8080/"
        },
        "outputId": "947ad40d-5b7e-4a6f-f2ec-fe48a26527cf"
      },
      "outputs": [
        {
          "output_type": "stream",
          "name": "stdout",
          "text": [
            "Ada MODEL\n",
            "[[3266  186]\n",
            " [ 266  517]]\n",
            "Test_Set\n",
            "              precision    recall  f1-score   support\n",
            "\n",
            "           0       0.92      0.95      0.94      3452\n",
            "           1       0.74      0.66      0.70       783\n",
            "\n",
            "    accuracy                           0.89      4235\n",
            "   macro avg       0.83      0.80      0.82      4235\n",
            "weighted avg       0.89      0.89      0.89      4235\n",
            "\n",
            "Train_Set\n",
            "              precision    recall  f1-score   support\n",
            "\n",
            "           0       0.95      0.97      0.96     13809\n",
            "           1       0.86      0.76      0.81      3131\n",
            "\n",
            "    accuracy                           0.93     16940\n",
            "   macro avg       0.90      0.87      0.88     16940\n",
            "weighted avg       0.93      0.93      0.93     16940\n",
            "\n"
          ]
        }
      ],
      "source": [
        "print(\"Ada MODEL\")\n",
        "eval(ada, X_train_tf_idf, X_test_tf_idf)"
      ]
    },
    {
      "cell_type": "code",
      "source": [
        "model = AdaBoostClassifier(n_estimators= 400, random_state = 42, learning_rate=1)\n",
        "scores = cross_validate(model, X_train_tf_idf, y_train, scoring = scoring, cv = 10)\n",
        "df_scores = pd.DataFrame(scores, index = range(1, 11))\n",
        "df_scores.mean()[2:]"
      ],
      "metadata": {
        "colab": {
          "base_uri": "https://localhost:8080/"
        },
        "id": "Eh96qWrMlMUw",
        "outputId": "2d381fbc-9a22-4e53-e43d-2d3416131ec4"
      },
      "execution_count": null,
      "outputs": [
        {
          "output_type": "execute_result",
          "data": {
            "text/plain": [
              "test_accuracy     0.892149\n",
              "test_f1           0.688924\n",
              "test_recall       0.647720\n",
              "test_precision    0.736772\n",
              "dtype: float64"
            ]
          },
          "metadata": {},
          "execution_count": 130
        }
      ]
    },
    {
      "cell_type": "code",
      "source": [
        "viz = PrecisionRecallCurve(\n",
        "    AdaBoostClassifier(n_estimators= 400, random_state = 42, learning_rate=1),\n",
        "    classes=ada.classes_,\n",
        "    per_class=True,\n",
        "    cmap=\"Set1\"\n",
        ")\n",
        "viz.fit(X_train_tf_idf,y_train)\n",
        "viz.score(X_test_tf_idf, y_test)\n",
        "viz.show();"
      ],
      "metadata": {
        "colab": {
          "base_uri": "https://localhost:8080/",
          "height": 376
        },
        "id": "pIp0ORPMlcZ_",
        "outputId": "c2e7a6d0-aa62-453c-d505-09c11fe01908"
      },
      "execution_count": null,
      "outputs": [
        {
          "output_type": "display_data",
          "data": {
            "text/plain": [
              "<Figure size 576x396 with 1 Axes>"
            ],
            "image/png": "[encoded data removed]"
          },
          "metadata": {}
        }
      ]
    },
    {
      "cell_type": "code",
      "source": [
        "y_pred = ada.predict(X_test_tf_idf)\n",
        "ada_AP_tfidf = viz.score_\n",
        "ada_tfidf_rec = recall_score(y_test, y_pred)\n",
        "ada_tfidf_f1 = f1_score(y_test,y_pred)"
      ],
      "metadata": {
        "id": "BmqgfSnoljWd"
      },
      "execution_count": null,
      "outputs": []
    },
    {
      "cell_type": "markdown",
      "metadata": {
        "id": "d_u6smUMyaa8"
      },
      "source": [
        "## DL modeling"
      ]
    },
    {
      "cell_type": "code",
      "execution_count": null,
      "metadata": {
        "id": "L41zsZXfyaa9"
      },
      "outputs": [],
      "source": [
        "from tensorflow.keras.models import Sequential\n",
        "from tensorflow.keras.layers import Dense, GRU, Embedding, Dropout\n",
        "from tensorflow.keras.optimizers import Adam\n",
        "from tensorflow.keras.preprocessing.text import Tokenizer\n",
        "from tensorflow.keras.preprocessing.sequence import pad_sequences"
      ]
    },
    {
      "cell_type": "code",
      "execution_count": null,
      "metadata": {
        "id": "hgZzYhYfyaa9",
        "colab": {
          "base_uri": "https://localhost:8080/",
          "height": 424
        },
        "outputId": "3d134690-2ecd-4f3c-bdca-39652f8456e7"
      },
      "outputs": [
        {
          "output_type": "execute_result",
          "data": {
            "text/plain": [
              "                                             Review Text  Recommended IND\n",
              "0      Absolutely wonderful - silky and sexy and comf...                1\n",
              "1      Love this dress!  it's sooo pretty.  i happene...                1\n",
              "2      I had such high hopes for this dress and reall...                0\n",
              "3      I love, love, love this jumpsuit. it's fun, fl...                1\n",
              "4      This shirt is very flattering to all due to th...                1\n",
              "...                                                  ...              ...\n",
              "21170  I was surprised at the positive reviews for th...                0\n",
              "21171  So i wasn't sure about ordering this skirt bec...                1\n",
              "21172  I was very happy to snag this dress at such a ...                1\n",
              "21173  This fit well, but the top was very see throug...                0\n",
              "21174  This dress in a lovely platinum is feminine an...                1\n",
              "\n",
              "[21175 rows x 2 columns]"
            ],
            "text/html": [
              "\n",
              "  <div id=\"df-e30481a4-152c-4581-b880-e107f505bf11\">\n",
              "    <div class=\"colab-df-container\">\n",
              "      <div>\n",
              "<style scoped>\n",
              "    .dataframe tbody tr th:only-of-type {\n",
              "        vertical-align: middle;\n",
              "    }\n",
              "\n",
              "    .dataframe tbody tr th {\n",
              "        vertical-align: top;\n",
              "    }\n",
              "\n",
              "    .dataframe thead th {\n",
              "        text-align: right;\n",
              "    }\n",
              "</style>\n",
              "<table border=\"1\" class=\"dataframe\">\n",
              "  <thead>\n",
              "    <tr style=\"text-align: right;\">\n",
              "      <th></th>\n",
              "      <th>Review Text</th>\n",
              "      <th>Recommended IND</th>\n",
              "    </tr>\n",
              "  </thead>\n",
              "  <tbody>\n",
              "    <tr>\n",
              "      <th>0</th>\n",
              "      <td>Absolutely wonderful - silky and sexy and comf...</td>\n",
              "      <td>1</td>\n",
              "    </tr>\n",
              "    <tr>\n",
              "      <th>1</th>\n",
              "      <td>Love this dress!  it's sooo pretty.  i happene...</td>\n",
              "      <td>1</td>\n",
              "    </tr>\n",
              "    <tr>\n",
              "      <th>2</th>\n",
              "      <td>I had such high hopes for this dress and reall...</td>\n",
              "      <td>0</td>\n",
              "    </tr>\n",
              "    <tr>\n",
              "      <th>3</th>\n",
              "      <td>I love, love, love this jumpsuit. it's fun, fl...</td>\n",
              "      <td>1</td>\n",
              "    </tr>\n",
              "    <tr>\n",
              "      <th>4</th>\n",
              "      <td>This shirt is very flattering to all due to th...</td>\n",
              "      <td>1</td>\n",
              "    </tr>\n",
              "    <tr>\n",
              "      <th>...</th>\n",
              "      <td>...</td>\n",
              "      <td>...</td>\n",
              "    </tr>\n",
              "    <tr>\n",
              "      <th>21170</th>\n",
              "      <td>I was surprised at the positive reviews for th...</td>\n",
              "      <td>0</td>\n",
              "    </tr>\n",
              "    <tr>\n",
              "      <th>21171</th>\n",
              "      <td>So i wasn't sure about ordering this skirt bec...</td>\n",
              "      <td>1</td>\n",
              "    </tr>\n",
              "    <tr>\n",
              "      <th>21172</th>\n",
              "      <td>I was very happy to snag this dress at such a ...</td>\n",
              "      <td>1</td>\n",
              "    </tr>\n",
              "    <tr>\n",
              "      <th>21173</th>\n",
              "      <td>This fit well, but the top was very see throug...</td>\n",
              "      <td>0</td>\n",
              "    </tr>\n",
              "    <tr>\n",
              "      <th>21174</th>\n",
              "      <td>This dress in a lovely platinum is feminine an...</td>\n",
              "      <td>1</td>\n",
              "    </tr>\n",
              "  </tbody>\n",
              "</table>\n",
              "<p>21175 rows × 2 columns</p>\n",
              "</div>\n",
              "      <button class=\"colab-df-convert\" onclick=\"convertToInteractive('df-e30481a4-152c-4581-b880-e107f505bf11')\"\n",
              "              title=\"Convert this dataframe to an interactive table.\"\n",
              "              style=\"display:none;\">\n",
              "        \n",
              "  <svg xmlns=\"http://www.w3.org/2000/svg\" height=\"24px\"viewBox=\"0 0 24 24\"\n",
              "       width=\"24px\">\n",
              "    <path d=\"M0 0h24v24H0V0z\" fill=\"none\"/>\n",
              "    <path d=\"M18.56 5.44l.94 2.06.94-2.06 2.06-.94-2.06-.94-.94-2.06-.94 2.06-2.06.94zm-11 1L8.5 8.5l.94-2.06 2.06-.94-2.06-.94L8.5 2.5l-.94 2.06-2.06.94zm10 10l.94 2.06.94-2.06 2.06-.94-2.06-.94-.94-2.06-.94 2.06-2.06.94z\"/><path d=\"M17.41 7.96l-1.37-1.37c-.4-.4-.92-.59-1.43-.59-.52 0-1.04.2-1.43.59L10.3 9.45l-7.72 7.72c-.78.78-.78 2.05 0 2.83L4 21.41c.39.39.9.59 1.41.59.51 0 1.02-.2 1.41-.59l7.78-7.78 2.81-2.81c.8-.78.8-2.07 0-2.86zM5.41 20L4 18.59l7.72-7.72 1.47 1.35L5.41 20z\"/>\n",
              "  </svg>\n",
              "      </button>\n",
              "      \n",
              "  <style>\n",
              "    .colab-df-container {\n",
              "      display:flex;\n",
              "      flex-wrap:wrap;\n",
              "      gap: 12px;\n",
              "    }\n",
              "\n",
              "    .colab-df-convert {\n",
              "      background-color: #E8F0FE;\n",
              "      border: none;\n",
              "      border-radius: 50%;\n",
              "      cursor: pointer;\n",
              "      display: none;\n",
              "      fill: #1967D2;\n",
              "      height: 32px;\n",
              "      padding: 0 0 0 0;\n",
              "      width: 32px;\n",
              "    }\n",
              "\n",
              "    .colab-df-convert:hover {\n",
              "      background-color: #E2EBFA;\n",
              "      box-shadow: 0px 1px 2px rgba(60, 64, 67, 0.3), 0px 1px 3px 1px rgba(60, 64, 67, 0.15);\n",
              "      fill: #174EA6;\n",
              "    }\n",
              "\n",
              "    [theme=dark] .colab-df-convert {\n",
              "      background-color: #3B4455;\n",
              "      fill: #D2E3FC;\n",
              "    }\n",
              "\n",
              "    [theme=dark] .colab-df-convert:hover {\n",
              "      background-color: #434B5C;\n",
              "      box-shadow: 0px 1px 3px 1px rgba(0, 0, 0, 0.15);\n",
              "      filter: drop-shadow(0px 1px 2px rgba(0, 0, 0, 0.3));\n",
              "      fill: #FFFFFF;\n",
              "    }\n",
              "  </style>\n",
              "\n",
              "      <script>\n",
              "        const buttonEl =\n",
              "          document.querySelector('#df-e30481a4-152c-4581-b880-e107f505bf11 button.colab-df-convert');\n",
              "        buttonEl.style.display =\n",
              "          google.colab.kernel.accessAllowed ? 'block' : 'none';\n",
              "\n",
              "        async function convertToInteractive(key) {\n",
              "          const element = document.querySelector('#df-e30481a4-152c-4581-b880-e107f505bf11');\n",
              "          const dataTable =\n",
              "            await google.colab.kernel.invokeFunction('convertToInteractive',\n",
              "                                                     [key], {});\n",
              "          if (!dataTable) return;\n",
              "\n",
              "          const docLinkHtml = 'Like what you see? Visit the ' +\n",
              "            '<a target=\"_blank\" href=https://colab.research.google.com/notebooks/data_table.ipynb>data table notebook</a>'\n",
              "            + ' to learn more about interactive tables.';\n",
              "          element.innerHTML = '';\n",
              "          dataTable['output_type'] = 'display_data';\n",
              "          await google.colab.output.renderOutput(dataTable, element);\n",
              "          const docLink = document.createElement('div');\n",
              "          docLink.innerHTML = docLinkHtml;\n",
              "          element.appendChild(docLink);\n",
              "        }\n",
              "      </script>\n",
              "    </div>\n",
              "  </div>\n",
              "  "
            ]
          },
          "metadata": {},
          "execution_count": 134
        }
      ],
      "source": [
        "df"
      ]
    },
    {
      "cell_type": "markdown",
      "metadata": {
        "id": "EsBCaOJwyaa9"
      },
      "source": [
        "### Tokenization"
      ]
    },
    {
      "cell_type": "code",
      "execution_count": null,
      "metadata": {
        "id": "8VoMw3wWyaa-"
      },
      "outputs": [],
      "source": [
        "num_words = 15000  \n",
        "tokenizer = Tokenizer(num_words=num_words)  "
      ]
    },
    {
      "cell_type": "code",
      "execution_count": null,
      "metadata": {
        "id": "Sk9qU4g3yaa-"
      },
      "outputs": [],
      "source": [
        "tokenizer.fit_on_texts(X)"
      ]
    },
    {
      "cell_type": "markdown",
      "metadata": {
        "id": "cBqiLAauyaa_"
      },
      "source": [
        "### Creating word index"
      ]
    },
    {
      "cell_type": "code",
      "execution_count": null,
      "metadata": {
        "id": "s2-nask6yabA",
        "colab": {
          "base_uri": "https://localhost:8080/"
        },
        "outputId": "a9003478-8165-4086-e0bd-ccfa5deea39e"
      },
      "outputs": [
        {
          "output_type": "execute_result",
          "data": {
            "text/plain": [
              "{'the': 1,\n",
              " 'i': 2,\n",
              " 'and': 3,\n",
              " 'a': 4,\n",
              " 'it': 5,\n",
              " 'is': 6,\n",
              " 'this': 7,\n",
              " 'to': 8,\n",
              " 'in': 9,\n",
              " 'but': 10,\n",
              " 'on': 11,\n",
              " 'for': 12,\n",
              " 'of': 13,\n",
              " 'with': 14,\n",
              " 'so': 15,\n",
              " 'was': 16,\n",
              " 'my': 17,\n",
              " 'dress': 18,\n",
              " 'not': 19,\n",
              " 'that': 20,\n",
              " 'love': 21,\n",
              " 'size': 22,\n",
              " 'very': 23,\n",
              " 'have': 24,\n",
              " 'top': 25,\n",
              " 'are': 26,\n",
              " 'fit': 27,\n",
              " 'like': 28,\n",
              " 'be': 29,\n",
              " 'as': 30,\n",
              " 'wear': 31,\n",
              " 'me': 32,\n",
              " \"it's\": 33,\n",
              " 'great': 34,\n",
              " 'or': 35,\n",
              " 'too': 36,\n",
              " \"i'm\": 37,\n",
              " 'am': 38,\n",
              " 'just': 39,\n",
              " 'you': 40,\n",
              " 'they': 41,\n",
              " 'up': 42,\n",
              " 'would': 43,\n",
              " 'at': 44,\n",
              " 'fabric': 45,\n",
              " 'small': 46,\n",
              " 'color': 47,\n",
              " 'look': 48,\n",
              " 'more': 49,\n",
              " 'perfect': 50,\n",
              " 'really': 51,\n",
              " 'little': 52,\n",
              " 'ordered': 53,\n",
              " 'if': 54,\n",
              " 'these': 55,\n",
              " 'will': 56,\n",
              " 'one': 57,\n",
              " 'flattering': 58,\n",
              " 'soft': 59,\n",
              " 'well': 60,\n",
              " 'an': 61,\n",
              " 'out': 62,\n",
              " 'can': 63,\n",
              " 'comfortable': 64,\n",
              " 'back': 65,\n",
              " 'because': 66,\n",
              " 'had': 67,\n",
              " 'bought': 68,\n",
              " '\\r': 69,\n",
              " 'nice': 70,\n",
              " 'cute': 71,\n",
              " 'beautiful': 72,\n",
              " 'than': 73,\n",
              " 'fits': 74,\n",
              " 'looks': 75,\n",
              " 'all': 76,\n",
              " 'when': 77,\n",
              " 'bit': 78,\n",
              " 'down': 79,\n",
              " 'shirt': 80,\n",
              " 'which': 81,\n",
              " 'large': 82,\n",
              " 'material': 83,\n",
              " 'them': 84,\n",
              " 'length': 85,\n",
              " 'much': 86,\n",
              " 'sweater': 87,\n",
              " 'has': 88,\n",
              " 'also': 89,\n",
              " 'jeans': 90,\n",
              " 'long': 91,\n",
              " 'got': 92,\n",
              " 'colors': 93,\n",
              " 'petite': 94,\n",
              " 'waist': 95,\n",
              " 'quality': 96,\n",
              " 'medium': 97,\n",
              " 'xs': 98,\n",
              " 'think': 99,\n",
              " 'even': 100,\n",
              " 'pretty': 101,\n",
              " 'retailer': 102,\n",
              " 'work': 103,\n",
              " 'tried': 104,\n",
              " 'store': 105,\n",
              " 'from': 106,\n",
              " 'usually': 107,\n",
              " 'skirt': 108,\n",
              " 'other': 109,\n",
              " 'pants': 110,\n",
              " 'about': 111,\n",
              " 'good': 112,\n",
              " 'get': 113,\n",
              " 'only': 114,\n",
              " 'short': 115,\n",
              " 'made': 116,\n",
              " 'could': 117,\n",
              " 'way': 118,\n",
              " 'cut': 119,\n",
              " 'black': 120,\n",
              " 'big': 121,\n",
              " 'see': 122,\n",
              " 'super': 123,\n",
              " 'true': 124,\n",
              " 'still': 125,\n",
              " \"don't\": 126,\n",
              " 'right': 127,\n",
              " \"didn't\": 128,\n",
              " 'were': 129,\n",
              " 'there': 130,\n",
              " 'did': 131,\n",
              " 'runs': 132,\n",
              " 'style': 133,\n",
              " 'do': 134,\n",
              " 'online': 135,\n",
              " 'summer': 136,\n",
              " 'sleeves': 137,\n",
              " 'purchased': 138,\n",
              " 'no': 139,\n",
              " 'wearing': 140,\n",
              " 'white': 141,\n",
              " 'does': 142,\n",
              " 'go': 143,\n",
              " 'feel': 144,\n",
              " 'design': 145,\n",
              " 'perfectly': 146,\n",
              " 'enough': 147,\n",
              " 'off': 148,\n",
              " 'tight': 149,\n",
              " 'over': 150,\n",
              " 'however': 151,\n",
              " 'some': 152,\n",
              " 'definitely': 153,\n",
              " '4': 154,\n",
              " 'blue': 155,\n",
              " 'sale': 156,\n",
              " 'person': 157,\n",
              " 'model': 158,\n",
              " 'front': 159,\n",
              " '2': 160,\n",
              " 'though': 161,\n",
              " 'lbs': 162,\n",
              " 'price': 163,\n",
              " 'been': 164,\n",
              " 'how': 165,\n",
              " 'looked': 166,\n",
              " 'fall': 167,\n",
              " 'jacket': 168,\n",
              " 'loved': 169,\n",
              " 'what': 170,\n",
              " 'first': 171,\n",
              " 'your': 172,\n",
              " 'better': 173,\n",
              " 'bottom': 174,\n",
              " 'high': 175,\n",
              " 'worn': 176,\n",
              " 'loose': 177,\n",
              " 'body': 178,\n",
              " '6': 179,\n",
              " 'try': 180,\n",
              " 'going': 181,\n",
              " 'regular': 182,\n",
              " 'time': 183,\n",
              " 'many': 184,\n",
              " 'looking': 185,\n",
              " 'light': 186,\n",
              " 'around': 187,\n",
              " 'shape': 188,\n",
              " 'make': 189,\n",
              " 'both': 190,\n",
              " 'piece': 191,\n",
              " 'saw': 192,\n",
              " 'casual': 193,\n",
              " 'lovely': 194,\n",
              " 'gorgeous': 195,\n",
              " 'thought': 196,\n",
              " 's': 197,\n",
              " 'compliments': 198,\n",
              " 'makes': 199,\n",
              " 'without': 200,\n",
              " 'recommend': 201,\n",
              " 'chest': 202,\n",
              " 'through': 203,\n",
              " 'shoulders': 204,\n",
              " 'arms': 205,\n",
              " 'after': 206,\n",
              " 'wanted': 207,\n",
              " 'thin': 208,\n",
              " 'went': 209,\n",
              " \"doesn't\": 210,\n",
              " 'being': 211,\n",
              " 'pattern': 212,\n",
              " 'pair': 213,\n",
              " 'bust': 214,\n",
              " 'side': 215,\n",
              " 'wore': 216,\n",
              " 'blouse': 217,\n",
              " 'need': 218,\n",
              " 'found': 219,\n",
              " 'want': 220,\n",
              " 'find': 221,\n",
              " 'tops': 222,\n",
              " 'weight': 223,\n",
              " 'run': 224,\n",
              " \"can't\": 225,\n",
              " 'reviews': 226,\n",
              " \"i've\": 227,\n",
              " 'sure': 228,\n",
              " 'bra': 229,\n",
              " 'buy': 230,\n",
              " 'picture': 231,\n",
              " 'since': 232,\n",
              " 'wish': 233,\n",
              " 'print': 234,\n",
              " 'comfy': 235,\n",
              " 'usual': 236,\n",
              " 'dresses': 237,\n",
              " 'received': 238,\n",
              " '8': 239,\n",
              " 'normally': 240,\n",
              " 'its': 241,\n",
              " 'while': 242,\n",
              " 'hips': 243,\n",
              " 'by': 244,\n",
              " 'different': 245,\n",
              " 'lot': 246,\n",
              " 'order': 247,\n",
              " 'absolutely': 248,\n",
              " 'any': 249,\n",
              " 'longer': 250,\n",
              " 'most': 251,\n",
              " 'm': 252,\n",
              " 'slightly': 253,\n",
              " 'detail': 254,\n",
              " 'fitted': 255,\n",
              " 'overall': 256,\n",
              " 'nicely': 257,\n",
              " 'day': 258,\n",
              " 'may': 259,\n",
              " 'green': 260,\n",
              " 'quite': 261,\n",
              " 'red': 262,\n",
              " 'leggings': 263,\n",
              " '5': 264,\n",
              " 'two': 265,\n",
              " 'easy': 266,\n",
              " 'underneath': 267,\n",
              " 'another': 268,\n",
              " 'then': 269,\n",
              " 'happy': 270,\n",
              " 'keep': 271,\n",
              " 'might': 272,\n",
              " 'neck': 273,\n",
              " 'stretch': 274,\n",
              " 'unique': 275,\n",
              " 'fun': 276,\n",
              " 'say': 277,\n",
              " 'now': 278,\n",
              " 'under': 279,\n",
              " 'felt': 280,\n",
              " 'wide': 281,\n",
              " 'lace': 282,\n",
              " 'extra': 283,\n",
              " 'tank': 284,\n",
              " \"wasn't\": 285,\n",
              " 'boxy': 286,\n",
              " 'warm': 287,\n",
              " 'actually': 288,\n",
              " 'return': 289,\n",
              " '10': 290,\n",
              " 'almost': 291,\n",
              " 'photo': 292,\n",
              " 'sizing': 293,\n",
              " 'probably': 294,\n",
              " 'something': 295,\n",
              " 'dressed': 296,\n",
              " 'flowy': 297,\n",
              " 'sizes': 298,\n",
              " 'glad': 299,\n",
              " 'purchase': 300,\n",
              " 'fine': 301,\n",
              " 'tee': 302,\n",
              " 'boots': 303,\n",
              " 'sheer': 304,\n",
              " 'pockets': 305,\n",
              " 'low': 306,\n",
              " 'feels': 307,\n",
              " \"5'4\": 308,\n",
              " 't': 309,\n",
              " 'worth': 310,\n",
              " 'into': 311,\n",
              " 'every': 312,\n",
              " 'area': 313,\n",
              " 'such': 314,\n",
              " 'same': 315,\n",
              " 'full': 316,\n",
              " 'between': 317,\n",
              " 'give': 318,\n",
              " 'smaller': 319,\n",
              " 'spring': 320,\n",
              " 'yet': 321,\n",
              " 'put': 322,\n",
              " 'tts': 323,\n",
              " 'always': 324,\n",
              " 'said': 325,\n",
              " 'shorter': 326,\n",
              " 'denim': 327,\n",
              " 'buttons': 328,\n",
              " 'wait': 329,\n",
              " 'versatile': 330,\n",
              " 'tall': 331,\n",
              " 'everything': 332,\n",
              " 'navy': 333,\n",
              " 'reference': 334,\n",
              " 'skinny': 335,\n",
              " 'unfortunately': 336,\n",
              " 'sized': 337,\n",
              " 'winter': 338,\n",
              " 'neckline': 339,\n",
              " 'disappointed': 340,\n",
              " 'favorite': 341,\n",
              " 'line': 342,\n",
              " 'above': 343,\n",
              " 'adorable': 344,\n",
              " 'especially': 345,\n",
              " 'maybe': 346,\n",
              " 'should': 347,\n",
              " 'decided': 348,\n",
              " 'thick': 349,\n",
              " 'part': 350,\n",
              " 'liked': 351,\n",
              " 'easily': 352,\n",
              " 'shorts': 353,\n",
              " 'grey': 354,\n",
              " 'larger': 355,\n",
              " 'where': 356,\n",
              " \"i'd\": 357,\n",
              " 'amazing': 358,\n",
              " 'heavy': 359,\n",
              " 'pink': 360,\n",
              " 'fitting': 361,\n",
              " 'came': 362,\n",
              " 'huge': 363,\n",
              " 'coat': 364,\n",
              " 'details': 365,\n",
              " 'best': 366,\n",
              " 'room': 367,\n",
              " 'take': 368,\n",
              " 'lightweight': 369,\n",
              " 'thing': 370,\n",
              " 'snug': 371,\n",
              " 'problem': 372,\n",
              " 'returned': 373,\n",
              " 'button': 374,\n",
              " 'figure': 375,\n",
              " 'feminine': 376,\n",
              " 'reviewers': 377,\n",
              " \"5'3\": 378,\n",
              " \"isn't\": 379,\n",
              " 'slip': 380,\n",
              " 'seems': 381,\n",
              " 'wash': 382,\n",
              " 'normal': 383,\n",
              " 'few': 384,\n",
              " '3': 385,\n",
              " 'cotton': 386,\n",
              " 'hem': 387,\n",
              " 'tunic': 388,\n",
              " 'knee': 389,\n",
              " 'pictured': 390,\n",
              " 'took': 391,\n",
              " \"couldn't\": 392,\n",
              " 'knit': 393,\n",
              " 'cardigan': 394,\n",
              " 'know': 395,\n",
              " 'goes': 396,\n",
              " 'dark': 397,\n",
              " 'l': 398,\n",
              " 'beautifully': 399,\n",
              " 'cami': 400,\n",
              " 'highly': 401,\n",
              " 'works': 402,\n",
              " 'kind': 403,\n",
              " 'embroidery': 404,\n",
              " \"that's\": 405,\n",
              " \"5'2\": 406,\n",
              " '0': 407,\n",
              " 'hit': 408,\n",
              " 'hits': 409,\n",
              " \"5'5\": 410,\n",
              " 'belt': 411,\n",
              " 'curvy': 412,\n",
              " 'show': 413,\n",
              " 'reviewer': 414,\n",
              " 'lined': 415,\n",
              " 'extremely': 416,\n",
              " 'lining': 417,\n",
              " 'able': 418,\n",
              " 'xl': 419,\n",
              " 'expected': 420,\n",
              " 'although': 421,\n",
              " 'torso': 422,\n",
              " 'never': 423,\n",
              " 'typically': 424,\n",
              " 'once': 425,\n",
              " 'anything': 426,\n",
              " \"i'll\": 427,\n",
              " '12': 428,\n",
              " 'before': 429,\n",
              " 'legs': 430,\n",
              " 'today': 431,\n",
              " 'arm': 432,\n",
              " 'washed': 433,\n",
              " 'year': 434,\n",
              " 'returning': 435,\n",
              " 'frame': 436,\n",
              " 'excited': 437,\n",
              " 'new': 438,\n",
              " 'either': 439,\n",
              " 'weather': 440,\n",
              " \"5'7\": 441,\n",
              " 'those': 442,\n",
              " 'cool': 443,\n",
              " 'ended': 444,\n",
              " 'who': 445,\n",
              " 'sleeve': 446,\n",
              " 'xxs': 447,\n",
              " 'shown': 448,\n",
              " 'stretchy': 449,\n",
              " 'gray': 450,\n",
              " 'things': 451,\n",
              " 'needed': 452,\n",
              " 'sold': 453,\n",
              " \"5'6\": 454,\n",
              " 'below': 455,\n",
              " 'shoulder': 456,\n",
              " 'issue': 457,\n",
              " 'last': 458,\n",
              " 'photos': 459,\n",
              " 'bad': 460,\n",
              " 'trying': 461,\n",
              " 'tie': 462,\n",
              " 'already': 463,\n",
              " 'wardrobe': 464,\n",
              " 'fell': 465,\n",
              " 'days': 466,\n",
              " \"you're\": 467,\n",
              " 'hard': 468,\n",
              " 'cozy': 469,\n",
              " 'layer': 470,\n",
              " 'add': 471,\n",
              " 'zipper': 472,\n",
              " 'exactly': 473,\n",
              " 'holes': 474,\n",
              " 'agree': 475,\n",
              " 'someone': 476,\n",
              " 'why': 477,\n",
              " 'suit': 478,\n",
              " 'brand': 479,\n",
              " 'type': 480,\n",
              " 'arrived': 481,\n",
              " 'come': 482,\n",
              " 'heels': 483,\n",
              " '26': 484,\n",
              " 'local': 485,\n",
              " 'orange': 486,\n",
              " 'hot': 487,\n",
              " 'cheap': 488,\n",
              " 'due': 489,\n",
              " 'across': 490,\n",
              " 'ever': 491,\n",
              " 'otherwise': 492,\n",
              " 'straps': 493,\n",
              " 'skin': 494,\n",
              " 'again': 495,\n",
              " 'stylish': 496,\n",
              " 'away': 497,\n",
              " 'vest': 498,\n",
              " 'hoping': 499,\n",
              " 'tad': 500,\n",
              " 'classic': 501,\n",
              " \"5'8\": 502,\n",
              " 'swing': 503,\n",
              " 'plan': 504,\n",
              " \"5'\": 505,\n",
              " 'inches': 506,\n",
              " 'vibrant': 507,\n",
              " 'must': 508,\n",
              " 'open': 509,\n",
              " 'unflattering': 510,\n",
              " \"wouldn't\": 511,\n",
              " 'getting': 512,\n",
              " 'rather': 513,\n",
              " 'wonderful': 514,\n",
              " 'surprised': 515,\n",
              " \"they're\": 516,\n",
              " 'pilcro': 517,\n",
              " 'several': 518,\n",
              " 'dry': 519,\n",
              " 'sides': 520,\n",
              " 'keeping': 521,\n",
              " 'ran': 522,\n",
              " 'least': 523,\n",
              " 'touch': 524,\n",
              " 'delicate': 525,\n",
              " 'others': 526,\n",
              " '1': 527,\n",
              " 'plus': 528,\n",
              " 'pounds': 529,\n",
              " 'baggy': 530,\n",
              " 'pull': 531,\n",
              " 'pictures': 532,\n",
              " 'drapes': 533,\n",
              " 'slim': 534,\n",
              " 'sadly': 535,\n",
              " 'years': 536,\n",
              " 'less': 537,\n",
              " 'simple': 538,\n",
              " 'stunning': 539,\n",
              " 'roomy': 540,\n",
              " 'bright': 541,\n",
              " 'straight': 542,\n",
              " 'based': 543,\n",
              " 'nothing': 544,\n",
              " 'paired': 545,\n",
              " 'shirts': 546,\n",
              " 'use': 547,\n",
              " 'yellow': 548,\n",
              " 'ordering': 549,\n",
              " '27': 550,\n",
              " 'item': 551,\n",
              " 'night': 552,\n",
              " 'skirts': 553,\n",
              " 'drape': 554,\n",
              " 'hangs': 555,\n",
              " 'sometimes': 556,\n",
              " 'tights': 557,\n",
              " 'kept': 558,\n",
              " 'their': 559,\n",
              " 'gives': 560,\n",
              " 'available': 561,\n",
              " 'ankle': 562,\n",
              " 'cropped': 563,\n",
              " 'myself': 564,\n",
              " 'times': 565,\n",
              " 'seem': 566,\n",
              " 'waisted': 567,\n",
              " '28': 568,\n",
              " 'review': 569,\n",
              " 'own': 570,\n",
              " 'flat': 571,\n",
              " 'buying': 572,\n",
              " 'v': 573,\n",
              " 'itchy': 574,\n",
              " 'version': 575,\n",
              " 'wedding': 576,\n",
              " 'worked': 577,\n",
              " 'oversized': 578,\n",
              " 'adds': 579,\n",
              " 'instead': 580,\n",
              " 'far': 581,\n",
              " 'previous': 582,\n",
              " 'special': 583,\n",
              " 'bigger': 584,\n",
              " 'immediately': 585,\n",
              " 'lots': 586,\n",
              " 'staple': 587,\n",
              " 'comes': 588,\n",
              " 'tiny': 589,\n",
              " 'she': 590,\n",
              " 'sandals': 591,\n",
              " 'booties': 592,\n",
              " 'busty': 593,\n",
              " 'falls': 594,\n",
              " 'cover': 595,\n",
              " 'lower': 596,\n",
              " 'making': 597,\n",
              " 'ivory': 598,\n",
              " 'here': 599,\n",
              " 'flare': 600,\n",
              " 'season': 601,\n",
              " \"5'1\": 602,\n",
              " \"won't\": 603,\n",
              " 'mine': 604,\n",
              " 'mentioned': 605,\n",
              " 'seemed': 606,\n",
              " 'higher': 607,\n",
              " 'mid': 608,\n",
              " 'totally': 609,\n",
              " 'cold': 610,\n",
              " 'having': 611,\n",
              " '115': 612,\n",
              " 'jean': 613,\n",
              " \"5'9\": 614,\n",
              " 'second': 615,\n",
              " 'end': 616,\n",
              " 'elastic': 617,\n",
              " 'leg': 618,\n",
              " 'athletic': 619,\n",
              " 'form': 620,\n",
              " 'neutral': 621,\n",
              " 'texture': 622,\n",
              " 'collar': 623,\n",
              " 'completely': 624,\n",
              " 'often': 625,\n",
              " 'knees': 626,\n",
              " 'knew': 627,\n",
              " 'worried': 628,\n",
              " 'wool': 629,\n",
              " 'slimming': 630,\n",
              " 'clothes': 631,\n",
              " 'incredibly': 632,\n",
              " 'jumpsuit': 633,\n",
              " 'used': 634,\n",
              " 'months': 635,\n",
              " 'sexy': 636,\n",
              " 'shows': 637,\n",
              " 'read': 638,\n",
              " 'finally': 639,\n",
              " 'eye': 640,\n",
              " 'interesting': 641,\n",
              " 'flats': 642,\n",
              " 'basic': 643,\n",
              " 'layering': 644,\n",
              " 'cream': 645,\n",
              " 'thinking': 646,\n",
              " 'curves': 647,\n",
              " 'awesome': 648,\n",
              " 'prefer': 649,\n",
              " 'stiff': 650,\n",
              " 'clothing': 651,\n",
              " 'fact': 652,\n",
              " 'throw': 653,\n",
              " \"there's\": 654,\n",
              " 'similar': 655,\n",
              " '120': 656,\n",
              " 'people': 657,\n",
              " 'dressy': 658,\n",
              " 'weird': 659,\n",
              " 'hope': 660,\n",
              " 'elegant': 661,\n",
              " 'linen': 662,\n",
              " 'gotten': 663,\n",
              " 'substantial': 664,\n",
              " 'sweaters': 665,\n",
              " 'bulky': 666,\n",
              " 'inside': 667,\n",
              " 'amount': 668,\n",
              " 'outfit': 669,\n",
              " 'else': 670,\n",
              " 'brown': 671,\n",
              " 'rich': 672,\n",
              " 'b': 673,\n",
              " 'subtle': 674,\n",
              " 'closet': 675,\n",
              " 'broad': 676,\n",
              " 'ok': 677,\n",
              " 'mind': 678,\n",
              " 'deep': 679,\n",
              " 'half': 680,\n",
              " 'appears': 681,\n",
              " 'addition': 682,\n",
              " 'gave': 683,\n",
              " 'justice': 684,\n",
              " 'hourglass': 685,\n",
              " 'during': 686,\n",
              " 'c': 687,\n",
              " 'next': 688,\n",
              " 'hip': 689,\n",
              " 'upper': 690,\n",
              " 'depending': 691,\n",
              " 'wrong': 692,\n",
              " 'flow': 693,\n",
              " 'maternity': 694,\n",
              " 'home': 695,\n",
              " '135': 696,\n",
              " 'appropriate': 697,\n",
              " 'reason': 698,\n",
              " 'soon': 699,\n",
              " 'odd': 700,\n",
              " 'point': 701,\n",
              " 'couple': 702,\n",
              " 'mail': 703,\n",
              " '34b': 704,\n",
              " 'colored': 705,\n",
              " 'tell': 706,\n",
              " 'armholes': 707,\n",
              " '25': 708,\n",
              " 'washing': 709,\n",
              " 'detailing': 710,\n",
              " 'purple': 711,\n",
              " '30': 712,\n",
              " 'pleased': 713,\n",
              " 'baby': 714,\n",
              " 'left': 715,\n",
              " 'her': 716,\n",
              " 'pant': 717,\n",
              " 'somewhat': 718,\n",
              " 'expect': 719,\n",
              " 'forward': 720,\n",
              " 'nude': 721,\n",
              " 'peplum': 722,\n",
              " 'until': 723,\n",
              " 'complaint': 724,\n",
              " 'stripes': 725,\n",
              " 'thighs': 726,\n",
              " 'rise': 727,\n",
              " '34c': 728,\n",
              " 'yes': 729,\n",
              " 'close': 730,\n",
              " 'hang': 731,\n",
              " 'case': 732,\n",
              " 'cannot': 733,\n",
              " '125': 734,\n",
              " '140': 735,\n",
              " 'thicker': 736,\n",
              " 'hold': 737,\n",
              " 'hand': 738,\n",
              " 'looser': 739,\n",
              " 'together': 740,\n",
              " 'w': 741,\n",
              " 'anyway': 742,\n",
              " 'flows': 743,\n",
              " \"haven't\": 744,\n",
              " 'seam': 745,\n",
              " 'silk': 746,\n",
              " 'darker': 747,\n",
              " 'pieces': 748,\n",
              " 'gold': 749,\n",
              " 'classy': 750,\n",
              " 'fairly': 751,\n",
              " 'except': 752,\n",
              " 'expecting': 753,\n",
              " 'fabulous': 754,\n",
              " 'slight': 755,\n",
              " 'blazer': 756,\n",
              " '130': 757,\n",
              " 'office': 758,\n",
              " 'maeve': 759,\n",
              " 'floral': 760,\n",
              " 'fan': 761,\n",
              " 'real': 762,\n",
              " 'bottoms': 763,\n",
              " 'chic': 764,\n",
              " 'along': 765,\n",
              " 'bodice': 766,\n",
              " 'everywhere': 767,\n",
              " 'gone': 768,\n",
              " 'motif': 769,\n",
              " 'truly': 770,\n",
              " 'idea': 771,\n",
              " 'old': 772,\n",
              " 'items': 773,\n",
              " 'tent': 774,\n",
              " 'feeling': 775,\n",
              " 'build': 776,\n",
              " 'product': 777,\n",
              " 'deal': 778,\n",
              " 'exchange': 779,\n",
              " 'added': 780,\n",
              " 'spot': 781,\n",
              " 'fantastic': 782,\n",
              " 'middle': 783,\n",
              " 'heavier': 784,\n",
              " 'typical': 785,\n",
              " 'place': 786,\n",
              " 'zip': 787,\n",
              " 'perhaps': 788,\n",
              " 'sweatshirt': 789,\n",
              " 'live': 790,\n",
              " '34': 791,\n",
              " 'inch': 792,\n",
              " 'past': 793,\n",
              " 'awkward': 794,\n",
              " 'three': 795,\n",
              " 'we': 796,\n",
              " 'anyone': 797,\n",
              " 'taller': 798,\n",
              " 'pulled': 799,\n",
              " 'leather': 800,\n",
              " 'butt': 801,\n",
              " 'tummy': 802,\n",
              " 'pairs': 803,\n",
              " 'barely': 804,\n",
              " 'hung': 805,\n",
              " 'belly': 806,\n",
              " 'seen': 807,\n",
              " 'waistband': 808,\n",
              " 'imagine': 809,\n",
              " 'noticed': 810,\n",
              " 'sad': 811,\n",
              " 'opinion': 812,\n",
              " 'showing': 813,\n",
              " 'sort': 814,\n",
              " 'tag': 815,\n",
              " 'romper': 816,\n",
              " 'weekend': 817,\n",
              " 'issues': 818,\n",
              " 'necklace': 819,\n",
              " '34d': 820,\n",
              " 'band': 821,\n",
              " 'places': 822,\n",
              " 'meant': 823,\n",
              " 'transition': 824,\n",
              " 'whole': 825,\n",
              " 'each': 826,\n",
              " 'reading': 827,\n",
              " 'itself': 828,\n",
              " 'running': 829,\n",
              " 'coverage': 830,\n",
              " 'narrow': 831,\n",
              " 'comfort': 832,\n",
              " 'lay': 833,\n",
              " '29': 834,\n",
              " 'styling': 835,\n",
              " 'says': 836,\n",
              " \"5'10\": 837,\n",
              " 'party': 838,\n",
              " 'please': 839,\n",
              " 'seams': 840,\n",
              " 'stitching': 841,\n",
              " 'lighter': 842,\n",
              " 'glove': 843,\n",
              " 'generally': 844,\n",
              " 'clingy': 845,\n",
              " '14': 846,\n",
              " 'sewn': 847,\n",
              " 'women': 848,\n",
              " 'excellent': 849,\n",
              " 'stay': 850,\n",
              " 'believe': 851,\n",
              " 'caught': 852,\n",
              " 'beach': 853,\n",
              " 'ago': 854,\n",
              " 'needs': 855,\n",
              " 'done': 856,\n",
              " 'rest': 857,\n",
              " 'unless': 858,\n",
              " 'husband': 859,\n",
              " 'seasons': 860,\n",
              " 'stars': 861,\n",
              " 'dinner': 862,\n",
              " 'chested': 863,\n",
              " 'lines': 864,\n",
              " 'relaxed': 865,\n",
              " 'scratchy': 866,\n",
              " 'airy': 867,\n",
              " 'cup': 868,\n",
              " 'chance': 869,\n",
              " 'tucked': 870,\n",
              " 'pregnant': 871,\n",
              " \"aren't\": 872,\n",
              " 'sack': 873,\n",
              " 'finding': 874,\n",
              " 'difficult': 875,\n",
              " 'girls': 876,\n",
              " 'slender': 877,\n",
              " 'coral': 878,\n",
              " 'slits': 879,\n",
              " 'strange': 880,\n",
              " '100': 881,\n",
              " 'forgiving': 882,\n",
              " 'frumpy': 883,\n",
              " 'height': 884,\n",
              " 'house': 885,\n",
              " 'girl': 886,\n",
              " 'money': 887,\n",
              " 'hide': 888,\n",
              " 'portion': 889,\n",
              " 'plenty': 890,\n",
              " 'cooler': 891,\n",
              " 'etc': 892,\n",
              " 'shaped': 893,\n",
              " 'tailored': 894,\n",
              " 'silhouette': 895,\n",
              " 'shade': 896,\n",
              " 'everyone': 897,\n",
              " 'expensive': 898,\n",
              " 'wider': 899,\n",
              " 'camisole': 900,\n",
              " 'prettier': 901,\n",
              " 'd': 902,\n",
              " 'bag': 903,\n",
              " 'structured': 904,\n",
              " 'maxi': 905,\n",
              " 'silky': 906,\n",
              " 'solid': 907,\n",
              " 'simply': 908,\n",
              " 'keeper': 909,\n",
              " 'help': 910,\n",
              " '36': 911,\n",
              " 'life': 912,\n",
              " 'care': 913,\n",
              " 'swingy': 914,\n",
              " 'clean': 915,\n",
              " 'adore': 916,\n",
              " 'ladies': 917,\n",
              " 'originally': 918,\n",
              " 'despite': 919,\n",
              " 'patterns': 920,\n",
              " 'stomach': 921,\n",
              " 'purchasing': 922,\n",
              " 'pencil': 923,\n",
              " 'jackets': 924,\n",
              " 'option': 925,\n",
              " 'wrinkle': 926,\n",
              " 'pear': 927,\n",
              " 'p': 928,\n",
              " 'wow': 929,\n",
              " '39': 930,\n",
              " 'description': 931,\n",
              " 'pleats': 932,\n",
              " 'surprise': 933,\n",
              " 'hanging': 934,\n",
              " '38': 935,\n",
              " 'round': 936,\n",
              " 'stock': 937,\n",
              " 'dressing': 938,\n",
              " 'recently': 939,\n",
              " 'natural': 940,\n",
              " 'daughter': 941,\n",
              " '40': 942,\n",
              " 'layered': 943,\n",
              " 'beading': 944,\n",
              " 'yesterday': 945,\n",
              " 'thigh': 946,\n",
              " 'website': 947,\n",
              " 'ag': 948,\n",
              " 'plaid': 949,\n",
              " 'considering': 950,\n",
              " 'plain': 951,\n",
              " 'hanger': 952,\n",
              " 'shapeless': 953,\n",
              " 'note': 954,\n",
              " 'flowers': 955,\n",
              " 'polyester': 956,\n",
              " 'beige': 957,\n",
              " 'ways': 958,\n",
              " 'poor': 959,\n",
              " 'hole': 960,\n",
              " 'oh': 961,\n",
              " 'layers': 962,\n",
              " 'ruffle': 963,\n",
              " 'tend': 964,\n",
              " 'sweet': 965,\n",
              " 'given': 966,\n",
              " 'guess': 967,\n",
              " 'everyday': 968,\n",
              " 'week': 969,\n",
              " 'holiday': 970,\n",
              " '36c': 971,\n",
              " 'covers': 972,\n",
              " 'average': 973,\n",
              " 'hides': 974,\n",
              " '32': 975,\n",
              " 'pass': 976,\n",
              " 'afraid': 977,\n",
              " 'pale': 978,\n",
              " 'us': 979,\n",
              " 'flowing': 980,\n",
              " 'let': 981,\n",
              " 'shoes': 982,\n",
              " 'pricey': 983,\n",
              " 'designed': 984,\n",
              " 'helps': 985,\n",
              " 'uncomfortable': 986,\n",
              " 'scarf': 987,\n",
              " 'machine': 988,\n",
              " 'flares': 989,\n",
              " 'snag': 990,\n",
              " 'stated': 991,\n",
              " 'twice': 992,\n",
              " 'weeks': 993,\n",
              " 'cuter': 994,\n",
              " 'petites': 995,\n",
              " 'section': 996,\n",
              " 'throughout': 997,\n",
              " 'slit': 998,\n",
              " 'evening': 999,\n",
              " 'tons': 1000,\n",
              " ...}"
            ]
          },
          "metadata": {},
          "execution_count": 137
        }
      ],
      "source": [
        "tokenizer.word_index"
      ]
    },
    {
      "cell_type": "code",
      "execution_count": null,
      "metadata": {
        "id": "ozBK5t7_yabB",
        "colab": {
          "base_uri": "https://localhost:8080/"
        },
        "outputId": "70d851d4-152a-4858-dfb0-7ca2e47b2ce9"
      },
      "outputs": [
        {
          "output_type": "execute_result",
          "data": {
            "text/plain": [
              "14389"
            ]
          },
          "metadata": {},
          "execution_count": 138
        }
      ],
      "source": [
        "len(tokenizer.word_index)"
      ]
    },
    {
      "cell_type": "markdown",
      "metadata": {
        "id": "8BgD95SgyabC"
      },
      "source": [
        "### Converting tokens to numeric"
      ]
    },
    {
      "cell_type": "code",
      "execution_count": null,
      "metadata": {
        "id": "bgyYCVMeyabD"
      },
      "outputs": [],
      "source": [
        "X_num_tokens = tokenizer.texts_to_sequences(X)"
      ]
    },
    {
      "cell_type": "code",
      "execution_count": null,
      "metadata": {
        "id": "0L6LpsuqyabE",
        "colab": {
          "base_uri": "https://localhost:8080/",
          "height": 87
        },
        "outputId": "b5b6a36b-40bd-46fb-edcb-786974cb6f36"
      },
      "outputs": [
        {
          "output_type": "execute_result",
          "data": {
            "text/plain": [
              "\"Nice top. armholes are a bit oversized but as an older woman, i'm picky about that. the print is pretty and unusual. it just didn't look great on me. there's a slight peplum in the back that hangs nicely. it's a lightweight tee fabric that's opaque. i tried it on with a black bra which was barely visible. great for warmer climates but there are so many gorgeous tops out now, that i decided to return since summer is winding down. i do recommend.\""
            ],
            "application/vnd.google.colaboratory.intrinsic+json": {
              "type": "string"
            }
          },
          "metadata": {},
          "execution_count": 140
        }
      ],
      "source": [
        "X[50]"
      ]
    },
    {
      "cell_type": "code",
      "source": [
        "print(X_num_tokens[50])"
      ],
      "metadata": {
        "colab": {
          "base_uri": "https://localhost:8080/"
        },
        "id": "VZLKRhLmnsyu",
        "outputId": "0a37d820-29ef-40d2-f468-b2fd2c47ee49"
      },
      "execution_count": null,
      "outputs": [
        {
          "output_type": "stream",
          "name": "stdout",
          "text": [
            "[70, 25, 707, 26, 4, 78, 578, 10, 30, 61, 2064, 1061, 37, 2412, 111, 20, 1, 234, 6, 101, 3, 1047, 5, 39, 128, 48, 34, 11, 32, 654, 4, 755, 722, 9, 1, 65, 20, 555, 257, 33, 4, 369, 302, 45, 405, 1906, 2, 104, 5, 11, 14, 4, 120, 229, 81, 16, 804, 1523, 34, 12, 1009, 2946, 10, 130, 26, 15, 184, 195, 222, 62, 278, 20, 2, 348, 8, 289, 232, 136, 6, 8275, 79, 2, 134, 201]\n"
          ]
        }
      ]
    },
    {
      "cell_type": "markdown",
      "metadata": {
        "id": "Rj9JkageyabE"
      },
      "source": [
        "### Maximum number of tokens for all documents¶"
      ]
    },
    {
      "cell_type": "code",
      "source": [
        "import numpy as np"
      ],
      "metadata": {
        "id": "mO_MU9uMoSMU"
      },
      "execution_count": null,
      "outputs": []
    },
    {
      "cell_type": "code",
      "source": [
        "num_tokens = [len(tokens) for tokens in X_num_tokens]\n",
        "num_tokens = np.array(num_tokens)"
      ],
      "metadata": {
        "id": "_0i0TGn1oBEY"
      },
      "execution_count": null,
      "outputs": []
    },
    {
      "cell_type": "code",
      "source": [
        "num_tokens.mean()"
      ],
      "metadata": {
        "colab": {
          "base_uri": "https://localhost:8080/"
        },
        "id": "9ICLSuUEocJ0",
        "outputId": "79c02f60-06ae-406a-dea0-52204f850f2d"
      },
      "execution_count": null,
      "outputs": [
        {
          "output_type": "execute_result",
          "data": {
            "text/plain": [
              "60.2330106257379"
            ]
          },
          "metadata": {},
          "execution_count": 147
        }
      ]
    },
    {
      "cell_type": "code",
      "source": [
        "num_tokens.max()"
      ],
      "metadata": {
        "colab": {
          "base_uri": "https://localhost:8080/"
        },
        "id": "HPtsY-JXob2f",
        "outputId": "dd7edc11-44e6-415e-a17b-3b5f743fb57b"
      },
      "execution_count": null,
      "outputs": [
        {
          "output_type": "execute_result",
          "data": {
            "text/plain": [
              "116"
            ]
          },
          "metadata": {},
          "execution_count": 148
        }
      ]
    },
    {
      "cell_type": "code",
      "source": [
        "num_tokens.argmax()"
      ],
      "metadata": {
        "colab": {
          "base_uri": "https://localhost:8080/"
        },
        "id": "jH8dv7CsobKC",
        "outputId": "f9a38a30-83db-452d-e0e4-0659efe9c681"
      },
      "execution_count": null,
      "outputs": [
        {
          "output_type": "execute_result",
          "data": {
            "text/plain": [
              "15213"
            ]
          },
          "metadata": {},
          "execution_count": 149
        }
      ]
    },
    {
      "cell_type": "code",
      "source": [
        "X[15213]"
      ],
      "metadata": {
        "colab": {
          "base_uri": "https://localhost:8080/",
          "height": 105
        },
        "id": "Gmn4FkF5otKo",
        "outputId": "e6a9d52b-4aae-45be-d308-0f959b544a01"
      },
      "execution_count": null,
      "outputs": [
        {
          "output_type": "execute_result",
          "data": {
            "text/plain": [
              "\"I love maeve tops. i love the material and feel of this brand. when i saw the new tops that came out i ran to my local store to try one on. i'm usually a large in a top, once in a while an xl. they only had a large to try so i tried it in the black motif.\\ni could barely get the top on. it looked like i was missing 1/2 of the top. i doubled checked the size and it was a large.\\nit's a shame, the top is really cute. if you are the least bit broad or busty, go up a size or two. if you are usually a\""
            ],
            "application/vnd.google.colaboratory.intrinsic+json": {
              "type": "string"
            }
          },
          "metadata": {},
          "execution_count": 150
        }
      ]
    },
    {
      "cell_type": "code",
      "source": [
        "max_tokens = 102"
      ],
      "metadata": {
        "id": "Qy7wrwv5oxvC"
      },
      "execution_count": null,
      "outputs": []
    },
    {
      "cell_type": "code",
      "source": [
        "sum(num_tokens <= max_tokens) / len(num_tokens)"
      ],
      "metadata": {
        "colab": {
          "base_uri": "https://localhost:8080/"
        },
        "id": "ZfCVAtbBo0XY",
        "outputId": "d620abcb-5495-4d7a-b2d2-046dbd794c25"
      },
      "execution_count": null,
      "outputs": [
        {
          "output_type": "execute_result",
          "data": {
            "text/plain": [
              "0.9575914994096812"
            ]
          },
          "metadata": {},
          "execution_count": 166
        }
      ]
    },
    {
      "cell_type": "markdown",
      "metadata": {
        "id": "uy1B4hK-yabG"
      },
      "source": [
        "### Fixing token counts of all documents (pad_sequences)"
      ]
    },
    {
      "cell_type": "code",
      "execution_count": null,
      "metadata": {
        "id": "_iWx4UIMyabH"
      },
      "outputs": [],
      "source": [
        "X_pad = pad_sequences(X_num_tokens, maxlen=max_tokens)"
      ]
    },
    {
      "cell_type": "code",
      "execution_count": null,
      "metadata": {
        "id": "_dhsOUyPyabI",
        "colab": {
          "base_uri": "https://localhost:8080/"
        },
        "outputId": "2a994dcc-e816-4765-b6be-2c5217c33673"
      },
      "outputs": [
        {
          "output_type": "execute_result",
          "data": {
            "text/plain": [
              "(21175, 102)"
            ]
          },
          "metadata": {},
          "execution_count": 168
        }
      ],
      "source": [
        "X_pad.shape"
      ]
    },
    {
      "cell_type": "code",
      "source": [
        "np.array(X_num_tokens[50])"
      ],
      "metadata": {
        "colab": {
          "base_uri": "https://localhost:8080/"
        },
        "id": "Fp3tPayOpK_v",
        "outputId": "40606639-6332-4dd4-a4b6-106bef159c0a"
      },
      "execution_count": null,
      "outputs": [
        {
          "output_type": "execute_result",
          "data": {
            "text/plain": [
              "array([  70,   25,  707,   26,    4,   78,  578,   10,   30,   61, 2064,\n",
              "       1061,   37, 2412,  111,   20,    1,  234,    6,  101,    3, 1047,\n",
              "          5,   39,  128,   48,   34,   11,   32,  654,    4,  755,  722,\n",
              "          9,    1,   65,   20,  555,  257,   33,    4,  369,  302,   45,\n",
              "        405, 1906,    2,  104,    5,   11,   14,    4,  120,  229,   81,\n",
              "         16,  804, 1523,   34,   12, 1009, 2946,   10,  130,   26,   15,\n",
              "        184,  195,  222,   62,  278,   20,    2,  348,    8,  289,  232,\n",
              "        136,    6, 8275,   79,    2,  134,  201])"
            ]
          },
          "metadata": {},
          "execution_count": 169
        }
      ]
    },
    {
      "cell_type": "code",
      "source": [
        "X_pad[50]"
      ],
      "metadata": {
        "colab": {
          "base_uri": "https://localhost:8080/"
        },
        "id": "FZLev9sMrze0",
        "outputId": "b0864c26-2c79-4fc7-eebb-66b9689303b0"
      },
      "execution_count": null,
      "outputs": [
        {
          "output_type": "execute_result",
          "data": {
            "text/plain": [
              "array([   0,    0,    0,    0,    0,    0,    0,    0,    0,    0,    0,\n",
              "          0,    0,    0,    0,    0,    0,    0,   70,   25,  707,   26,\n",
              "          4,   78,  578,   10,   30,   61, 2064, 1061,   37, 2412,  111,\n",
              "         20,    1,  234,    6,  101,    3, 1047,    5,   39,  128,   48,\n",
              "         34,   11,   32,  654,    4,  755,  722,    9,    1,   65,   20,\n",
              "        555,  257,   33,    4,  369,  302,   45,  405, 1906,    2,  104,\n",
              "          5,   11,   14,    4,  120,  229,   81,   16,  804, 1523,   34,\n",
              "         12, 1009, 2946,   10,  130,   26,   15,  184,  195,  222,   62,\n",
              "        278,   20,    2,  348,    8,  289,  232,  136,    6, 8275,   79,\n",
              "          2,  134,  201], dtype=int32)"
            ]
          },
          "metadata": {},
          "execution_count": 170
        }
      ]
    },
    {
      "cell_type": "code",
      "source": [
        "np.array(X_num_tokens[15213])"
      ],
      "metadata": {
        "colab": {
          "base_uri": "https://localhost:8080/"
        },
        "id": "oKm3MdrVr7dm",
        "outputId": "e8f73e92-e86f-4c3e-8c02-28e2d6b4f760"
      },
      "execution_count": null,
      "outputs": [
        {
          "output_type": "execute_result",
          "data": {
            "text/plain": [
              "array([   2,   21,  759,  222,    2,   21,    1,   83,    3,  144,   13,\n",
              "          7,  479,   77,    2,  192,    1,  438,  222,   20,  362,   62,\n",
              "          2,  522,    8,   17,  485,  105,    8,  180,   57,   11,   37,\n",
              "        107,    4,   82,    9,    4,   25,  425,    9,    4,  242,   61,\n",
              "        419,   41,  114,   67,    4,   82,    8,  180,   15,    2,  104,\n",
              "          5,    9,    1,  120,  769,    2,  117,  804,  113,    1,   25,\n",
              "         11,    5,  166,   28,    2,   16, 1633,  527,  160,   13,    1,\n",
              "         25,    2, 3982, 1761,    1,   22,    3,    5,   16,    4,   82,\n",
              "         33,    4, 1396,    1,   25,    6,   51,   71,   54,   40,   26,\n",
              "          1,  523,   78,  676,   35,  593,  143,   42,    4,   22,   35,\n",
              "        265,   54,   40,   26,  107,    4])"
            ]
          },
          "metadata": {},
          "execution_count": 171
        }
      ]
    },
    {
      "cell_type": "code",
      "source": [
        "X_pad[15213]"
      ],
      "metadata": {
        "colab": {
          "base_uri": "https://localhost:8080/"
        },
        "id": "r4SnSEF0r_Sa",
        "outputId": "50e2aee1-af48-4529-f365-f29479ea17a8"
      },
      "execution_count": null,
      "outputs": [
        {
          "output_type": "execute_result",
          "data": {
            "text/plain": [
              "array([   2,  192,    1,  438,  222,   20,  362,   62,    2,  522,    8,\n",
              "         17,  485,  105,    8,  180,   57,   11,   37,  107,    4,   82,\n",
              "          9,    4,   25,  425,    9,    4,  242,   61,  419,   41,  114,\n",
              "         67,    4,   82,    8,  180,   15,    2,  104,    5,    9,    1,\n",
              "        120,  769,    2,  117,  804,  113,    1,   25,   11,    5,  166,\n",
              "         28,    2,   16, 1633,  527,  160,   13,    1,   25,    2, 3982,\n",
              "       1761,    1,   22,    3,    5,   16,    4,   82,   33,    4, 1396,\n",
              "          1,   25,    6,   51,   71,   54,   40,   26,    1,  523,   78,\n",
              "        676,   35,  593,  143,   42,    4,   22,   35,  265,   54,   40,\n",
              "         26,  107,    4], dtype=int32)"
            ]
          },
          "metadata": {},
          "execution_count": 172
        }
      ]
    },
    {
      "cell_type": "markdown",
      "metadata": {
        "id": "pDncmu1XyabI"
      },
      "source": [
        "### Train Set Split"
      ]
    },
    {
      "cell_type": "code",
      "execution_count": null,
      "metadata": {
        "id": "zqsRIshXyabJ"
      },
      "outputs": [],
      "source": [
        "from sklearn.model_selection import train_test_split"
      ]
    },
    {
      "cell_type": "code",
      "execution_count": null,
      "metadata": {
        "id": "c0S3dNtLyabJ"
      },
      "outputs": [],
      "source": [
        "X_train, X_test, y_train, y_test = train_test_split(X_pad, y, test_size=0.2, stratify=y, random_state=42)"
      ]
    },
    {
      "cell_type": "markdown",
      "metadata": {
        "id": "dNgzp1YlyabJ"
      },
      "source": [
        "### Modeling"
      ]
    },
    {
      "cell_type": "code",
      "execution_count": null,
      "metadata": {
        "id": "coscTq6fyabK"
      },
      "outputs": [],
      "source": [
        "model = Sequential()"
      ]
    },
    {
      "cell_type": "code",
      "execution_count": null,
      "metadata": {
        "id": "OB4exQP0yabK"
      },
      "outputs": [],
      "source": [
        "embedding_size = 50"
      ]
    },
    {
      "cell_type": "code",
      "source": [
        "model.add(Embedding(input_dim=num_words,\n",
        "                    output_dim=embedding_size,\n",
        "                    input_length=max_tokens))\n",
        "model.add(GRU(units=48, return_sequences=True))\n",
        "#model.add(Dropout(0.2))\n",
        "#model.add(GRU(units=24, return_sequences=True))\n",
        "#model.add(Dropout(0.2))\n",
        "model.add(GRU(units=24))\n",
        "model.add(Dense(1, activation='sigmoid'))"
      ],
      "metadata": {
        "id": "mpK95V_ysnCp"
      },
      "execution_count": null,
      "outputs": []
    },
    {
      "cell_type": "code",
      "source": [
        "optimizer = Adam(lr=0.001)"
      ],
      "metadata": {
        "id": "Bj9OwDxCs65P"
      },
      "execution_count": null,
      "outputs": []
    },
    {
      "cell_type": "code",
      "source": [
        "model.compile(loss='binary_crossentropy',\n",
        "              optimizer=optimizer,\n",
        "              metrics=[\"Recall\"])"
      ],
      "metadata": {
        "id": "bVmD-vFfs8PF"
      },
      "execution_count": null,
      "outputs": []
    },
    {
      "cell_type": "code",
      "source": [
        "model.summary() "
      ],
      "metadata": {
        "colab": {
          "base_uri": "https://localhost:8080/"
        },
        "id": "7h3e-8vntBTz",
        "outputId": "5b7bef03-866e-458d-a9b5-4d0d77ad47c1"
      },
      "execution_count": null,
      "outputs": [
        {
          "output_type": "stream",
          "name": "stdout",
          "text": [
            "Model: \"sequential_1\"\n",
            "_________________________________________________________________\n",
            " Layer (type)                Output Shape              Param #   \n",
            "=================================================================\n",
            " embedding_1 (Embedding)     (None, 102, 50)           750000    \n",
            "                                                                 \n",
            " gru_4 (GRU)                 (None, 102, 48)           14400     \n",
            "                                                                 \n",
            " gru_5 (GRU)                 (None, 24)                5328      \n",
            "                                                                 \n",
            " dense_2 (Dense)             (None, 1)                 25        \n",
            "                                                                 \n",
            "=================================================================\n",
            "Total params: 769,753\n",
            "Trainable params: 769,753\n",
            "Non-trainable params: 0\n",
            "_________________________________________________________________\n"
          ]
        }
      ]
    },
    {
      "cell_type": "code",
      "source": [
        "from tensorflow.keras.callbacks import EarlyStopping\n",
        "\n",
        "early_stop = EarlyStopping(monitor=\"val_recall\", mode=\"max\", \n",
        "                           verbose=1, patience = 1, restore_best_weights=True)"
      ],
      "metadata": {
        "id": "-HDOtBQmtfYb"
      },
      "execution_count": null,
      "outputs": []
    },
    {
      "cell_type": "code",
      "source": [
        "from sklearn.utils import class_weight\n",
        "classes_weights = class_weight.compute_sample_weight(class_weight='balanced', y=y_train)\n",
        "pd.Series(classes_weights).unique()"
      ],
      "metadata": {
        "colab": {
          "base_uri": "https://localhost:8080/"
        },
        "id": "FcnpNA-BtjTj",
        "outputId": "a82ea510-8d8d-4746-dbc2-6077d6f24972"
      },
      "execution_count": null,
      "outputs": [
        {
          "output_type": "execute_result",
          "data": {
            "text/plain": [
              "array([0.61336809, 2.705206  ])"
            ]
          },
          "metadata": {},
          "execution_count": 192
        }
      ]
    },
    {
      "cell_type": "code",
      "source": [
        "model.fit(X_train, y_train, epochs=10, batch_size=256, sample_weight=classes_weights,\n",
        "         validation_data=(X_test, y_test), callbacks=[early_stop])"
      ],
      "metadata": {
        "colab": {
          "base_uri": "https://localhost:8080/"
        },
        "id": "6cXqG9OztrVS",
        "outputId": "daaa9f72-2276-4dc3-9f86-d38aced5518f"
      },
      "execution_count": null,
      "outputs": [
        {
          "output_type": "stream",
          "name": "stdout",
          "text": [
            "Epoch 1/10\n",
            "67/67 [==============================] - 24s 290ms/step - loss: 0.5459 - recall: 0.7630 - val_loss: 0.2739 - val_recall: 0.7305\n",
            "Epoch 2/10\n",
            "67/67 [==============================] - 18s 273ms/step - loss: 0.2724 - recall: 0.9103 - val_loss: 0.3211 - val_recall: 0.9106\n",
            "Epoch 3/10\n",
            "67/67 [==============================] - ETA: 0s - loss: 0.1835 - recall: 0.9463Restoring model weights from the end of the best epoch: 2.\n",
            "67/67 [==============================] - 18s 272ms/step - loss: 0.1835 - recall: 0.9463 - val_loss: 0.3053 - val_recall: 0.8991\n",
            "Epoch 3: early stopping\n"
          ]
        },
        {
          "output_type": "execute_result",
          "data": {
            "text/plain": [
              "<keras.callbacks.History at 0x7f564a12aa10>"
            ]
          },
          "metadata": {},
          "execution_count": 193
        }
      ]
    },
    {
      "cell_type": "markdown",
      "source": [
        "Model Evaluation"
      ],
      "metadata": {
        "id": "EuvV3G6NuPWD"
      }
    },
    {
      "cell_type": "code",
      "source": [
        "model_loss = pd.DataFrame(model.history.history)\n",
        "model_loss.head()"
      ],
      "metadata": {
        "colab": {
          "base_uri": "https://localhost:8080/",
          "height": 143
        },
        "id": "hqpEju-UuTmZ",
        "outputId": "a9386510-4ae8-4f53-843a-45362a8193c3"
      },
      "execution_count": null,
      "outputs": [
        {
          "output_type": "execute_result",
          "data": {
            "text/plain": [
              "       loss    recall  val_loss  val_recall\n",
              "0  0.545885  0.763015  0.273873    0.730524\n",
              "1  0.272422  0.910252  0.321115    0.910600\n",
              "2  0.183537  0.946343  0.305322    0.899106"
            ],
            "text/html": [
              "\n",
              "  <div id=\"df-c7ba3c50-04ce-4fcd-acbb-5acca72ec64c\">\n",
              "    <div class=\"colab-df-container\">\n",
              "      <div>\n",
              "<style scoped>\n",
              "    .dataframe tbody tr th:only-of-type {\n",
              "        vertical-align: middle;\n",
              "    }\n",
              "\n",
              "    .dataframe tbody tr th {\n",
              "        vertical-align: top;\n",
              "    }\n",
              "\n",
              "    .dataframe thead th {\n",
              "        text-align: right;\n",
              "    }\n",
              "</style>\n",
              "<table border=\"1\" class=\"dataframe\">\n",
              "  <thead>\n",
              "    <tr style=\"text-align: right;\">\n",
              "      <th></th>\n",
              "      <th>loss</th>\n",
              "      <th>recall</th>\n",
              "      <th>val_loss</th>\n",
              "      <th>val_recall</th>\n",
              "    </tr>\n",
              "  </thead>\n",
              "  <tbody>\n",
              "    <tr>\n",
              "      <th>0</th>\n",
              "      <td>0.545885</td>\n",
              "      <td>0.763015</td>\n",
              "      <td>0.273873</td>\n",
              "      <td>0.730524</td>\n",
              "    </tr>\n",
              "    <tr>\n",
              "      <th>1</th>\n",
              "      <td>0.272422</td>\n",
              "      <td>0.910252</td>\n",
              "      <td>0.321115</td>\n",
              "      <td>0.910600</td>\n",
              "    </tr>\n",
              "    <tr>\n",
              "      <th>2</th>\n",
              "      <td>0.183537</td>\n",
              "      <td>0.946343</td>\n",
              "      <td>0.305322</td>\n",
              "      <td>0.899106</td>\n",
              "    </tr>\n",
              "  </tbody>\n",
              "</table>\n",
              "</div>\n",
              "      <button class=\"colab-df-convert\" onclick=\"convertToInteractive('df-c7ba3c50-04ce-4fcd-acbb-5acca72ec64c')\"\n",
              "              title=\"Convert this dataframe to an interactive table.\"\n",
              "              style=\"display:none;\">\n",
              "        \n",
              "  <svg xmlns=\"http://www.w3.org/2000/svg\" height=\"24px\"viewBox=\"0 0 24 24\"\n",
              "       width=\"24px\">\n",
              "    <path d=\"M0 0h24v24H0V0z\" fill=\"none\"/>\n",
              "    <path d=\"M18.56 5.44l.94 2.06.94-2.06 2.06-.94-2.06-.94-.94-2.06-.94 2.06-2.06.94zm-11 1L8.5 8.5l.94-2.06 2.06-.94-2.06-.94L8.5 2.5l-.94 2.06-2.06.94zm10 10l.94 2.06.94-2.06 2.06-.94-2.06-.94-.94-2.06-.94 2.06-2.06.94z\"/><path d=\"M17.41 7.96l-1.37-1.37c-.4-.4-.92-.59-1.43-.59-.52 0-1.04.2-1.43.59L10.3 9.45l-7.72 7.72c-.78.78-.78 2.05 0 2.83L4 21.41c.39.39.9.59 1.41.59.51 0 1.02-.2 1.41-.59l7.78-7.78 2.81-2.81c.8-.78.8-2.07 0-2.86zM5.41 20L4 18.59l7.72-7.72 1.47 1.35L5.41 20z\"/>\n",
              "  </svg>\n",
              "      </button>\n",
              "      \n",
              "  <style>\n",
              "    .colab-df-container {\n",
              "      display:flex;\n",
              "      flex-wrap:wrap;\n",
              "      gap: 12px;\n",
              "    }\n",
              "\n",
              "    .colab-df-convert {\n",
              "      background-color: #E8F0FE;\n",
              "      border: none;\n",
              "      border-radius: 50%;\n",
              "      cursor: pointer;\n",
              "      display: none;\n",
              "      fill: #1967D2;\n",
              "      height: 32px;\n",
              "      padding: 0 0 0 0;\n",
              "      width: 32px;\n",
              "    }\n",
              "\n",
              "    .colab-df-convert:hover {\n",
              "      background-color: #E2EBFA;\n",
              "      box-shadow: 0px 1px 2px rgba(60, 64, 67, 0.3), 0px 1px 3px 1px rgba(60, 64, 67, 0.15);\n",
              "      fill: #174EA6;\n",
              "    }\n",
              "\n",
              "    [theme=dark] .colab-df-convert {\n",
              "      background-color: #3B4455;\n",
              "      fill: #D2E3FC;\n",
              "    }\n",
              "\n",
              "    [theme=dark] .colab-df-convert:hover {\n",
              "      background-color: #434B5C;\n",
              "      box-shadow: 0px 1px 3px 1px rgba(0, 0, 0, 0.15);\n",
              "      filter: drop-shadow(0px 1px 2px rgba(0, 0, 0, 0.3));\n",
              "      fill: #FFFFFF;\n",
              "    }\n",
              "  </style>\n",
              "\n",
              "      <script>\n",
              "        const buttonEl =\n",
              "          document.querySelector('#df-c7ba3c50-04ce-4fcd-acbb-5acca72ec64c button.colab-df-convert');\n",
              "        buttonEl.style.display =\n",
              "          google.colab.kernel.accessAllowed ? 'block' : 'none';\n",
              "\n",
              "        async function convertToInteractive(key) {\n",
              "          const element = document.querySelector('#df-c7ba3c50-04ce-4fcd-acbb-5acca72ec64c');\n",
              "          const dataTable =\n",
              "            await google.colab.kernel.invokeFunction('convertToInteractive',\n",
              "                                                     [key], {});\n",
              "          if (!dataTable) return;\n",
              "\n",
              "          const docLinkHtml = 'Like what you see? Visit the ' +\n",
              "            '<a target=\"_blank\" href=https://colab.research.google.com/notebooks/data_table.ipynb>data table notebook</a>'\n",
              "            + ' to learn more about interactive tables.';\n",
              "          element.innerHTML = '';\n",
              "          dataTable['output_type'] = 'display_data';\n",
              "          await google.colab.output.renderOutput(dataTable, element);\n",
              "          const docLink = document.createElement('div');\n",
              "          docLink.innerHTML = docLinkHtml;\n",
              "          element.appendChild(docLink);\n",
              "        }\n",
              "      </script>\n",
              "    </div>\n",
              "  </div>\n",
              "  "
            ]
          },
          "metadata": {},
          "execution_count": 194
        }
      ]
    },
    {
      "cell_type": "code",
      "source": [
        "model_loss.plot()"
      ],
      "metadata": {
        "colab": {
          "base_uri": "https://localhost:8080/",
          "height": 364
        },
        "id": "nOTQzS4guilP",
        "outputId": "3651c759-5327-46a6-b40e-51e723eb64d5"
      },
      "execution_count": null,
      "outputs": [
        {
          "output_type": "execute_result",
          "data": {
            "text/plain": [
              "<AxesSubplot:>"
            ]
          },
          "metadata": {},
          "execution_count": 195
        },
        {
          "output_type": "display_data",
          "data": {
            "text/plain": [
              "<Figure size 576x396 with 1 Axes>"
            ],
            "image/png": "[encoded data removed]"
          },
          "metadata": {}
        }
      ]
    },
    {
      "cell_type": "code",
      "source": [
        "model.evaluate(X_test, y_test)"
      ],
      "metadata": {
        "colab": {
          "base_uri": "https://localhost:8080/"
        },
        "id": "FT0Ayj5ru4XW",
        "outputId": "75d824f5-3bdc-42f2-d51c-bb9b6ac330aa"
      },
      "execution_count": null,
      "outputs": [
        {
          "output_type": "stream",
          "name": "stdout",
          "text": [
            "133/133 [==============================] - 4s 28ms/step - loss: 0.3211 - recall: 0.9106\n"
          ]
        },
        {
          "output_type": "execute_result",
          "data": {
            "text/plain": [
              "[0.3211144208908081, 0.9106002449989319]"
            ]
          },
          "metadata": {},
          "execution_count": 196
        }
      ]
    },
    {
      "cell_type": "code",
      "source": [
        "model.evaluate(X_train, y_train)"
      ],
      "metadata": {
        "colab": {
          "base_uri": "https://localhost:8080/"
        },
        "id": "trL_lUwfu4CV",
        "outputId": "1fde7cef-0594-495d-bb17-aeb4254e04f5"
      },
      "execution_count": null,
      "outputs": [
        {
          "output_type": "stream",
          "name": "stdout",
          "text": [
            "530/530 [==============================] - 11s 21ms/step - loss: 0.2455 - recall: 0.9719\n"
          ]
        },
        {
          "output_type": "execute_result",
          "data": {
            "text/plain": [
              "[0.2454899698495865, 0.9718939661979675]"
            ]
          },
          "metadata": {},
          "execution_count": 197
        }
      ]
    },
    {
      "cell_type": "code",
      "source": [
        "from sklearn.metrics import confusion_matrix, classification_report, accuracy_score, f1_score, roc_auc_score\n",
        "\n",
        "y_train_pred = model.predict(X_train) >= 0.5\n",
        "\n",
        "print(confusion_matrix(y_train, y_train_pred))\n",
        "print(\"-------------------------------------------------------\")\n",
        "print(classification_report(y_train, y_train_pred))"
      ],
      "metadata": {
        "colab": {
          "base_uri": "https://localhost:8080/"
        },
        "id": "PyqvEIHZut7V",
        "outputId": "d3435467-38c5-408b-c195-a2df748eb766"
      },
      "execution_count": null,
      "outputs": [
        {
          "output_type": "stream",
          "name": "stdout",
          "text": [
            "530/530 [==============================] - 12s 21ms/step\n",
            "[[12235  1574]\n",
            " [   88  3043]]\n",
            "-------------------------------------------------------\n",
            "              precision    recall  f1-score   support\n",
            "\n",
            "           0       0.99      0.89      0.94     13809\n",
            "           1       0.66      0.97      0.79      3131\n",
            "\n",
            "    accuracy                           0.90     16940\n",
            "   macro avg       0.83      0.93      0.86     16940\n",
            "weighted avg       0.93      0.90      0.91     16940\n",
            "\n"
          ]
        }
      ]
    },
    {
      "cell_type": "code",
      "source": [
        "y_pred = model.predict(X_test) >= 0.5\n",
        "\n",
        "print(confusion_matrix(y_test, y_pred))\n",
        "print(\"-------------------------------------------------------\")\n",
        "print(classification_report(y_test, y_pred))"
      ],
      "metadata": {
        "colab": {
          "base_uri": "https://localhost:8080/"
        },
        "id": "mDmmf1ijwrrF",
        "outputId": "be658ea0-0c47-4b3a-e2d5-704fab3c75cb"
      },
      "execution_count": null,
      "outputs": [
        {
          "output_type": "stream",
          "name": "stdout",
          "text": [
            "133/133 [==============================] - 3s 24ms/step\n",
            "[[2952  500]\n",
            " [  70  713]]\n",
            "-------------------------------------------------------\n",
            "              precision    recall  f1-score   support\n",
            "\n",
            "           0       0.98      0.86      0.91      3452\n",
            "           1       0.59      0.91      0.71       783\n",
            "\n",
            "    accuracy                           0.87      4235\n",
            "   macro avg       0.78      0.88      0.81      4235\n",
            "weighted avg       0.90      0.87      0.88      4235\n",
            "\n"
          ]
        }
      ]
    },
    {
      "cell_type": "code",
      "source": [
        "from sklearn.metrics import precision_recall_curve, average_precision_score"
      ],
      "metadata": {
        "id": "moiSNlJCwz1e"
      },
      "execution_count": null,
      "outputs": []
    },
    {
      "cell_type": "code",
      "source": [
        "y_pred_proba = model.predict(X_test)\n",
        "precision, recall, thresholds = precision_recall_curve(y_test, y_pred_proba)\n",
        "plt.plot([1,0],[0,1],'k--')\n",
        "plt.plot(recall, precision)\n",
        "plt.xlabel('recall')\n",
        "plt.ylabel('precision')\n",
        "plt.title('Precision Recall Curve')\n",
        "plt.show()"
      ],
      "metadata": {
        "colab": {
          "base_uri": "https://localhost:8080/",
          "height": 393
        },
        "id": "x7ESCeRyw2Hy",
        "outputId": "5142d67b-16e7-4a19-fd1e-819dd17f526d"
      },
      "execution_count": null,
      "outputs": [
        {
          "output_type": "stream",
          "name": "stdout",
          "text": [
            "133/133 [==============================] - 3s 22ms/step\n"
          ]
        },
        {
          "output_type": "display_data",
          "data": {
            "text/plain": [
              "<Figure size 576x396 with 1 Axes>"
            ],
            "image/png": "[encoded data removed]"
          },
          "metadata": {}
        }
      ]
    },
    {
      "cell_type": "code",
      "source": [
        "average_precision_score(y_test, y_pred_proba)"
      ],
      "metadata": {
        "colab": {
          "base_uri": "https://localhost:8080/"
        },
        "id": "WX13Z9CPw_jc",
        "outputId": "8f25de5e-cd35-4513-c309-86c2fe19dcae"
      },
      "execution_count": null,
      "outputs": [
        {
          "output_type": "execute_result",
          "data": {
            "text/plain": [
              "0.8136464353751616"
            ]
          },
          "metadata": {},
          "execution_count": 202
        }
      ]
    },
    {
      "cell_type": "code",
      "source": [
        "DL_AP = average_precision_score(y_test, y_pred_proba)\n",
        "DL_f1 = f1_score(y_test, y_pred)\n",
        "DL_rec = recall_score(y_test, y_pred)"
      ],
      "metadata": {
        "id": "JzX1m4rCxD0B"
      },
      "execution_count": null,
      "outputs": []
    },
    {
      "cell_type": "markdown",
      "metadata": {
        "id": "90psEuqfyabK"
      },
      "source": [
        "## BERT Modeling"
      ]
    },
    {
      "cell_type": "code",
      "source": [
        "import tensorflow as tf\n",
        "import os\n",
        "\n",
        "# Note that the `tpu` argument is for Colab-only\n",
        "resolver = tf.distribute.cluster_resolver.TPUClusterResolver(tpu='grpc://' + os.environ['COLAB_TPU_ADDR'])\n",
        "\n",
        "tf.config.experimental_connect_to_cluster(resolver)\n",
        "tf.tpu.experimental.initialize_tpu_system(resolver)\n",
        "print(\"All devices: \", tf.config.list_logical_devices('TPU'))"
      ],
      "metadata": {
        "colab": {
          "base_uri": "https://localhost:8080/"
        },
        "id": "RuhrFPQKzQWC",
        "outputId": "1669c1f0-1081-4ad0-9cd6-8a462ac80c0f"
      },
      "execution_count": null,
      "outputs": [
        {
          "output_type": "stream",
          "name": "stdout",
          "text": [
            "All devices:  [LogicalDevice(name='/job:worker/replica:0/task:0/device:TPU:0', device_type='TPU'), LogicalDevice(name='/job:worker/replica:0/task:0/device:TPU:1', device_type='TPU'), LogicalDevice(name='/job:worker/replica:0/task:0/device:TPU:2', device_type='TPU'), LogicalDevice(name='/job:worker/replica:0/task:0/device:TPU:3', device_type='TPU'), LogicalDevice(name='/job:worker/replica:0/task:0/device:TPU:4', device_type='TPU'), LogicalDevice(name='/job:worker/replica:0/task:0/device:TPU:5', device_type='TPU'), LogicalDevice(name='/job:worker/replica:0/task:0/device:TPU:6', device_type='TPU'), LogicalDevice(name='/job:worker/replica:0/task:0/device:TPU:7', device_type='TPU')]\n"
          ]
        }
      ]
    },
    {
      "cell_type": "code",
      "source": [
        "strategy = tf.distribute.TPUStrategy(resolver)"
      ],
      "metadata": {
        "id": "suUGly-azKtb"
      },
      "execution_count": null,
      "outputs": []
    },
    {
      "cell_type": "code",
      "execution_count": null,
      "metadata": {
        "id": "7jOXjgWtyabL",
        "colab": {
          "base_uri": "https://localhost:8080/"
        },
        "outputId": "9b402e2c-2990-4480-f140-bd8eb7cb66a6"
      },
      "outputs": [
        {
          "output_type": "stream",
          "name": "stdout",
          "text": [
            "Looking in indexes: https://pypi.org/simple, https://us-python.pkg.dev/colab-wheels/public/simple/\n",
            "Collecting transformers\n",
            "  Downloading transformers-4.23.1-py3-none-any.whl (5.3 MB)\n",
            "\u001b[K     |████████████████████████████████| 5.3 MB 5.1 MB/s \n",
            "\u001b[?25hRequirement already satisfied: filelock in /usr/local/lib/python3.7/dist-packages (from transformers) (3.8.0)\n",
            "Collecting tokenizers!=0.11.3,<0.14,>=0.11.1\n",
            "  Downloading tokenizers-0.13.1-cp37-cp37m-manylinux_2_17_x86_64.manylinux2014_x86_64.whl (7.6 MB)\n",
            "\u001b[K     |████████████████████████████████| 7.6 MB 33.5 MB/s \n",
            "\u001b[?25hRequirement already satisfied: regex!=2019.12.17 in /usr/local/lib/python3.7/dist-packages (from transformers) (2022.6.2)\n",
            "Requirement already satisfied: packaging>=20.0 in /usr/local/lib/python3.7/dist-packages (from transformers) (21.3)\n",
            "Collecting huggingface-hub<1.0,>=0.10.0\n",
            "  Downloading huggingface_hub-0.10.1-py3-none-any.whl (163 kB)\n",
            "\u001b[K     |████████████████████████████████| 163 kB 73.9 MB/s \n",
            "\u001b[?25hRequirement already satisfied: requests in /usr/local/lib/python3.7/dist-packages (from transformers) (2.23.0)\n",
            "Requirement already satisfied: numpy>=1.17 in /usr/local/lib/python3.7/dist-packages (from transformers) (1.21.6)\n",
            "Requirement already satisfied: pyyaml>=5.1 in /usr/local/lib/python3.7/dist-packages (from transformers) (6.0)\n",
            "Requirement already satisfied: tqdm>=4.27 in /usr/local/lib/python3.7/dist-packages (from transformers) (4.64.1)\n",
            "Requirement already satisfied: importlib-metadata in /usr/local/lib/python3.7/dist-packages (from transformers) (4.13.0)\n",
            "Requirement already satisfied: typing-extensions>=3.7.4.3 in /usr/local/lib/python3.7/dist-packages (from huggingface-hub<1.0,>=0.10.0->transformers) (4.1.1)\n",
            "Requirement already satisfied: pyparsing!=3.0.5,>=2.0.2 in /usr/local/lib/python3.7/dist-packages (from packaging>=20.0->transformers) (3.0.9)\n",
            "Requirement already satisfied: zipp>=0.5 in /usr/local/lib/python3.7/dist-packages (from importlib-metadata->transformers) (3.9.0)\n",
            "Requirement already satisfied: certifi>=2017.4.17 in /usr/local/lib/python3.7/dist-packages (from requests->transformers) (2022.9.24)\n",
            "Requirement already satisfied: urllib3!=1.25.0,!=1.25.1,<1.26,>=1.21.1 in /usr/local/lib/python3.7/dist-packages (from requests->transformers) (1.24.3)\n",
            "Requirement already satisfied: idna<3,>=2.5 in /usr/local/lib/python3.7/dist-packages (from requests->transformers) (2.10)\n",
            "Requirement already satisfied: chardet<4,>=3.0.2 in /usr/local/lib/python3.7/dist-packages (from requests->transformers) (3.0.4)\n",
            "Installing collected packages: tokenizers, huggingface-hub, transformers\n",
            "Successfully installed huggingface-hub-0.10.1 tokenizers-0.13.1 transformers-4.23.1\n"
          ]
        }
      ],
      "source": [
        "!pip install transformers"
      ]
    },
    {
      "cell_type": "code",
      "execution_count": null,
      "metadata": {
        "id": "Ype7yLKOyabL"
      },
      "outputs": [],
      "source": []
    },
    {
      "cell_type": "markdown",
      "metadata": {
        "id": "ux_iaGqlyabL"
      },
      "source": [
        "### Tokenization"
      ]
    },
    {
      "cell_type": "code",
      "execution_count": null,
      "metadata": {
        "id": "zApTMyZAyabM"
      },
      "outputs": [],
      "source": [
        "import numpy as np\n",
        "import pandas as pd"
      ]
    },
    {
      "cell_type": "code",
      "source": [
        "from transformers import AutoTokenizer\n",
        "\n",
        "tokenizer = AutoTokenizer.from_pretrained(\"bert-base-uncased\")\n",
        "\n",
        "max_len = 0\n",
        "\n",
        "# For every sentence...\n",
        "max_token = []\n",
        "for sent in X:\n",
        "\n",
        "    # Tokenize the text and add `[CLS]` and `[SEP]` tokens.\n",
        "    \n",
        "    input_ids = tokenizer.encode(sent, add_special_tokens=True)\n",
        "    max_token.append(len(input_ids))\n",
        "\n",
        "    # Update the maximum sentence length.\n",
        "    max_len = max(max_len, len(input_ids))\n",
        "\n",
        "print('Max sentence length: ', max_len)"
      ],
      "metadata": {
        "id": "Ti_HMgv-O0hP",
        "colab": {
          "base_uri": "https://localhost:8080/",
          "height": 162,
          "referenced_widgets": [
            "2148c26b6e824cdc816fb1f75375c0c0",
            "87a4a2e77376450db0e90d61f9ee377b",
            "d115d72aacd84e81b820794337759f39",
            "d498441e2a7943009ef855ae388542b2",
            "93bc07de88b346ef846434c14d46c50c",
            "63f66378f9d14e55aab3bd0b8c2e572d",
            "7041d6c2500d4bd48b66dd817539d616",
            "e7baf68797164c8489ac152f56551e49",
            "6cdd0329339341c6b021eb07ed1c9b5d",
            "f62b59d462d148cd90a600b114b44f7f",
            "d9d704257fb0438cac87e113dbf041d8",
            "eef267ac1f5d4768a5eac16bd541aad8",
            "71487d9164594000a5b997e3dfb9e2fd",
            "3686a3ce720c4bfb9210ff76cb7737a8",
            "19f8b5965b794673b535415eb05f9987",
            "f83ee0a1a3fd4ad0947ecbf1539b93c1",
            "32edbd7122164bbd8da3077d145a343e",
            "f117252b2e7c4e23812a029fd6ca9874",
            "1a267fe6cfc14249a43403be019d0686",
            "78fc20817788491f9a04f21f0f1342bd",
            "f59cd1780dea4c2e8d11e44c5814891b",
            "36fa77a6396a44059397cb0af47dd34e",
            "2e6df47c37ef4df289d7286f73d06c67",
            "6fe90cb0d2be466e983434254226dd17",
            "62bcb9e102364a6a9df3bd5f2b7050e1",
            "025a69493d0b4a248c8f7bb287bccceb",
            "2eee84bc230449a4ad7e9fa75eb81441",
            "4ecf6985e8f64c6a9a868a726740cfe0",
            "bdc37fb0382a4556aa1d2262224203bf",
            "e453d939e2cd4e0aa61c2603a6088299",
            "d47b3bec9117408aba5a47583674142c",
            "bf2ac6415c4c4f5eac54dc4d5eca9310",
            "8c20dc62741d4953a6c5cbccca184de6",
            "3a5beb2bd5cc42d58ed4706c083699a4",
            "15307c83e598436694d1445d1cbd2a79",
            "cddd7e5785e0414598c4ad19022c9487",
            "a07ac0c58631484fae52b46517a17c08",
            "7dee3db3d1764a7596e2321fcc8b82e1",
            "4537d77e7c714925814309ab46b4bb51",
            "52f04d4c161a4dc788fc258dfa5de49e",
            "84e634a7439f4cbaae8e95689ef9ffb2",
            "39efec333e17431fbe29128f1be3cb06",
            "08a2eae486544d24b0e7d41dcb8e2f45",
            "82ae1bbaf03749138470cf746b4b43bb"
          ]
        },
        "outputId": "1bcd2434-1f70-4146-f19b-2dcad2c24020"
      },
      "execution_count": null,
      "outputs": [
        {
          "output_type": "display_data",
          "data": {
            "text/plain": [
              "Downloading:   0%|          | 0.00/28.0 [00:00<?, ?B/s]"
            ],
            "application/vnd.jupyter.widget-view+json": {
              "version_major": 2,
              "version_minor": 0,
              "model_id": "2148c26b6e824cdc816fb1f75375c0c0"
            }
          },
          "metadata": {}
        },
        {
          "output_type": "display_data",
          "data": {
            "text/plain": [
              "Downloading:   0%|          | 0.00/570 [00:00<?, ?B/s]"
            ],
            "application/vnd.jupyter.widget-view+json": {
              "version_major": 2,
              "version_minor": 0,
              "model_id": "eef267ac1f5d4768a5eac16bd541aad8"
            }
          },
          "metadata": {}
        },
        {
          "output_type": "display_data",
          "data": {
            "text/plain": [
              "Downloading:   0%|          | 0.00/232k [00:00<?, ?B/s]"
            ],
            "application/vnd.jupyter.widget-view+json": {
              "version_major": 2,
              "version_minor": 0,
              "model_id": "2e6df47c37ef4df289d7286f73d06c67"
            }
          },
          "metadata": {}
        },
        {
          "output_type": "display_data",
          "data": {
            "text/plain": [
              "Downloading:   0%|          | 0.00/466k [00:00<?, ?B/s]"
            ],
            "application/vnd.jupyter.widget-view+json": {
              "version_major": 2,
              "version_minor": 0,
              "model_id": "3a5beb2bd5cc42d58ed4706c083699a4"
            }
          },
          "metadata": {}
        },
        {
          "output_type": "stream",
          "name": "stdout",
          "text": [
            "Max sentence length:  162\n"
          ]
        }
      ]
    },
    {
      "cell_type": "code",
      "source": [
        "np.array(max_token).mean()"
      ],
      "metadata": {
        "colab": {
          "base_uri": "https://localhost:8080/"
        },
        "id": "sjcw8lmkxkh7",
        "outputId": "396c387a-6c7f-42ff-a06d-9b12ca58ab8f"
      },
      "execution_count": null,
      "outputs": [
        {
          "output_type": "execute_result",
          "data": {
            "text/plain": [
              "76.31556080283353"
            ]
          },
          "metadata": {},
          "execution_count": 207
        }
      ]
    },
    {
      "cell_type": "code",
      "source": [
        "sum(np.array(max_token) <= 130) / len(max_token)"
      ],
      "metadata": {
        "colab": {
          "base_uri": "https://localhost:8080/"
        },
        "id": "4B5gaFwKxpkw",
        "outputId": "e063399f-acdb-4394-c98e-b4fb6c0c3a76"
      },
      "execution_count": null,
      "outputs": [
        {
          "output_type": "execute_result",
          "data": {
            "text/plain": [
              "0.9646280991735537"
            ]
          },
          "metadata": {},
          "execution_count": 209
        }
      ]
    },
    {
      "cell_type": "code",
      "source": [
        "def transformation(X):\n",
        "  # set array dimensions\n",
        "  seq_len = 130\n",
        "  num_samples = len(X)\n",
        "\n",
        "  # initialize empty zero arrays\n",
        "  Xids = np.zeros((num_samples, seq_len))\n",
        "  Xmask = np.zeros((num_samples, seq_len))\n",
        "\n",
        "    \n",
        "  for i, phrase in enumerate(X):\n",
        "      tokens = tokenizer.encode_plus(phrase, max_length=seq_len, truncation=True,\n",
        "                                      padding='max_length', add_special_tokens=True) \n",
        "      # assign tokenized outputs to respective rows in numpy arrays\n",
        "      Xids[i, :] = tokens['input_ids']\n",
        "      Xmask[i, :] = tokens['attention_mask']\n",
        "  return Xids, Xmask"
      ],
      "metadata": {
        "id": "HsvJsVErxzTa"
      },
      "execution_count": null,
      "outputs": []
    },
    {
      "cell_type": "code",
      "source": [
        "Xids, Xmask = transformation(X)"
      ],
      "metadata": {
        "id": "YKL4qDlix8ex"
      },
      "execution_count": null,
      "outputs": []
    },
    {
      "cell_type": "code",
      "source": [
        "Xids.shape"
      ],
      "metadata": {
        "colab": {
          "base_uri": "https://localhost:8080/"
        },
        "id": "A9szkfSdyA-G",
        "outputId": "fcd5aded-c311-4690-9fc0-0334e54f3d19"
      },
      "execution_count": null,
      "outputs": [
        {
          "output_type": "execute_result",
          "data": {
            "text/plain": [
              "(21175, 130)"
            ]
          },
          "metadata": {},
          "execution_count": 212
        }
      ]
    },
    {
      "cell_type": "code",
      "source": [
        "Xmask.shape"
      ],
      "metadata": {
        "colab": {
          "base_uri": "https://localhost:8080/"
        },
        "id": "vdHks8JayFg2",
        "outputId": "bb49e52c-d2eb-4a97-f598-c8fc54b0885d"
      },
      "execution_count": null,
      "outputs": [
        {
          "output_type": "execute_result",
          "data": {
            "text/plain": [
              "(21175, 130)"
            ]
          },
          "metadata": {},
          "execution_count": 213
        }
      ]
    },
    {
      "cell_type": "code",
      "source": [
        "labels = y.reshape(-1,1)\n",
        "labels"
      ],
      "metadata": {
        "colab": {
          "base_uri": "https://localhost:8080/"
        },
        "id": "iZjlu7ORyL-p",
        "outputId": "edca9e9b-53bb-4d0e-e1bd-201c4e5118b0"
      },
      "execution_count": null,
      "outputs": [
        {
          "output_type": "execute_result",
          "data": {
            "text/plain": [
              "array([[0],\n",
              "       [0],\n",
              "       [1],\n",
              "       ...,\n",
              "       [0],\n",
              "       [1],\n",
              "       [0]])"
            ]
          },
          "metadata": {},
          "execution_count": 221
        }
      ]
    },
    {
      "cell_type": "code",
      "source": [
        "import tensorflow as tf\n",
        "\n",
        "dataset = tf.data.Dataset.from_tensor_slices((Xids, Xmask, labels)) #tf.data.Dataset.from_tensors((Xids, Xmask, labels))\n",
        "\n",
        "def map_func(Xids, Xmask, labels):\n",
        "    # we convert our three-item tuple into a two-item tuple where the input item is a dictionary\n",
        "    return {'input_ids': Xids, 'attention_mask': Xmask}, labels\n",
        "\n",
        "# then we use the dataset map method to apply this transformation\n",
        "dataset = dataset.map(map_func)"
      ],
      "metadata": {
        "id": "iWDcNiKr304J"
      },
      "execution_count": null,
      "outputs": []
    },
    {
      "cell_type": "code",
      "source": [
        "len(X)"
      ],
      "metadata": {
        "colab": {
          "base_uri": "https://localhost:8080/"
        },
        "id": "6GTqjG0d35B1",
        "outputId": "c6d0780c-4ee1-4f7a-a7bb-0dac26529194"
      },
      "execution_count": null,
      "outputs": [
        {
          "output_type": "execute_result",
          "data": {
            "text/plain": [
              "21175"
            ]
          },
          "metadata": {},
          "execution_count": 223
        }
      ]
    },
    {
      "cell_type": "code",
      "source": [
        "batch_size = 16\n",
        "length = len(X)\n",
        "# shuffle and batch\n",
        "# fit into a batch of 16\n",
        "dataset = dataset.shuffle(length, reshuffle_each_iteration=False).batch(batch_size, drop_remainder=True)"
      ],
      "metadata": {
        "id": "PZ_KVsz3384W"
      },
      "execution_count": null,
      "outputs": []
    },
    {
      "cell_type": "markdown",
      "source": [
        "### Train test split"
      ],
      "metadata": {
        "id": "2DRmOt6kO2Cr"
      }
    },
    {
      "cell_type": "code",
      "execution_count": null,
      "metadata": {
        "id": "fMh01UkEyabM"
      },
      "outputs": [],
      "source": [
        "split = 0.9\n",
        "size = int(len(dataset)*split) #int((Xids.shape[0]/batch_size)*split)\n",
        "\n",
        "# get training and validation sets\n",
        "train_ds = dataset.take(size)\n",
        "val_ds = dataset.skip(size)"
      ]
    },
    {
      "cell_type": "markdown",
      "metadata": {
        "id": "4pu5teiDyabM"
      },
      "source": [
        "### Transformation text to tensor"
      ]
    },
    {
      "cell_type": "code",
      "execution_count": null,
      "metadata": {
        "id": "JjufdfhryabN"
      },
      "outputs": [],
      "source": []
    },
    {
      "cell_type": "code",
      "execution_count": null,
      "metadata": {
        "id": "t7UcEY1syabN"
      },
      "outputs": [],
      "source": []
    },
    {
      "cell_type": "code",
      "execution_count": null,
      "metadata": {
        "id": "qpREU78cyabW"
      },
      "outputs": [],
      "source": []
    },
    {
      "cell_type": "markdown",
      "source": [
        "### Batch Size"
      ],
      "metadata": {
        "id": "K8c-hlqCPJY2"
      }
    },
    {
      "cell_type": "code",
      "source": [],
      "metadata": {
        "id": "CT5OATB4PITT"
      },
      "execution_count": null,
      "outputs": []
    },
    {
      "cell_type": "code",
      "source": [],
      "metadata": {
        "id": "QPGbr0tGPIf9"
      },
      "execution_count": null,
      "outputs": []
    },
    {
      "cell_type": "markdown",
      "metadata": {
        "id": "5QPfdcqdyabX"
      },
      "source": [
        "### Creating Model"
      ]
    },
    {
      "cell_type": "code",
      "execution_count": null,
      "metadata": {
        "id": "eNt0Mo6QyabX"
      },
      "outputs": [],
      "source": [
        "def create_model():\n",
        "    from transformers import TFAutoModel\n",
        "    model = TFAutoModel.from_pretrained(\"bert-base-uncased\")\n",
        "    input_ids = tf.keras.layers.Input(shape=(130,), name='input_ids', dtype='int32')\n",
        "    attention_mask = tf.keras.layers.Input(shape=(130,), name='attention_mask', dtype='int32')\n",
        "\n",
        "    embeddings = model.bert(input_ids=input_ids, attention_mask=attention_mask)[\"pooler_output\"] #[1]\n",
        "\n",
        "    x = tf.keras.layers.Dense(80, activation='relu')(embeddings) \n",
        "    x = tf.keras.layers.Dropout(0.1, name=\"dropout\")(x) #0.1\n",
        "    y = tf.keras.layers.Dense(1, activation='sigmoid', name='outputs')(x)\n",
        "\n",
        "    return tf.keras.Model(inputs=[input_ids, attention_mask], outputs=y)"
      ]
    },
    {
      "cell_type": "code",
      "execution_count": null,
      "metadata": {
        "id": "cEtMIXv2yabX",
        "colab": {
          "base_uri": "https://localhost:8080/",
          "height": 156,
          "referenced_widgets": [
            "a6cb437ec78046b98c68dfa92c54d698",
            "b3b344c0e6e648de9f9f0a36b550e5fb",
            "caa7adfc54d7425183b342956948c2b7",
            "b7f09e8c4f2042f186a3a1ba691029ad",
            "4000f7a6a7154fd3a04ea98e2e01a615",
            "3f62ce811c0a4daa9a11fd55a34c04c3",
            "8a4fc29876ad4227aa0a807d79b24e97",
            "3af35c62a3d54de9b23247f8e8e3c020",
            "1237861d00a345b1a47477310988e5cc",
            "4ff63d85f8234b1fb2bc850db9a4e792",
            "8ad832ffb390437eac06f5fd9ba6857d"
          ]
        },
        "outputId": "b97928e8-6a83-4c24-acb0-31e1e93aa4a2"
      },
      "outputs": [
        {
          "output_type": "display_data",
          "data": {
            "text/plain": [
              "Downloading:   0%|          | 0.00/536M [00:00<?, ?B/s]"
            ],
            "application/vnd.jupyter.widget-view+json": {
              "version_major": 2,
              "version_minor": 0,
              "model_id": "a6cb437ec78046b98c68dfa92c54d698"
            }
          },
          "metadata": {}
        },
        {
          "output_type": "stream",
          "name": "stderr",
          "text": [
            "Some layers from the model checkpoint at bert-base-uncased were not used when initializing TFBertModel: ['nsp___cls', 'mlm___cls']\n",
            "- This IS expected if you are initializing TFBertModel from the checkpoint of a model trained on another task or with another architecture (e.g. initializing a BertForSequenceClassification model from a BertForPreTraining model).\n",
            "- This IS NOT expected if you are initializing TFBertModel from the checkpoint of a model that you expect to be exactly identical (initializing a BertForSequenceClassification model from a BertForSequenceClassification model).\n",
            "All the layers of TFBertModel were initialized from the model checkpoint at bert-base-uncased.\n",
            "If your task is similar to the task the model of the checkpoint was trained on, you can already use TFBertModel for predictions without further training.\n"
          ]
        }
      ],
      "source": [
        "with strategy.scope():\n",
        "  \n",
        "  optimizer = tf.keras.optimizers.Adam(learning_rate=2e-5) #3e-5, 5e-5\n",
        "  loss = tf.keras.losses.BinaryCrossentropy()\n",
        "  recall = tf.keras.metrics.Recall()\n",
        "  model3 = create_model()\n",
        "  model3.compile(optimizer=optimizer, loss=loss, metrics=[recall])"
      ]
    },
    {
      "cell_type": "code",
      "execution_count": null,
      "metadata": {
        "id": "SCyJKZ8IyabY",
        "colab": {
          "base_uri": "https://localhost:8080/"
        },
        "outputId": "cd1c643c-8de0-42d5-b2c2-4e82f3e22a79"
      },
      "outputs": [
        {
          "output_type": "stream",
          "name": "stdout",
          "text": [
            "Model: \"model\"\n",
            "__________________________________________________________________________________________________\n",
            " Layer (type)                   Output Shape         Param #     Connected to                     \n",
            "==================================================================================================\n",
            " input_ids (InputLayer)         [(None, 130)]        0           []                               \n",
            "                                                                                                  \n",
            " attention_mask (InputLayer)    [(None, 130)]        0           []                               \n",
            "                                                                                                  \n",
            " bert (TFBertMainLayer)         TFBaseModelOutputWi  109482240   ['input_ids[0][0]',              \n",
            "                                thPoolingAndCrossAt               'attention_mask[0][0]']         \n",
            "                                tentions(last_hidde                                               \n",
            "                                n_state=(None, 130,                                               \n",
            "                                 768),                                                            \n",
            "                                 pooler_output=(Non                                               \n",
            "                                e, 768),                                                          \n",
            "                                 past_key_values=No                                               \n",
            "                                ne, hidden_states=N                                               \n",
            "                                one, attentions=Non                                               \n",
            "                                e, cross_attentions                                               \n",
            "                                =None)                                                            \n",
            "                                                                                                  \n",
            " dense_3 (Dense)                (None, 80)           61520       ['bert[0][1]']                   \n",
            "                                                                                                  \n",
            " dropout (Dropout)              (None, 80)           0           ['dense_3[0][0]']                \n",
            "                                                                                                  \n",
            " outputs (Dense)                (None, 1)            81          ['dropout[0][0]']                \n",
            "                                                                                                  \n",
            "==================================================================================================\n",
            "Total params: 109,543,841\n",
            "Trainable params: 109,543,841\n",
            "Non-trainable params: 0\n",
            "__________________________________________________________________________________________________\n"
          ]
        }
      ],
      "source": [
        "model3.summary()"
      ]
    },
    {
      "cell_type": "code",
      "execution_count": null,
      "metadata": {
        "id": "SrC2_jJsyabY",
        "colab": {
          "base_uri": "https://localhost:8080/"
        },
        "outputId": "730ab98f-0f02-4903-ce4a-45e9a4261431"
      },
      "outputs": [
        {
          "output_type": "stream",
          "name": "stdout",
          "text": [
            "1190/1190 [==============================] - 164s 77ms/step - loss: 0.1779 - recall: 0.7844 - val_loss: 0.1429 - val_recall: 0.8309\n"
          ]
        }
      ],
      "source": [
        "history = model3.fit(\n",
        "    train_ds, validation_data= val_ds,\n",
        "    epochs=1)"
      ]
    },
    {
      "cell_type": "code",
      "source": [],
      "metadata": {
        "id": "vcpv6yqI9ZYg"
      },
      "execution_count": null,
      "outputs": []
    },
    {
      "cell_type": "markdown",
      "metadata": {
        "id": "-1ffMrzzyaba"
      },
      "source": [
        "### Model evaluation"
      ]
    },
    {
      "cell_type": "code",
      "execution_count": null,
      "metadata": {
        "id": "veJ3S964yabb",
        "colab": {
          "base_uri": "https://localhost:8080/"
        },
        "outputId": "9c2c532f-3206-458f-c77a-e1f54dc81036"
      },
      "outputs": [
        {
          "output_type": "stream",
          "name": "stdout",
          "text": [
            "133/133 [==============================] - 9s 40ms/step\n",
            "              precision    recall  f1-score   support\n",
            "\n",
            "           0       0.96      0.97      0.96      1720\n",
            "           1       0.86      0.83      0.85       408\n",
            "\n",
            "    accuracy                           0.94      2128\n",
            "   macro avg       0.91      0.90      0.91      2128\n",
            "weighted avg       0.94      0.94      0.94      2128\n",
            "\n"
          ]
        },
        {
          "output_type": "stream",
          "name": "stderr",
          "text": [
            "Exception ignored in: <function Executor.__del__ at 0x7f56a4cf37a0>\n",
            "Traceback (most recent call last):\n",
            "  File \"/usr/local/lib/python3.7/dist-packages/tensorflow/python/eager/executor.py\", line 46, in __del__\n",
            "    self.wait()\n",
            "  File \"/usr/local/lib/python3.7/dist-packages/tensorflow/python/eager/executor.py\", line 65, in wait\n",
            "    pywrap_tfe.TFE_ExecutorWaitForAllPendingNodes(self._handle)\n",
            "tensorflow.python.framework.errors_impl.OutOfRangeError: End of sequence\n"
          ]
        }
      ],
      "source": [
        "from sklearn.metrics import classification_report, confusion_matrix\n",
        "\n",
        "y_pred = model3.predict(val_ds) >= 0.5\n",
        "\n",
        "y_test = [j for i in val_ds for j in np.array(i[1])]\n",
        "\n",
        "\n",
        "print(classification_report(y_test, y_pred))"
      ]
    },
    {
      "cell_type": "code",
      "execution_count": null,
      "metadata": {
        "id": "X6wnuC81yabb",
        "colab": {
          "base_uri": "https://localhost:8080/"
        },
        "outputId": "e2417ad1-b81f-488b-f298-cee098b0ab60"
      },
      "outputs": [
        {
          "output_type": "stream",
          "name": "stdout",
          "text": [
            "1190/1190 [==============================] - 20s 16ms/step\n",
            "              precision    recall  f1-score   support\n",
            "\n",
            "           0       0.98      0.98      0.98     15534\n",
            "           1       0.91      0.93      0.92      3506\n",
            "\n",
            "    accuracy                           0.97     19040\n",
            "   macro avg       0.95      0.96      0.95     19040\n",
            "weighted avg       0.97      0.97      0.97     19040\n",
            "\n"
          ]
        },
        {
          "output_type": "stream",
          "name": "stderr",
          "text": [
            "Exception ignored in: <function Executor.__del__ at 0x7f56a4cf37a0>\n",
            "Traceback (most recent call last):\n",
            "  File \"/usr/local/lib/python3.7/dist-packages/tensorflow/python/eager/executor.py\", line 46, in __del__\n",
            "    self.wait()\n",
            "  File \"/usr/local/lib/python3.7/dist-packages/tensorflow/python/eager/executor.py\", line 65, in wait\n",
            "    pywrap_tfe.TFE_ExecutorWaitForAllPendingNodes(self._handle)\n",
            "tensorflow.python.framework.errors_impl.OutOfRangeError: End of sequence\n"
          ]
        }
      ],
      "source": [
        "y_train_pred = model3.predict(train_ds) >= 0.5\n",
        "\n",
        "y_train = [j for i in train_ds for j in np.array(i[1])]\n",
        "\n",
        "print(classification_report(y_train, y_train_pred)) "
      ]
    },
    {
      "cell_type": "code",
      "source": [
        "from sklearn.metrics import precision_recall_curve, average_precision_score\n",
        "import matplotlib.pyplot as plt\n",
        "\n",
        "y_pred_proba = model3.predict(val_ds)\n",
        "precision, recall, thresholds = precision_recall_curve(y_test, y_pred_proba)\n",
        "plt.plot([1,0],[0,1],'k--')\n",
        "plt.plot(recall, precision)\n",
        "plt.xlabel('recall')\n",
        "plt.ylabel('precision')\n",
        "plt.title('precision recall curve')\n",
        "plt.show()"
      ],
      "metadata": {
        "colab": {
          "base_uri": "https://localhost:8080/",
          "height": 393
        },
        "id": "_QML4RCb_744",
        "outputId": "902f324f-7602-4706-b421-1354a2e7fe9b"
      },
      "execution_count": null,
      "outputs": [
        {
          "output_type": "stream",
          "name": "stdout",
          "text": [
            "133/133 [==============================] - 4s 17ms/step\n"
          ]
        },
        {
          "output_type": "display_data",
          "data": {
            "text/plain": [
              "<Figure size 576x396 with 1 Axes>"
            ],
            "image/png": "[encoded data removed]"
          },
          "metadata": {}
        }
      ]
    },
    {
      "cell_type": "code",
      "source": [
        "BERT_AP = average_precision_score(y_test, y_pred_proba)\n",
        "BERT_f1 = f1_score(y_test, y_pred)\n",
        "BERT_rec = recall_score(y_test, y_pred)"
      ],
      "metadata": {
        "id": "X1gVO5Cp_Uwm"
      },
      "execution_count": null,
      "outputs": []
    },
    {
      "cell_type": "markdown",
      "metadata": {
        "id": "Hdc5JYOXCV4A"
      },
      "source": [
        "### Compare Models F1 Scores, Recall Scores and Average Precision Score"
      ]
    },
    {
      "cell_type": "code",
      "execution_count": null,
      "metadata": {
        "id": "v0NYuHKNyabd",
        "colab": {
          "base_uri": "https://localhost:8080/",
          "height": 1000
        },
        "outputId": "9e886d82-1eb8-4e80-f937-d966cfc2fb17"
      },
      "outputs": [
        {
          "output_type": "display_data",
          "data": {
            "text/plain": [
              "<Figure size 1080x2160 with 3 Axes>"
            ],
            "image/png": "[encoded data removed]"
          },
          "metadata": {}
        }
      ],
      "source": [
        "compare = pd.DataFrame({\"Model\": [\"NaiveBayes_count\", \"LogReg_count\", \"SVM_count\", \"Random Forest_count\", \n",
        "                                  \"AdaBoost_count\", \"NaiveBayes_tfidf\", \"LogReg_tfidf\", \"SVM_tfidf\", \n",
        "                                  \"Random Forest_tfidf\", \"AdaBoost_tfidf\", \"DL\", \"BERT\"],\n",
        "                        \n",
        "                        \"F1_Score\": [nb_count_f1, log_count_f1, svc_count_f1,\n",
        "                                             rf_count_f1, ada_count_f1, nb_tfidf_f1, log_tfidf_f1,\n",
        "                                             svc_tfidf_f1, rf_tfidf_f1, ada_tfidf_f1, DL_f1, BERT_f1],\n",
        "                        \n",
        "                        \"Recall_Score\": [nb_count_rec, log_count_rec, svc_count_rec, \n",
        "                                                   rf_count_rec, ada_count_rec, \n",
        "                                                  nb_tfidf_rec, log_tfidf_rec, svc_tfidf_rec, \n",
        "                                                  rf_tfidf_rec, ada_tfidf_rec, DL_rec, BERT_rec],\n",
        "                        \n",
        "                        \"Average_Precision_Score\": [nb_AP_count, log_AP_count, svc_AP_count, rf_AP_count,\n",
        "                                                   ada_AP_count, nb_AP_tfidf, log_AP_tfidf, svc_AP_tfidf,\n",
        "                                                   rf_AP_tfidf, ada_AP_tfidf, DL_AP, BERT_AP]})\n",
        "\n",
        "def labels(ax):\n",
        "                        \n",
        "     for p in ax.patches:\n",
        "        ax.bar_label(ax.containers[0],fmt=\"%.3f\")\n",
        "    \n",
        "plt.figure(figsize=(15,30))\n",
        "plt.subplot(311)\n",
        "compare = compare.sort_values(by=\"Recall_Score\", ascending=False)\n",
        "ax=sns.barplot(x=\"Recall_Score\", y=\"Model\", data=compare, palette=\"Blues_d\")\n",
        "labels(ax)\n",
        "\n",
        "plt.subplot(312)\n",
        "compare = compare.sort_values(by=\"F1_Score\", ascending=False)\n",
        "ax=sns.barplot(x=\"F1_Score\", y=\"Model\", data=compare, palette=\"Blues_d\")\n",
        "labels(ax)\n",
        "\n",
        "\n",
        "plt.subplot(313)\n",
        "compare = compare.sort_values(by=\"Average_Precision_Score\", ascending=False)\n",
        "ax=sns.barplot(x=\"Average_Precision_Score\", y=\"Model\", data=compare, palette=\"Blues_d\")\n",
        "labels(ax)\n",
        "plt.show();"
      ]
    },
    {
      "cell_type": "code",
      "execution_count": null,
      "metadata": {
        "id": "KVjW_XLyyabd"
      },
      "outputs": [],
      "source": []
    },
    {
      "cell_type": "code",
      "execution_count": null,
      "metadata": {
        "id": "wXU-Yov1yabd"
      },
      "outputs": [],
      "source": []
    },
    {
      "cell_type": "code",
      "execution_count": null,
      "metadata": {
        "id": "zoeKmJwEyabe"
      },
      "outputs": [],
      "source": []
    },
    {
      "cell_type": "markdown",
      "metadata": {
        "id": "mfUL4ZaXCV4A"
      },
      "source": [
        "### Conclusion"
      ]
    },
    {
      "cell_type": "code",
      "execution_count": null,
      "metadata": {
        "id": "gtY0hTdRCV4A"
      },
      "outputs": [],
      "source": []
    },
    {
      "cell_type": "markdown",
      "metadata": {
        "id": "epg2QSwryabf"
      },
      "source": [
        "___\n",
        "\n",
        "<p style=\"text-align: center;\"><img src=\"https://docs.google.com/uc?id=1lY0Uj5R04yMY3-ZppPWxqCr5pvBLYPnV\" class=\"img-fluid\" alt=\"CLRSWY\"></p>\n",
        "\n",
        "___"
      ]
    }
  ],
  "metadata": {
    "colab": {
      "collapsed_sections": [],
      "provenance": [],
      "include_colab_link": true
    },
    "kernelspec": {
      "display_name": "Python 3 (ipykernel)",
      "language": "python",
      "name": "python3"
    },
    "language_info": {
      "codemirror_mode": {
        "name": "ipython",
        "version": 3
      },
      "file_extension": ".py",
      "mimetype": "text/x-python",
      "name": "python",
      "nbconvert_exporter": "python",
      "pygments_lexer": "ipython3",
      "version": "3.7.9"
    },
    "accelerator": "TPU",
    "widgets": {
      "application/vnd.jupyter.widget-state+json": {
        "2148c26b6e824cdc816fb1f75375c0c0": {
          "model_module": "@jupyter-widgets/controls",
          "model_name": "HBoxModel",
          "model_module_version": "1.5.0",
          "state": {
            "_dom_classes": [],
            "_model_module": "@jupyter-widgets/controls",
            "_model_module_version": "1.5.0",
            "_model_name": "HBoxModel",
            "_view_count": null,
            "_view_module": "@jupyter-widgets/controls",
            "_view_module_version": "1.5.0",
            "_view_name": "HBoxView",
            "box_style": "",
            "children": [
              "IPY_MODEL_87a4a2e77376450db0e90d61f9ee377b",
              "IPY_MODEL_d115d72aacd84e81b820794337759f39",
              "IPY_MODEL_d498441e2a7943009ef855ae388542b2"
            ],
            "layout": "IPY_MODEL_93bc07de88b346ef846434c14d46c50c"
          }
        },
        "87a4a2e77376450db0e90d61f9ee377b": {
          "model_module": "@jupyter-widgets/controls",
          "model_name": "HTMLModel",
          "model_module_version": "1.5.0",
          "state": {
            "_dom_classes": [],
            "_model_module": "@jupyter-widgets/controls",
            "_model_module_version": "1.5.0",
            "_model_name": "HTMLModel",
            "_view_count": null,
            "_view_module": "@jupyter-widgets/controls",
            "_view_module_version": "1.5.0",
            "_view_name": "HTMLView",
            "description": "",
            "description_tooltip": null,
            "layout": "IPY_MODEL_63f66378f9d14e55aab3bd0b8c2e572d",
            "placeholder": "​",
            "style": "IPY_MODEL_7041d6c2500d4bd48b66dd817539d616",
            "value": "Downloading: 100%"
          }
        },
        "d115d72aacd84e81b820794337759f39": {
          "model_module": "@jupyter-widgets/controls",
          "model_name": "FloatProgressModel",
          "model_module_version": "1.5.0",
          "state": {
            "_dom_classes": [],
            "_model_module": "@jupyter-widgets/controls",
            "_model_module_version": "1.5.0",
            "_model_name": "FloatProgressModel",
            "_view_count": null,
            "_view_module": "@jupyter-widgets/controls",
            "_view_module_version": "1.5.0",
            "_view_name": "ProgressView",
            "bar_style": "success",
            "description": "",
            "description_tooltip": null,
            "layout": "IPY_MODEL_e7baf68797164c8489ac152f56551e49",
            "max": 28,
            "min": 0,
            "orientation": "horizontal",
            "style": "IPY_MODEL_6cdd0329339341c6b021eb07ed1c9b5d",
            "value": 28
          }
        },
        "d498441e2a7943009ef855ae388542b2": {
          "model_module": "@jupyter-widgets/controls",
          "model_name": "HTMLModel",
          "model_module_version": "1.5.0",
          "state": {
            "_dom_classes": [],
            "_model_module": "@jupyter-widgets/controls",
            "_model_module_version": "1.5.0",
            "_model_name": "HTMLModel",
            "_view_count": null,
            "_view_module": "@jupyter-widgets/controls",
            "_view_module_version": "1.5.0",
            "_view_name": "HTMLView",
            "description": "",
            "description_tooltip": null,
            "layout": "IPY_MODEL_f62b59d462d148cd90a600b114b44f7f",
            "placeholder": "​",
            "style": "IPY_MODEL_d9d704257fb0438cac87e113dbf041d8",
            "value": " 28.0/28.0 [00:00&lt;00:00, 616B/s]"
          }
        },
        "93bc07de88b346ef846434c14d46c50c": {
          "model_module": "@jupyter-widgets/base",
          "model_name": "LayoutModel",
          "model_module_version": "1.2.0",
          "state": {
            "_model_module": "@jupyter-widgets/base",
            "_model_module_version": "1.2.0",
            "_model_name": "LayoutModel",
            "_view_count": null,
            "_view_module": "@jupyter-widgets/base",
            "_view_module_version": "1.2.0",
            "_view_name": "LayoutView",
            "align_content": null,
            "align_items": null,
            "align_self": null,
            "border": null,
            "bottom": null,
            "display": null,
            "flex": null,
            "flex_flow": null,
            "grid_area": null,
            "grid_auto_columns": null,
            "grid_auto_flow": null,
            "grid_auto_rows": null,
            "grid_column": null,
            "grid_gap": null,
            "grid_row": null,
            "grid_template_areas": null,
            "grid_template_columns": null,
            "grid_template_rows": null,
            "height": null,
            "justify_content": null,
            "justify_items": null,
            "left": null,
            "margin": null,
            "max_height": null,
            "max_width": null,
            "min_height": null,
            "min_width": null,
            "object_fit": null,
            "object_position": null,
            "order": null,
            "overflow": null,
            "overflow_x": null,
            "overflow_y": null,
            "padding": null,
            "right": null,
            "top": null,
            "visibility": null,
            "width": null
          }
        },
        "63f66378f9d14e55aab3bd0b8c2e572d": {
          "model_module": "@jupyter-widgets/base",
          "model_name": "LayoutModel",
          "model_module_version": "1.2.0",
          "state": {
            "_model_module": "@jupyter-widgets/base",
            "_model_module_version": "1.2.0",
            "_model_name": "LayoutModel",
            "_view_count": null,
            "_view_module": "@jupyter-widgets/base",
            "_view_module_version": "1.2.0",
            "_view_name": "LayoutView",
            "align_content": null,
            "align_items": null,
            "align_self": null,
            "border": null,
            "bottom": null,
            "display": null,
            "flex": null,
            "flex_flow": null,
            "grid_area": null,
            "grid_auto_columns": null,
            "grid_auto_flow": null,
            "grid_auto_rows": null,
            "grid_column": null,
            "grid_gap": null,
            "grid_row": null,
            "grid_template_areas": null,
            "grid_template_columns": null,
            "grid_template_rows": null,
            "height": null,
            "justify_content": null,
            "justify_items": null,
            "left": null,
            "margin": null,
            "max_height": null,
            "max_width": null,
            "min_height": null,
            "min_width": null,
            "object_fit": null,
            "object_position": null,
            "order": null,
            "overflow": null,
            "overflow_x": null,
            "overflow_y": null,
            "padding": null,
            "right": null,
            "top": null,
            "visibility": null,
            "width": null
          }
        },
        "7041d6c2500d4bd48b66dd817539d616": {
          "model_module": "@jupyter-widgets/controls",
          "model_name": "DescriptionStyleModel",
          "model_module_version": "1.5.0",
          "state": {
            "_model_module": "@jupyter-widgets/controls",
            "_model_module_version": "1.5.0",
            "_model_name": "DescriptionStyleModel",
            "_view_count": null,
            "_view_module": "@jupyter-widgets/base",
            "_view_module_version": "1.2.0",
            "_view_name": "StyleView",
            "description_width": ""
          }
        },
        "e7baf68797164c8489ac152f56551e49": {
          "model_module": "@jupyter-widgets/base",
          "model_name": "LayoutModel",
          "model_module_version": "1.2.0",
          "state": {
            "_model_module": "@jupyter-widgets/base",
            "_model_module_version": "1.2.0",
            "_model_name": "LayoutModel",
            "_view_count": null,
            "_view_module": "@jupyter-widgets/base",
            "_view_module_version": "1.2.0",
            "_view_name": "LayoutView",
            "align_content": null,
            "align_items": null,
            "align_self": null,
            "border": null,
            "bottom": null,
            "display": null,
            "flex": null,
            "flex_flow": null,
            "grid_area": null,
            "grid_auto_columns": null,
            "grid_auto_flow": null,
            "grid_auto_rows": null,
            "grid_column": null,
            "grid_gap": null,
            "grid_row": null,
            "grid_template_areas": null,
            "grid_template_columns": null,
            "grid_template_rows": null,
            "height": null,
            "justify_content": null,
            "justify_items": null,
            "left": null,
            "margin": null,
            "max_height": null,
            "max_width": null,
            "min_height": null,
            "min_width": null,
            "object_fit": null,
            "object_position": null,
            "order": null,
            "overflow": null,
            "overflow_x": null,
            "overflow_y": null,
            "padding": null,
            "right": null,
            "top": null,
            "visibility": null,
            "width": null
          }
        },
        "6cdd0329339341c6b021eb07ed1c9b5d": {
          "model_module": "@jupyter-widgets/controls",
          "model_name": "ProgressStyleModel",
          "model_module_version": "1.5.0",
          "state": {
            "_model_module": "@jupyter-widgets/controls",
            "_model_module_version": "1.5.0",
            "_model_name": "ProgressStyleModel",
            "_view_count": null,
            "_view_module": "@jupyter-widgets/base",
            "_view_module_version": "1.2.0",
            "_view_name": "StyleView",
            "bar_color": null,
            "description_width": ""
          }
        },
        "f62b59d462d148cd90a600b114b44f7f": {
          "model_module": "@jupyter-widgets/base",
          "model_name": "LayoutModel",
          "model_module_version": "1.2.0",
          "state": {
            "_model_module": "@jupyter-widgets/base",
            "_model_module_version": "1.2.0",
            "_model_name": "LayoutModel",
            "_view_count": null,
            "_view_module": "@jupyter-widgets/base",
            "_view_module_version": "1.2.0",
            "_view_name": "LayoutView",
            "align_content": null,
            "align_items": null,
            "align_self": null,
            "border": null,
            "bottom": null,
            "display": null,
            "flex": null,
            "flex_flow": null,
            "grid_area": null,
            "grid_auto_columns": null,
            "grid_auto_flow": null,
            "grid_auto_rows": null,
            "grid_column": null,
            "grid_gap": null,
            "grid_row": null,
            "grid_template_areas": null,
            "grid_template_columns": null,
            "grid_template_rows": null,
            "height": null,
            "justify_content": null,
            "justify_items": null,
            "left": null,
            "margin": null,
            "max_height": null,
            "max_width": null,
            "min_height": null,
            "min_width": null,
            "object_fit": null,
            "object_position": null,
            "order": null,
            "overflow": null,
            "overflow_x": null,
            "overflow_y": null,
            "padding": null,
            "right": null,
            "top": null,
            "visibility": null,
            "width": null
          }
        },
        "d9d704257fb0438cac87e113dbf041d8": {
          "model_module": "@jupyter-widgets/controls",
          "model_name": "DescriptionStyleModel",
          "model_module_version": "1.5.0",
          "state": {
            "_model_module": "@jupyter-widgets/controls",
            "_model_module_version": "1.5.0",
            "_model_name": "DescriptionStyleModel",
            "_view_count": null,
            "_view_module": "@jupyter-widgets/base",
            "_view_module_version": "1.2.0",
            "_view_name": "StyleView",
            "description_width": ""
          }
        },
        "eef267ac1f5d4768a5eac16bd541aad8": {
          "model_module": "@jupyter-widgets/controls",
          "model_name": "HBoxModel",
          "model_module_version": "1.5.0",
          "state": {
            "_dom_classes": [],
            "_model_module": "@jupyter-widgets/controls",
            "_model_module_version": "1.5.0",
            "_model_name": "HBoxModel",
            "_view_count": null,
            "_view_module": "@jupyter-widgets/controls",
            "_view_module_version": "1.5.0",
            "_view_name": "HBoxView",
            "box_style": "",
            "children": [
              "IPY_MODEL_71487d9164594000a5b997e3dfb9e2fd",
              "IPY_MODEL_3686a3ce720c4bfb9210ff76cb7737a8",
              "IPY_MODEL_19f8b5965b794673b535415eb05f9987"
            ],
            "layout": "IPY_MODEL_f83ee0a1a3fd4ad0947ecbf1539b93c1"
          }
        },
        "71487d9164594000a5b997e3dfb9e2fd": {
          "model_module": "@jupyter-widgets/controls",
          "model_name": "HTMLModel",
          "model_module_version": "1.5.0",
          "state": {
            "_dom_classes": [],
            "_model_module": "@jupyter-widgets/controls",
            "_model_module_version": "1.5.0",
            "_model_name": "HTMLModel",
            "_view_count": null,
            "_view_module": "@jupyter-widgets/controls",
            "_view_module_version": "1.5.0",
            "_view_name": "HTMLView",
            "description": "",
            "description_tooltip": null,
            "layout": "IPY_MODEL_32edbd7122164bbd8da3077d145a343e",
            "placeholder": "​",
            "style": "IPY_MODEL_f117252b2e7c4e23812a029fd6ca9874",
            "value": "Downloading: 100%"
          }
        },
        "3686a3ce720c4bfb9210ff76cb7737a8": {
          "model_module": "@jupyter-widgets/controls",
          "model_name": "FloatProgressModel",
          "model_module_version": "1.5.0",
          "state": {
            "_dom_classes": [],
            "_model_module": "@jupyter-widgets/controls",
            "_model_module_version": "1.5.0",
            "_model_name": "FloatProgressModel",
            "_view_count": null,
            "_view_module": "@jupyter-widgets/controls",
            "_view_module_version": "1.5.0",
            "_view_name": "ProgressView",
            "bar_style": "success",
            "description": "",
            "description_tooltip": null,
            "layout": "IPY_MODEL_1a267fe6cfc14249a43403be019d0686",
            "max": 570,
            "min": 0,
            "orientation": "horizontal",
            "style": "IPY_MODEL_78fc20817788491f9a04f21f0f1342bd",
            "value": 570
          }
        },
        "19f8b5965b794673b535415eb05f9987": {
          "model_module": "@jupyter-widgets/controls",
          "model_name": "HTMLModel",
          "model_module_version": "1.5.0",
          "state": {
            "_dom_classes": [],
            "_model_module": "@jupyter-widgets/controls",
            "_model_module_version": "1.5.0",
            "_model_name": "HTMLModel",
            "_view_count": null,
            "_view_module": "@jupyter-widgets/controls",
            "_view_module_version": "1.5.0",
            "_view_name": "HTMLView",
            "description": "",
            "description_tooltip": null,
            "layout": "IPY_MODEL_f59cd1780dea4c2e8d11e44c5814891b",
            "placeholder": "​",
            "style": "IPY_MODEL_36fa77a6396a44059397cb0af47dd34e",
            "value": " 570/570 [00:00&lt;00:00, 10.1kB/s]"
          }
        },
        "f83ee0a1a3fd4ad0947ecbf1539b93c1": {
          "model_module": "@jupyter-widgets/base",
          "model_name": "LayoutModel",
          "model_module_version": "1.2.0",
          "state": {
            "_model_module": "@jupyter-widgets/base",
            "_model_module_version": "1.2.0",
            "_model_name": "LayoutModel",
            "_view_count": null,
            "_view_module": "@jupyter-widgets/base",
            "_view_module_version": "1.2.0",
            "_view_name": "LayoutView",
            "align_content": null,
            "align_items": null,
            "align_self": null,
            "border": null,
            "bottom": null,
            "display": null,
            "flex": null,
            "flex_flow": null,
            "grid_area": null,
            "grid_auto_columns": null,
            "grid_auto_flow": null,
            "grid_auto_rows": null,
            "grid_column": null,
            "grid_gap": null,
            "grid_row": null,
            "grid_template_areas": null,
            "grid_template_columns": null,
            "grid_template_rows": null,
            "height": null,
            "justify_content": null,
            "justify_items": null,
            "left": null,
            "margin": null,
            "max_height": null,
            "max_width": null,
            "min_height": null,
            "min_width": null,
            "object_fit": null,
            "object_position": null,
            "order": null,
            "overflow": null,
            "overflow_x": null,
            "overflow_y": null,
            "padding": null,
            "right": null,
            "top": null,
            "visibility": null,
            "width": null
          }
        },
        "32edbd7122164bbd8da3077d145a343e": {
          "model_module": "@jupyter-widgets/base",
          "model_name": "LayoutModel",
          "model_module_version": "1.2.0",
          "state": {
            "_model_module": "@jupyter-widgets/base",
            "_model_module_version": "1.2.0",
            "_model_name": "LayoutModel",
            "_view_count": null,
            "_view_module": "@jupyter-widgets/base",
            "_view_module_version": "1.2.0",
            "_view_name": "LayoutView",
            "align_content": null,
            "align_items": null,
            "align_self": null,
            "border": null,
            "bottom": null,
            "display": null,
            "flex": null,
            "flex_flow": null,
            "grid_area": null,
            "grid_auto_columns": null,
            "grid_auto_flow": null,
            "grid_auto_rows": null,
            "grid_column": null,
            "grid_gap": null,
            "grid_row": null,
            "grid_template_areas": null,
            "grid_template_columns": null,
            "grid_template_rows": null,
            "height": null,
            "justify_content": null,
            "justify_items": null,
            "left": null,
            "margin": null,
            "max_height": null,
            "max_width": null,
            "min_height": null,
            "min_width": null,
            "object_fit": null,
            "object_position": null,
            "order": null,
            "overflow": null,
            "overflow_x": null,
            "overflow_y": null,
            "padding": null,
            "right": null,
            "top": null,
            "visibility": null,
            "width": null
          }
        },
        "f117252b2e7c4e23812a029fd6ca9874": {
          "model_module": "@jupyter-widgets/controls",
          "model_name": "DescriptionStyleModel",
          "model_module_version": "1.5.0",
          "state": {
            "_model_module": "@jupyter-widgets/controls",
            "_model_module_version": "1.5.0",
            "_model_name": "DescriptionStyleModel",
            "_view_count": null,
            "_view_module": "@jupyter-widgets/base",
            "_view_module_version": "1.2.0",
            "_view_name": "StyleView",
            "description_width": ""
          }
        },
        "1a267fe6cfc14249a43403be019d0686": {
          "model_module": "@jupyter-widgets/base",
          "model_name": "LayoutModel",
          "model_module_version": "1.2.0",
          "state": {
            "_model_module": "@jupyter-widgets/base",
            "_model_module_version": "1.2.0",
            "_model_name": "LayoutModel",
            "_view_count": null,
            "_view_module": "@jupyter-widgets/base",
            "_view_module_version": "1.2.0",
            "_view_name": "LayoutView",
            "align_content": null,
            "align_items": null,
            "align_self": null,
            "border": null,
            "bottom": null,
            "display": null,
            "flex": null,
            "flex_flow": null,
            "grid_area": null,
            "grid_auto_columns": null,
            "grid_auto_flow": null,
            "grid_auto_rows": null,
            "grid_column": null,
            "grid_gap": null,
            "grid_row": null,
            "grid_template_areas": null,
            "grid_template_columns": null,
            "grid_template_rows": null,
            "height": null,
            "justify_content": null,
            "justify_items": null,
            "left": null,
            "margin": null,
            "max_height": null,
            "max_width": null,
            "min_height": null,
            "min_width": null,
            "object_fit": null,
            "object_position": null,
            "order": null,
            "overflow": null,
            "overflow_x": null,
            "overflow_y": null,
            "padding": null,
            "right": null,
            "top": null,
            "visibility": null,
            "width": null
          }
        },
        "78fc20817788491f9a04f21f0f1342bd": {
          "model_module": "@jupyter-widgets/controls",
          "model_name": "ProgressStyleModel",
          "model_module_version": "1.5.0",
          "state": {
            "_model_module": "@jupyter-widgets/controls",
            "_model_module_version": "1.5.0",
            "_model_name": "ProgressStyleModel",
            "_view_count": null,
            "_view_module": "@jupyter-widgets/base",
            "_view_module_version": "1.2.0",
            "_view_name": "StyleView",
            "bar_color": null,
            "description_width": ""
          }
        },
        "f59cd1780dea4c2e8d11e44c5814891b": {
          "model_module": "@jupyter-widgets/base",
          "model_name": "LayoutModel",
          "model_module_version": "1.2.0",
          "state": {
            "_model_module": "@jupyter-widgets/base",
            "_model_module_version": "1.2.0",
            "_model_name": "LayoutModel",
            "_view_count": null,
            "_view_module": "@jupyter-widgets/base",
            "_view_module_version": "1.2.0",
            "_view_name": "LayoutView",
            "align_content": null,
            "align_items": null,
            "align_self": null,
            "border": null,
            "bottom": null,
            "display": null,
            "flex": null,
            "flex_flow": null,
            "grid_area": null,
            "grid_auto_columns": null,
            "grid_auto_flow": null,
            "grid_auto_rows": null,
            "grid_column": null,
            "grid_gap": null,
            "grid_row": null,
            "grid_template_areas": null,
            "grid_template_columns": null,
            "grid_template_rows": null,
            "height": null,
            "justify_content": null,
            "justify_items": null,
            "left": null,
            "margin": null,
            "max_height": null,
            "max_width": null,
            "min_height": null,
            "min_width": null,
            "object_fit": null,
            "object_position": null,
            "order": null,
            "overflow": null,
            "overflow_x": null,
            "overflow_y": null,
            "padding": null,
            "right": null,
            "top": null,
            "visibility": null,
            "width": null
          }
        },
        "36fa77a6396a44059397cb0af47dd34e": {
          "model_module": "@jupyter-widgets/controls",
          "model_name": "DescriptionStyleModel",
          "model_module_version": "1.5.0",
          "state": {
            "_model_module": "@jupyter-widgets/controls",
            "_model_module_version": "1.5.0",
            "_model_name": "DescriptionStyleModel",
            "_view_count": null,
            "_view_module": "@jupyter-widgets/base",
            "_view_module_version": "1.2.0",
            "_view_name": "StyleView",
            "description_width": ""
          }
        },
        "2e6df47c37ef4df289d7286f73d06c67": {
          "model_module": "@jupyter-widgets/controls",
          "model_name": "HBoxModel",
          "model_module_version": "1.5.0",
          "state": {
            "_dom_classes": [],
            "_model_module": "@jupyter-widgets/controls",
            "_model_module_version": "1.5.0",
            "_model_name": "HBoxModel",
            "_view_count": null,
            "_view_module": "@jupyter-widgets/controls",
            "_view_module_version": "1.5.0",
            "_view_name": "HBoxView",
            "box_style": "",
            "children": [
              "IPY_MODEL_6fe90cb0d2be466e983434254226dd17",
              "IPY_MODEL_62bcb9e102364a6a9df3bd5f2b7050e1",
              "IPY_MODEL_025a69493d0b4a248c8f7bb287bccceb"
            ],
            "layout": "IPY_MODEL_2eee84bc230449a4ad7e9fa75eb81441"
          }
        },
        "6fe90cb0d2be466e983434254226dd17": {
          "model_module": "@jupyter-widgets/controls",
          "model_name": "HTMLModel",
          "model_module_version": "1.5.0",
          "state": {
            "_dom_classes": [],
            "_model_module": "@jupyter-widgets/controls",
            "_model_module_version": "1.5.0",
            "_model_name": "HTMLModel",
            "_view_count": null,
            "_view_module": "@jupyter-widgets/controls",
            "_view_module_version": "1.5.0",
            "_view_name": "HTMLView",
            "description": "",
            "description_tooltip": null,
            "layout": "IPY_MODEL_4ecf6985e8f64c6a9a868a726740cfe0",
            "placeholder": "​",
            "style": "IPY_MODEL_bdc37fb0382a4556aa1d2262224203bf",
            "value": "Downloading: 100%"
          }
        },
        "62bcb9e102364a6a9df3bd5f2b7050e1": {
          "model_module": "@jupyter-widgets/controls",
          "model_name": "FloatProgressModel",
          "model_module_version": "1.5.0",
          "state": {
            "_dom_classes": [],
            "_model_module": "@jupyter-widgets/controls",
            "_model_module_version": "1.5.0",
            "_model_name": "FloatProgressModel",
            "_view_count": null,
            "_view_module": "@jupyter-widgets/controls",
            "_view_module_version": "1.5.0",
            "_view_name": "ProgressView",
            "bar_style": "success",
            "description": "",
            "description_tooltip": null,
            "layout": "IPY_MODEL_e453d939e2cd4e0aa61c2603a6088299",
            "max": 231508,
            "min": 0,
            "orientation": "horizontal",
            "style": "IPY_MODEL_d47b3bec9117408aba5a47583674142c",
            "value": 231508
          }
        },
        "025a69493d0b4a248c8f7bb287bccceb": {
          "model_module": "@jupyter-widgets/controls",
          "model_name": "HTMLModel",
          "model_module_version": "1.5.0",
          "state": {
            "_dom_classes": [],
            "_model_module": "@jupyter-widgets/controls",
            "_model_module_version": "1.5.0",
            "_model_name": "HTMLModel",
            "_view_count": null,
            "_view_module": "@jupyter-widgets/controls",
            "_view_module_version": "1.5.0",
            "_view_name": "HTMLView",
            "description": "",
            "description_tooltip": null,
            "layout": "IPY_MODEL_bf2ac6415c4c4f5eac54dc4d5eca9310",
            "placeholder": "​",
            "style": "IPY_MODEL_8c20dc62741d4953a6c5cbccca184de6",
            "value": " 232k/232k [00:00&lt;00:00, 1.54MB/s]"
          }
        },
        "2eee84bc230449a4ad7e9fa75eb81441": {
          "model_module": "@jupyter-widgets/base",
          "model_name": "LayoutModel",
          "model_module_version": "1.2.0",
          "state": {
            "_model_module": "@jupyter-widgets/base",
            "_model_module_version": "1.2.0",
            "_model_name": "LayoutModel",
            "_view_count": null,
            "_view_module": "@jupyter-widgets/base",
            "_view_module_version": "1.2.0",
            "_view_name": "LayoutView",
            "align_content": null,
            "align_items": null,
            "align_self": null,
            "border": null,
            "bottom": null,
            "display": null,
            "flex": null,
            "flex_flow": null,
            "grid_area": null,
            "grid_auto_columns": null,
            "grid_auto_flow": null,
            "grid_auto_rows": null,
            "grid_column": null,
            "grid_gap": null,
            "grid_row": null,
            "grid_template_areas": null,
            "grid_template_columns": null,
            "grid_template_rows": null,
            "height": null,
            "justify_content": null,
            "justify_items": null,
            "left": null,
            "margin": null,
            "max_height": null,
            "max_width": null,
            "min_height": null,
            "min_width": null,
            "object_fit": null,
            "object_position": null,
            "order": null,
            "overflow": null,
            "overflow_x": null,
            "overflow_y": null,
            "padding": null,
            "right": null,
            "top": null,
            "visibility": null,
            "width": null
          }
        },
        "4ecf6985e8f64c6a9a868a726740cfe0": {
          "model_module": "@jupyter-widgets/base",
          "model_name": "LayoutModel",
          "model_module_version": "1.2.0",
          "state": {
            "_model_module": "@jupyter-widgets/base",
            "_model_module_version": "1.2.0",
            "_model_name": "LayoutModel",
            "_view_count": null,
            "_view_module": "@jupyter-widgets/base",
            "_view_module_version": "1.2.0",
            "_view_name": "LayoutView",
            "align_content": null,
            "align_items": null,
            "align_self": null,
            "border": null,
            "bottom": null,
            "display": null,
            "flex": null,
            "flex_flow": null,
            "grid_area": null,
            "grid_auto_columns": null,
            "grid_auto_flow": null,
            "grid_auto_rows": null,
            "grid_column": null,
            "grid_gap": null,
            "grid_row": null,
            "grid_template_areas": null,
            "grid_template_columns": null,
            "grid_template_rows": null,
            "height": null,
            "justify_content": null,
            "justify_items": null,
            "left": null,
            "margin": null,
            "max_height": null,
            "max_width": null,
            "min_height": null,
            "min_width": null,
            "object_fit": null,
            "object_position": null,
            "order": null,
            "overflow": null,
            "overflow_x": null,
            "overflow_y": null,
            "padding": null,
            "right": null,
            "top": null,
            "visibility": null,
            "width": null
          }
        },
        "bdc37fb0382a4556aa1d2262224203bf": {
          "model_module": "@jupyter-widgets/controls",
          "model_name": "DescriptionStyleModel",
          "model_module_version": "1.5.0",
          "state": {
            "_model_module": "@jupyter-widgets/controls",
            "_model_module_version": "1.5.0",
            "_model_name": "DescriptionStyleModel",
            "_view_count": null,
            "_view_module": "@jupyter-widgets/base",
            "_view_module_version": "1.2.0",
            "_view_name": "StyleView",
            "description_width": ""
          }
        },
        "e453d939e2cd4e0aa61c2603a6088299": {
          "model_module": "@jupyter-widgets/base",
          "model_name": "LayoutModel",
          "model_module_version": "1.2.0",
          "state": {
            "_model_module": "@jupyter-widgets/base",
            "_model_module_version": "1.2.0",
            "_model_name": "LayoutModel",
            "_view_count": null,
            "_view_module": "@jupyter-widgets/base",
            "_view_module_version": "1.2.0",
            "_view_name": "LayoutView",
            "align_content": null,
            "align_items": null,
            "align_self": null,
            "border": null,
            "bottom": null,
            "display": null,
            "flex": null,
            "flex_flow": null,
            "grid_area": null,
            "grid_auto_columns": null,
            "grid_auto_flow": null,
            "grid_auto_rows": null,
            "grid_column": null,
            "grid_gap": null,
            "grid_row": null,
            "grid_template_areas": null,
            "grid_template_columns": null,
            "grid_template_rows": null,
            "height": null,
            "justify_content": null,
            "justify_items": null,
            "left": null,
            "margin": null,
            "max_height": null,
            "max_width": null,
            "min_height": null,
            "min_width": null,
            "object_fit": null,
            "object_position": null,
            "order": null,
            "overflow": null,
            "overflow_x": null,
            "overflow_y": null,
            "padding": null,
            "right": null,
            "top": null,
            "visibility": null,
            "width": null
          }
        },
        "d47b3bec9117408aba5a47583674142c": {
          "model_module": "@jupyter-widgets/controls",
          "model_name": "ProgressStyleModel",
          "model_module_version": "1.5.0",
          "state": {
            "_model_module": "@jupyter-widgets/controls",
            "_model_module_version": "1.5.0",
            "_model_name": "ProgressStyleModel",
            "_view_count": null,
            "_view_module": "@jupyter-widgets/base",
            "_view_module_version": "1.2.0",
            "_view_name": "StyleView",
            "bar_color": null,
            "description_width": ""
          }
        },
        "bf2ac6415c4c4f5eac54dc4d5eca9310": {
          "model_module": "@jupyter-widgets/base",
          "model_name": "LayoutModel",
          "model_module_version": "1.2.0",
          "state": {
            "_model_module": "@jupyter-widgets/base",
            "_model_module_version": "1.2.0",
            "_model_name": "LayoutModel",
            "_view_count": null,
            "_view_module": "@jupyter-widgets/base",
            "_view_module_version": "1.2.0",
            "_view_name": "LayoutView",
            "align_content": null,
            "align_items": null,
            "align_self": null,
            "border": null,
            "bottom": null,
            "display": null,
            "flex": null,
            "flex_flow": null,
            "grid_area": null,
            "grid_auto_columns": null,
            "grid_auto_flow": null,
            "grid_auto_rows": null,
            "grid_column": null,
            "grid_gap": null,
            "grid_row": null,
            "grid_template_areas": null,
            "grid_template_columns": null,
            "grid_template_rows": null,
            "height": null,
            "justify_content": null,
            "justify_items": null,
            "left": null,
            "margin": null,
            "max_height": null,
            "max_width": null,
            "min_height": null,
            "min_width": null,
            "object_fit": null,
            "object_position": null,
            "order": null,
            "overflow": null,
            "overflow_x": null,
            "overflow_y": null,
            "padding": null,
            "right": null,
            "top": null,
            "visibility": null,
            "width": null
          }
        },
        "8c20dc62741d4953a6c5cbccca184de6": {
          "model_module": "@jupyter-widgets/controls",
          "model_name": "DescriptionStyleModel",
          "model_module_version": "1.5.0",
          "state": {
            "_model_module": "@jupyter-widgets/controls",
            "_model_module_version": "1.5.0",
            "_model_name": "DescriptionStyleModel",
            "_view_count": null,
            "_view_module": "@jupyter-widgets/base",
            "_view_module_version": "1.2.0",
            "_view_name": "StyleView",
            "description_width": ""
          }
        },
        "3a5beb2bd5cc42d58ed4706c083699a4": {
          "model_module": "@jupyter-widgets/controls",
          "model_name": "HBoxModel",
          "model_module_version": "1.5.0",
          "state": {
            "_dom_classes": [],
            "_model_module": "@jupyter-widgets/controls",
            "_model_module_version": "1.5.0",
            "_model_name": "HBoxModel",
            "_view_count": null,
            "_view_module": "@jupyter-widgets/controls",
            "_view_module_version": "1.5.0",
            "_view_name": "HBoxView",
            "box_style": "",
            "children": [
              "IPY_MODEL_15307c83e598436694d1445d1cbd2a79",
              "IPY_MODEL_cddd7e5785e0414598c4ad19022c9487",
              "IPY_MODEL_a07ac0c58631484fae52b46517a17c08"
            ],
            "layout": "IPY_MODEL_7dee3db3d1764a7596e2321fcc8b82e1"
          }
        },
        "15307c83e598436694d1445d1cbd2a79": {
          "model_module": "@jupyter-widgets/controls",
          "model_name": "HTMLModel",
          "model_module_version": "1.5.0",
          "state": {
            "_dom_classes": [],
            "_model_module": "@jupyter-widgets/controls",
            "_model_module_version": "1.5.0",
            "_model_name": "HTMLModel",
            "_view_count": null,
            "_view_module": "@jupyter-widgets/controls",
            "_view_module_version": "1.5.0",
            "_view_name": "HTMLView",
            "description": "",
            "description_tooltip": null,
            "layout": "IPY_MODEL_4537d77e7c714925814309ab46b4bb51",
            "placeholder": "​",
            "style": "IPY_MODEL_52f04d4c161a4dc788fc258dfa5de49e",
            "value": "Downloading: 100%"
          }
        },
        "cddd7e5785e0414598c4ad19022c9487": {
          "model_module": "@jupyter-widgets/controls",
          "model_name": "FloatProgressModel",
          "model_module_version": "1.5.0",
          "state": {
            "_dom_classes": [],
            "_model_module": "@jupyter-widgets/controls",
            "_model_module_version": "1.5.0",
            "_model_name": "FloatProgressModel",
            "_view_count": null,
            "_view_module": "@jupyter-widgets/controls",
            "_view_module_version": "1.5.0",
            "_view_name": "ProgressView",
            "bar_style": "success",
            "description": "",
            "description_tooltip": null,
            "layout": "IPY_MODEL_84e634a7439f4cbaae8e95689ef9ffb2",
            "max": 466062,
            "min": 0,
            "orientation": "horizontal",
            "style": "IPY_MODEL_39efec333e17431fbe29128f1be3cb06",
            "value": 466062
          }
        },
        "a07ac0c58631484fae52b46517a17c08": {
          "model_module": "@jupyter-widgets/controls",
          "model_name": "HTMLModel",
          "model_module_version": "1.5.0",
          "state": {
            "_dom_classes": [],
            "_model_module": "@jupyter-widgets/controls",
            "_model_module_version": "1.5.0",
            "_model_name": "HTMLModel",
            "_view_count": null,
            "_view_module": "@jupyter-widgets/controls",
            "_view_module_version": "1.5.0",
            "_view_name": "HTMLView",
            "description": "",
            "description_tooltip": null,
            "layout": "IPY_MODEL_08a2eae486544d24b0e7d41dcb8e2f45",
            "placeholder": "​",
            "style": "IPY_MODEL_82ae1bbaf03749138470cf746b4b43bb",
            "value": " 466k/466k [00:00&lt;00:00, 1.20MB/s]"
          }
        },
        "7dee3db3d1764a7596e2321fcc8b82e1": {
          "model_module": "@jupyter-widgets/base",
          "model_name": "LayoutModel",
          "model_module_version": "1.2.0",
          "state": {
            "_model_module": "@jupyter-widgets/base",
            "_model_module_version": "1.2.0",
            "_model_name": "LayoutModel",
            "_view_count": null,
            "_view_module": "@jupyter-widgets/base",
            "_view_module_version": "1.2.0",
            "_view_name": "LayoutView",
            "align_content": null,
            "align_items": null,
            "align_self": null,
            "border": null,
            "bottom": null,
            "display": null,
            "flex": null,
            "flex_flow": null,
            "grid_area": null,
            "grid_auto_columns": null,
            "grid_auto_flow": null,
            "grid_auto_rows": null,
            "grid_column": null,
            "grid_gap": null,
            "grid_row": null,
            "grid_template_areas": null,
            "grid_template_columns": null,
            "grid_template_rows": null,
            "height": null,
            "justify_content": null,
            "justify_items": null,
            "left": null,
            "margin": null,
            "max_height": null,
            "max_width": null,
            "min_height": null,
            "min_width": null,
            "object_fit": null,
            "object_position": null,
            "order": null,
            "overflow": null,
            "overflow_x": null,
            "overflow_y": null,
            "padding": null,
            "right": null,
            "top": null,
            "visibility": null,
            "width": null
          }
        },
        "4537d77e7c714925814309ab46b4bb51": {
          "model_module": "@jupyter-widgets/base",
          "model_name": "LayoutModel",
          "model_module_version": "1.2.0",
          "state": {
            "_model_module": "@jupyter-widgets/base",
            "_model_module_version": "1.2.0",
            "_model_name": "LayoutModel",
            "_view_count": null,
            "_view_module": "@jupyter-widgets/base",
            "_view_module_version": "1.2.0",
            "_view_name": "LayoutView",
            "align_content": null,
            "align_items": null,
            "align_self": null,
            "border": null,
            "bottom": null,
            "display": null,
            "flex": null,
            "flex_flow": null,
            "grid_area": null,
            "grid_auto_columns": null,
            "grid_auto_flow": null,
            "grid_auto_rows": null,
            "grid_column": null,
            "grid_gap": null,
            "grid_row": null,
            "grid_template_areas": null,
            "grid_template_columns": null,
            "grid_template_rows": null,
            "height": null,
            "justify_content": null,
            "justify_items": null,
            "left": null,
            "margin": null,
            "max_height": null,
            "max_width": null,
            "min_height": null,
            "min_width": null,
            "object_fit": null,
            "object_position": null,
            "order": null,
            "overflow": null,
            "overflow_x": null,
            "overflow_y": null,
            "padding": null,
            "right": null,
            "top": null,
            "visibility": null,
            "width": null
          }
        },
        "52f04d4c161a4dc788fc258dfa5de49e": {
          "model_module": "@jupyter-widgets/controls",
          "model_name": "DescriptionStyleModel",
          "model_module_version": "1.5.0",
          "state": {
            "_model_module": "@jupyter-widgets/controls",
            "_model_module_version": "1.5.0",
            "_model_name": "DescriptionStyleModel",
            "_view_count": null,
            "_view_module": "@jupyter-widgets/base",
            "_view_module_version": "1.2.0",
            "_view_name": "StyleView",
            "description_width": ""
          }
        },
        "84e634a7439f4cbaae8e95689ef9ffb2": {
          "model_module": "@jupyter-widgets/base",
          "model_name": "LayoutModel",
          "model_module_version": "1.2.0",
          "state": {
            "_model_module": "@jupyter-widgets/base",
            "_model_module_version": "1.2.0",
            "_model_name": "LayoutModel",
            "_view_count": null,
            "_view_module": "@jupyter-widgets/base",
            "_view_module_version": "1.2.0",
            "_view_name": "LayoutView",
            "align_content": null,
            "align_items": null,
            "align_self": null,
            "border": null,
            "bottom": null,
            "display": null,
            "flex": null,
            "flex_flow": null,
            "grid_area": null,
            "grid_auto_columns": null,
            "grid_auto_flow": null,
            "grid_auto_rows": null,
            "grid_column": null,
            "grid_gap": null,
            "grid_row": null,
            "grid_template_areas": null,
            "grid_template_columns": null,
            "grid_template_rows": null,
            "height": null,
            "justify_content": null,
            "justify_items": null,
            "left": null,
            "margin": null,
            "max_height": null,
            "max_width": null,
            "min_height": null,
            "min_width": null,
            "object_fit": null,
            "object_position": null,
            "order": null,
            "overflow": null,
            "overflow_x": null,
            "overflow_y": null,
            "padding": null,
            "right": null,
            "top": null,
            "visibility": null,
            "width": null
          }
        },
        "39efec333e17431fbe29128f1be3cb06": {
          "model_module": "@jupyter-widgets/controls",
          "model_name": "ProgressStyleModel",
          "model_module_version": "1.5.0",
          "state": {
            "_model_module": "@jupyter-widgets/controls",
            "_model_module_version": "1.5.0",
            "_model_name": "ProgressStyleModel",
            "_view_count": null,
            "_view_module": "@jupyter-widgets/base",
            "_view_module_version": "1.2.0",
            "_view_name": "StyleView",
            "bar_color": null,
            "description_width": ""
          }
        },
        "08a2eae486544d24b0e7d41dcb8e2f45": {
          "model_module": "@jupyter-widgets/base",
          "model_name": "LayoutModel",
          "model_module_version": "1.2.0",
          "state": {
            "_model_module": "@jupyter-widgets/base",
            "_model_module_version": "1.2.0",
            "_model_name": "LayoutModel",
            "_view_count": null,
            "_view_module": "@jupyter-widgets/base",
            "_view_module_version": "1.2.0",
            "_view_name": "LayoutView",
            "align_content": null,
            "align_items": null,
            "align_self": null,
            "border": null,
            "bottom": null,
            "display": null,
            "flex": null,
            "flex_flow": null,
            "grid_area": null,
            "grid_auto_columns": null,
            "grid_auto_flow": null,
            "grid_auto_rows": null,
            "grid_column": null,
            "grid_gap": null,
            "grid_row": null,
            "grid_template_areas": null,
            "grid_template_columns": null,
            "grid_template_rows": null,
            "height": null,
            "justify_content": null,
            "justify_items": null,
            "left": null,
            "margin": null,
            "max_height": null,
            "max_width": null,
            "min_height": null,
            "min_width": null,
            "object_fit": null,
            "object_position": null,
            "order": null,
            "overflow": null,
            "overflow_x": null,
            "overflow_y": null,
            "padding": null,
            "right": null,
            "top": null,
            "visibility": null,
            "width": null
          }
        },
        "82ae1bbaf03749138470cf746b4b43bb": {
          "model_module": "@jupyter-widgets/controls",
          "model_name": "DescriptionStyleModel",
          "model_module_version": "1.5.0",
          "state": {
            "_model_module": "@jupyter-widgets/controls",
            "_model_module_version": "1.5.0",
            "_model_name": "DescriptionStyleModel",
            "_view_count": null,
            "_view_module": "@jupyter-widgets/base",
            "_view_module_version": "1.2.0",
            "_view_name": "StyleView",
            "description_width": ""
          }
        },
        "a6cb437ec78046b98c68dfa92c54d698": {
          "model_module": "@jupyter-widgets/controls",
          "model_name": "HBoxModel",
          "model_module_version": "1.5.0",
          "state": {
            "_dom_classes": [],
            "_model_module": "@jupyter-widgets/controls",
            "_model_module_version": "1.5.0",
            "_model_name": "HBoxModel",
            "_view_count": null,
            "_view_module": "@jupyter-widgets/controls",
            "_view_module_version": "1.5.0",
            "_view_name": "HBoxView",
            "box_style": "",
            "children": [
              "IPY_MODEL_b3b344c0e6e648de9f9f0a36b550e5fb",
              "IPY_MODEL_caa7adfc54d7425183b342956948c2b7",
              "IPY_MODEL_b7f09e8c4f2042f186a3a1ba691029ad"
            ],
            "layout": "IPY_MODEL_4000f7a6a7154fd3a04ea98e2e01a615"
          }
        },
        "b3b344c0e6e648de9f9f0a36b550e5fb": {
          "model_module": "@jupyter-widgets/controls",
          "model_name": "HTMLModel",
          "model_module_version": "1.5.0",
          "state": {
            "_dom_classes": [],
            "_model_module": "@jupyter-widgets/controls",
            "_model_module_version": "1.5.0",
            "_model_name": "HTMLModel",
            "_view_count": null,
            "_view_module": "@jupyter-widgets/controls",
            "_view_module_version": "1.5.0",
            "_view_name": "HTMLView",
            "description": "",
            "description_tooltip": null,
            "layout": "IPY_MODEL_3f62ce811c0a4daa9a11fd55a34c04c3",
            "placeholder": "​",
            "style": "IPY_MODEL_8a4fc29876ad4227aa0a807d79b24e97",
            "value": "Downloading: 100%"
          }
        },
        "caa7adfc54d7425183b342956948c2b7": {
          "model_module": "@jupyter-widgets/controls",
          "model_name": "FloatProgressModel",
          "model_module_version": "1.5.0",
          "state": {
            "_dom_classes": [],
            "_model_module": "@jupyter-widgets/controls",
            "_model_module_version": "1.5.0",
            "_model_name": "FloatProgressModel",
            "_view_count": null,
            "_view_module": "@jupyter-widgets/controls",
            "_view_module_version": "1.5.0",
            "_view_name": "ProgressView",
            "bar_style": "success",
            "description": "",
            "description_tooltip": null,
            "layout": "IPY_MODEL_3af35c62a3d54de9b23247f8e8e3c020",
            "max": 536063208,
            "min": 0,
            "orientation": "horizontal",
            "style": "IPY_MODEL_1237861d00a345b1a47477310988e5cc",
            "value": 536063208
          }
        },
        "b7f09e8c4f2042f186a3a1ba691029ad": {
          "model_module": "@jupyter-widgets/controls",
          "model_name": "HTMLModel",
          "model_module_version": "1.5.0",
          "state": {
            "_dom_classes": [],
            "_model_module": "@jupyter-widgets/controls",
            "_model_module_version": "1.5.0",
            "_model_name": "HTMLModel",
            "_view_count": null,
            "_view_module": "@jupyter-widgets/controls",
            "_view_module_version": "1.5.0",
            "_view_name": "HTMLView",
            "description": "",
            "description_tooltip": null,
            "layout": "IPY_MODEL_4ff63d85f8234b1fb2bc850db9a4e792",
            "placeholder": "​",
            "style": "IPY_MODEL_8ad832ffb390437eac06f5fd9ba6857d",
            "value": " 536M/536M [00:16&lt;00:00, 36.2MB/s]"
          }
        },
        "4000f7a6a7154fd3a04ea98e2e01a615": {
          "model_module": "@jupyter-widgets/base",
          "model_name": "LayoutModel",
          "model_module_version": "1.2.0",
          "state": {
            "_model_module": "@jupyter-widgets/base",
            "_model_module_version": "1.2.0",
            "_model_name": "LayoutModel",
            "_view_count": null,
            "_view_module": "@jupyter-widgets/base",
            "_view_module_version": "1.2.0",
            "_view_name": "LayoutView",
            "align_content": null,
            "align_items": null,
            "align_self": null,
            "border": null,
            "bottom": null,
            "display": null,
            "flex": null,
            "flex_flow": null,
            "grid_area": null,
            "grid_auto_columns": null,
            "grid_auto_flow": null,
            "grid_auto_rows": null,
            "grid_column": null,
            "grid_gap": null,
            "grid_row": null,
            "grid_template_areas": null,
            "grid_template_columns": null,
            "grid_template_rows": null,
            "height": null,
            "justify_content": null,
            "justify_items": null,
            "left": null,
            "margin": null,
            "max_height": null,
            "max_width": null,
            "min_height": null,
            "min_width": null,
            "object_fit": null,
            "object_position": null,
            "order": null,
            "overflow": null,
            "overflow_x": null,
            "overflow_y": null,
            "padding": null,
            "right": null,
            "top": null,
            "visibility": null,
            "width": null
          }
        },
        "3f62ce811c0a4daa9a11fd55a34c04c3": {
          "model_module": "@jupyter-widgets/base",
          "model_name": "LayoutModel",
          "model_module_version": "1.2.0",
          "state": {
            "_model_module": "@jupyter-widgets/base",
            "_model_module_version": "1.2.0",
            "_model_name": "LayoutModel",
            "_view_count": null,
            "_view_module": "@jupyter-widgets/base",
            "_view_module_version": "1.2.0",
            "_view_name": "LayoutView",
            "align_content": null,
            "align_items": null,
            "align_self": null,
            "border": null,
            "bottom": null,
            "display": null,
            "flex": null,
            "flex_flow": null,
            "grid_area": null,
            "grid_auto_columns": null,
            "grid_auto_flow": null,
            "grid_auto_rows": null,
            "grid_column": null,
            "grid_gap": null,
            "grid_row": null,
            "grid_template_areas": null,
            "grid_template_columns": null,
            "grid_template_rows": null,
            "height": null,
            "justify_content": null,
            "justify_items": null,
            "left": null,
            "margin": null,
            "max_height": null,
            "max_width": null,
            "min_height": null,
            "min_width": null,
            "object_fit": null,
            "object_position": null,
            "order": null,
            "overflow": null,
            "overflow_x": null,
            "overflow_y": null,
            "padding": null,
            "right": null,
            "top": null,
            "visibility": null,
            "width": null
          }
        },
        "8a4fc29876ad4227aa0a807d79b24e97": {
          "model_module": "@jupyter-widgets/controls",
          "model_name": "DescriptionStyleModel",
          "model_module_version": "1.5.0",
          "state": {
            "_model_module": "@jupyter-widgets/controls",
            "_model_module_version": "1.5.0",
            "_model_name": "DescriptionStyleModel",
            "_view_count": null,
            "_view_module": "@jupyter-widgets/base",
            "_view_module_version": "1.2.0",
            "_view_name": "StyleView",
            "description_width": ""
          }
        },
        "3af35c62a3d54de9b23247f8e8e3c020": {
          "model_module": "@jupyter-widgets/base",
          "model_name": "LayoutModel",
          "model_module_version": "1.2.0",
          "state": {
            "_model_module": "@jupyter-widgets/base",
            "_model_module_version": "1.2.0",
            "_model_name": "LayoutModel",
            "_view_count": null,
            "_view_module": "@jupyter-widgets/base",
            "_view_module_version": "1.2.0",
            "_view_name": "LayoutView",
            "align_content": null,
            "align_items": null,
            "align_self": null,
            "border": null,
            "bottom": null,
            "display": null,
            "flex": null,
            "flex_flow": null,
            "grid_area": null,
            "grid_auto_columns": null,
            "grid_auto_flow": null,
            "grid_auto_rows": null,
            "grid_column": null,
            "grid_gap": null,
            "grid_row": null,
            "grid_template_areas": null,
            "grid_template_columns": null,
            "grid_template_rows": null,
            "height": null,
            "justify_content": null,
            "justify_items": null,
            "left": null,
            "margin": null,
            "max_height": null,
            "max_width": null,
            "min_height": null,
            "min_width": null,
            "object_fit": null,
            "object_position": null,
            "order": null,
            "overflow": null,
            "overflow_x": null,
            "overflow_y": null,
            "padding": null,
            "right": null,
            "top": null,
            "visibility": null,
            "width": null
          }
        },
        "1237861d00a345b1a47477310988e5cc": {
          "model_module": "@jupyter-widgets/controls",
          "model_name": "ProgressStyleModel",
          "model_module_version": "1.5.0",
          "state": {
            "_model_module": "@jupyter-widgets/controls",
            "_model_module_version": "1.5.0",
            "_model_name": "ProgressStyleModel",
            "_view_count": null,
            "_view_module": "@jupyter-widgets/base",
            "_view_module_version": "1.2.0",
            "_view_name": "StyleView",
            "bar_color": null,
            "description_width": ""
          }
        },
        "4ff63d85f8234b1fb2bc850db9a4e792": {
          "model_module": "@jupyter-widgets/base",
          "model_name": "LayoutModel",
          "model_module_version": "1.2.0",
          "state": {
            "_model_module": "@jupyter-widgets/base",
            "_model_module_version": "1.2.0",
            "_model_name": "LayoutModel",
            "_view_count": null,
            "_view_module": "@jupyter-widgets/base",
            "_view_module_version": "1.2.0",
            "_view_name": "LayoutView",
            "align_content": null,
            "align_items": null,
            "align_self": null,
            "border": null,
            "bottom": null,
            "display": null,
            "flex": null,
            "flex_flow": null,
            "grid_area": null,
            "grid_auto_columns": null,
            "grid_auto_flow": null,
            "grid_auto_rows": null,
            "grid_column": null,
            "grid_gap": null,
            "grid_row": null,
            "grid_template_areas": null,
            "grid_template_columns": null,
            "grid_template_rows": null,
            "height": null,
            "justify_content": null,
            "justify_items": null,
            "left": null,
            "margin": null,
            "max_height": null,
            "max_width": null,
            "min_height": null,
            "min_width": null,
            "object_fit": null,
            "object_position": null,
            "order": null,
            "overflow": null,
            "overflow_x": null,
            "overflow_y": null,
            "padding": null,
            "right": null,
            "top": null,
            "visibility": null,
            "width": null
          }
        },
        "8ad832ffb390437eac06f5fd9ba6857d": {
          "model_module": "@jupyter-widgets/controls",
          "model_name": "DescriptionStyleModel",
          "model_module_version": "1.5.0",
          "state": {
            "_model_module": "@jupyter-widgets/controls",
            "_model_module_version": "1.5.0",
            "_model_name": "DescriptionStyleModel",
            "_view_count": null,
            "_view_module": "@jupyter-widgets/base",
            "_view_module_version": "1.2.0",
            "_view_name": "StyleView",
            "description_width": ""
          }
        }
      }
    }
  },
  "nbformat": 4,
  "nbformat_minor": 0
}